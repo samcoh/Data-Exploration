{
 "cells": [
  {
   "cell_type": "markdown",
   "metadata": {},
   "source": [
    "# Homework 2 \n",
    "\n",
    "### By: Samantha Cohen \n",
    "### Uniqname: samcoh"
   ]
  },
  {
   "cell_type": "markdown",
   "metadata": {},
   "source": [
    "## Imports: "
   ]
  },
  {
   "cell_type": "code",
   "execution_count": 1,
   "metadata": {},
   "outputs": [],
   "source": [
    "import numpy as np\n",
    "import pandas as pd\n",
    "\n",
    "from bokeh.layouts import layout\n",
    "from bokeh.layouts import widgetbox\n",
    "\n",
    "from bokeh.embed import file_html\n",
    "\n",
    "from bokeh.io import show\n",
    "from bokeh.io import output_notebook\n",
    "\n",
    "from bokeh.models import Text\n",
    "from bokeh.models import Plot\n",
    "from bokeh.models import Title\n",
    "from bokeh.models import Slider\n",
    "from bokeh.models import Circle\n",
    "from bokeh.models import Range1d\n",
    "from bokeh.models import CustomJS\n",
    "from bokeh.models import HoverTool\n",
    "from bokeh.models import LinearAxis\n",
    "from bokeh.models import ColumnDataSource\n",
    "from bokeh.models import SingleIntervalTicker\n",
    "from bokeh.plotting import figure\n",
    "#from bokeh.palettes import Spectral6\n",
    "from bokeh.palettes import plasma\n",
    "\n",
    "import seaborn as sns\n",
    "import matplotlib.pyplot as plt\n",
    "from scipy import stats \n"
   ]
  },
  {
   "cell_type": "markdown",
   "metadata": {},
   "source": [
    "## 1. Question Forumulation (6 points)\n",
    "\n",
    "Being able to formulate good questions is an important aspect of exploratory data analysis.  This part\n",
    "of the homework provides an opportunity for you to practice developing this skill.\n",
    "\n",
    "Generate three (3) authentic exploratory questions about the data, similar in nature to what was asked in the previous homework assignment's questions 5, 6, and the Bonus Question.  When contemplating which questions to pose, keep in mind that you should generate questions that can be answered using visualizations of the data.  Questions should be chosen to allow you to demonstrate your ability to both manipulate data and visualize it.  Selecting overly simplistic questions (e.g. \"What is the median age of female swimmers\") will not earn full points.\n",
    "\n",
    "Questions should start with \"I wonder...\".  For example:  \"I wonder how the number of different events in the Summer Olympics has changed over time\".\n",
    "\n",
    "We suggest working on question formulation in teams during class and asking peers and the teaching team for feedback.  You should also feel free to circle back after you work on your visualizations to rephrase or reframe your questions.\n",
    "\n",
    "\n",
    "## 2. Seaborn and Bokeh Visualizations (20 points)\n",
    "Create one or more Seaborn-based **and** one or more Bokeh-based visualizations that can provide visual answers to the questions you posed in the previous section.  A total of *at least* four (4) visualizations should be used, including one from each of Seaborn and Bokeh. If you create more than four visualizations, the best four will be\n",
    "counted.  The following rubric will be used for each visualization:\n",
    "\n",
    "* 5 points: Excellent visualization that goes beyond the basics covered in class.  Clear understanding of the visualization toolkit's functionality, typically learned from studying the documentation and/or examples from other sources.\n",
    "* 4 points: Good visualization that uses basic charting and plotting functions as covered in class.\n",
    "* 3 points: Acceptable visualization with some errors or omissions.  \n",
    "* 2 points: Perfunctory attempt at creating a visualization.\n",
    "\n",
    "\n",
    "\n",
    "\n"
   ]
  },
  {
   "cell_type": "code",
   "execution_count": 2,
   "metadata": {},
   "outputs": [
    {
     "data": {
      "text/html": [
       "\n",
       "    <div class=\"bk-root\">\n",
       "        <a href=\"https://bokeh.org\" target=\"_blank\" class=\"bk-logo bk-logo-small bk-logo-notebook\"></a>\n",
       "        <span id=\"1001\">Loading BokehJS ...</span>\n",
       "    </div>"
      ]
     },
     "metadata": {},
     "output_type": "display_data"
    },
    {
     "data": {
      "application/javascript": [
       "\n",
       "(function(root) {\n",
       "  function now() {\n",
       "    return new Date();\n",
       "  }\n",
       "\n",
       "  var force = true;\n",
       "\n",
       "  if (typeof root._bokeh_onload_callbacks === \"undefined\" || force === true) {\n",
       "    root._bokeh_onload_callbacks = [];\n",
       "    root._bokeh_is_loading = undefined;\n",
       "  }\n",
       "\n",
       "  var JS_MIME_TYPE = 'application/javascript';\n",
       "  var HTML_MIME_TYPE = 'text/html';\n",
       "  var EXEC_MIME_TYPE = 'application/vnd.bokehjs_exec.v0+json';\n",
       "  var CLASS_NAME = 'output_bokeh rendered_html';\n",
       "\n",
       "  /**\n",
       "   * Render data to the DOM node\n",
       "   */\n",
       "  function render(props, node) {\n",
       "    var script = document.createElement(\"script\");\n",
       "    node.appendChild(script);\n",
       "  }\n",
       "\n",
       "  /**\n",
       "   * Handle when an output is cleared or removed\n",
       "   */\n",
       "  function handleClearOutput(event, handle) {\n",
       "    var cell = handle.cell;\n",
       "\n",
       "    var id = cell.output_area._bokeh_element_id;\n",
       "    var server_id = cell.output_area._bokeh_server_id;\n",
       "    // Clean up Bokeh references\n",
       "    if (id != null && id in Bokeh.index) {\n",
       "      Bokeh.index[id].model.document.clear();\n",
       "      delete Bokeh.index[id];\n",
       "    }\n",
       "\n",
       "    if (server_id !== undefined) {\n",
       "      // Clean up Bokeh references\n",
       "      var cmd = \"from bokeh.io.state import curstate; print(curstate().uuid_to_server['\" + server_id + \"'].get_sessions()[0].document.roots[0]._id)\";\n",
       "      cell.notebook.kernel.execute(cmd, {\n",
       "        iopub: {\n",
       "          output: function(msg) {\n",
       "            var id = msg.content.text.trim();\n",
       "            if (id in Bokeh.index) {\n",
       "              Bokeh.index[id].model.document.clear();\n",
       "              delete Bokeh.index[id];\n",
       "            }\n",
       "          }\n",
       "        }\n",
       "      });\n",
       "      // Destroy server and session\n",
       "      var cmd = \"import bokeh.io.notebook as ion; ion.destroy_server('\" + server_id + \"')\";\n",
       "      cell.notebook.kernel.execute(cmd);\n",
       "    }\n",
       "  }\n",
       "\n",
       "  /**\n",
       "   * Handle when a new output is added\n",
       "   */\n",
       "  function handleAddOutput(event, handle) {\n",
       "    var output_area = handle.output_area;\n",
       "    var output = handle.output;\n",
       "\n",
       "    // limit handleAddOutput to display_data with EXEC_MIME_TYPE content only\n",
       "    if ((output.output_type != \"display_data\") || (!output.data.hasOwnProperty(EXEC_MIME_TYPE))) {\n",
       "      return\n",
       "    }\n",
       "\n",
       "    var toinsert = output_area.element.find(\".\" + CLASS_NAME.split(' ')[0]);\n",
       "\n",
       "    if (output.metadata[EXEC_MIME_TYPE][\"id\"] !== undefined) {\n",
       "      toinsert[toinsert.length - 1].firstChild.textContent = output.data[JS_MIME_TYPE];\n",
       "      // store reference to embed id on output_area\n",
       "      output_area._bokeh_element_id = output.metadata[EXEC_MIME_TYPE][\"id\"];\n",
       "    }\n",
       "    if (output.metadata[EXEC_MIME_TYPE][\"server_id\"] !== undefined) {\n",
       "      var bk_div = document.createElement(\"div\");\n",
       "      bk_div.innerHTML = output.data[HTML_MIME_TYPE];\n",
       "      var script_attrs = bk_div.children[0].attributes;\n",
       "      for (var i = 0; i < script_attrs.length; i++) {\n",
       "        toinsert[toinsert.length - 1].firstChild.setAttribute(script_attrs[i].name, script_attrs[i].value);\n",
       "      }\n",
       "      // store reference to server id on output_area\n",
       "      output_area._bokeh_server_id = output.metadata[EXEC_MIME_TYPE][\"server_id\"];\n",
       "    }\n",
       "  }\n",
       "\n",
       "  function register_renderer(events, OutputArea) {\n",
       "\n",
       "    function append_mime(data, metadata, element) {\n",
       "      // create a DOM node to render to\n",
       "      var toinsert = this.create_output_subarea(\n",
       "        metadata,\n",
       "        CLASS_NAME,\n",
       "        EXEC_MIME_TYPE\n",
       "      );\n",
       "      this.keyboard_manager.register_events(toinsert);\n",
       "      // Render to node\n",
       "      var props = {data: data, metadata: metadata[EXEC_MIME_TYPE]};\n",
       "      render(props, toinsert[toinsert.length - 1]);\n",
       "      element.append(toinsert);\n",
       "      return toinsert\n",
       "    }\n",
       "\n",
       "    /* Handle when an output is cleared or removed */\n",
       "    events.on('clear_output.CodeCell', handleClearOutput);\n",
       "    events.on('delete.Cell', handleClearOutput);\n",
       "\n",
       "    /* Handle when a new output is added */\n",
       "    events.on('output_added.OutputArea', handleAddOutput);\n",
       "\n",
       "    /**\n",
       "     * Register the mime type and append_mime function with output_area\n",
       "     */\n",
       "    OutputArea.prototype.register_mime_type(EXEC_MIME_TYPE, append_mime, {\n",
       "      /* Is output safe? */\n",
       "      safe: true,\n",
       "      /* Index of renderer in `output_area.display_order` */\n",
       "      index: 0\n",
       "    });\n",
       "  }\n",
       "\n",
       "  // register the mime type if in Jupyter Notebook environment and previously unregistered\n",
       "  if (root.Jupyter !== undefined) {\n",
       "    var events = require('base/js/events');\n",
       "    var OutputArea = require('notebook/js/outputarea').OutputArea;\n",
       "\n",
       "    if (OutputArea.prototype.mime_types().indexOf(EXEC_MIME_TYPE) == -1) {\n",
       "      register_renderer(events, OutputArea);\n",
       "    }\n",
       "  }\n",
       "\n",
       "  \n",
       "  if (typeof (root._bokeh_timeout) === \"undefined\" || force === true) {\n",
       "    root._bokeh_timeout = Date.now() + 5000;\n",
       "    root._bokeh_failed_load = false;\n",
       "  }\n",
       "\n",
       "  var NB_LOAD_WARNING = {'data': {'text/html':\n",
       "     \"<div style='background-color: #fdd'>\\n\"+\n",
       "     \"<p>\\n\"+\n",
       "     \"BokehJS does not appear to have successfully loaded. If loading BokehJS from CDN, this \\n\"+\n",
       "     \"may be due to a slow or bad network connection. Possible fixes:\\n\"+\n",
       "     \"</p>\\n\"+\n",
       "     \"<ul>\\n\"+\n",
       "     \"<li>re-rerun `output_notebook()` to attempt to load from CDN again, or</li>\\n\"+\n",
       "     \"<li>use INLINE resources instead, as so:</li>\\n\"+\n",
       "     \"</ul>\\n\"+\n",
       "     \"<code>\\n\"+\n",
       "     \"from bokeh.resources import INLINE\\n\"+\n",
       "     \"output_notebook(resources=INLINE)\\n\"+\n",
       "     \"</code>\\n\"+\n",
       "     \"</div>\"}};\n",
       "\n",
       "  function display_loaded() {\n",
       "    var el = document.getElementById(\"1001\");\n",
       "    if (el != null) {\n",
       "      el.textContent = \"BokehJS is loading...\";\n",
       "    }\n",
       "    if (root.Bokeh !== undefined) {\n",
       "      if (el != null) {\n",
       "        el.textContent = \"BokehJS \" + root.Bokeh.version + \" successfully loaded.\";\n",
       "      }\n",
       "    } else if (Date.now() < root._bokeh_timeout) {\n",
       "      setTimeout(display_loaded, 100)\n",
       "    }\n",
       "  }\n",
       "\n",
       "\n",
       "  function run_callbacks() {\n",
       "    try {\n",
       "      root._bokeh_onload_callbacks.forEach(function(callback) {\n",
       "        if (callback != null)\n",
       "          callback();\n",
       "      });\n",
       "    } finally {\n",
       "      delete root._bokeh_onload_callbacks\n",
       "    }\n",
       "    console.debug(\"Bokeh: all callbacks have finished\");\n",
       "  }\n",
       "\n",
       "  function load_libs(css_urls, js_urls, callback) {\n",
       "    if (css_urls == null) css_urls = [];\n",
       "    if (js_urls == null) js_urls = [];\n",
       "\n",
       "    root._bokeh_onload_callbacks.push(callback);\n",
       "    if (root._bokeh_is_loading > 0) {\n",
       "      console.debug(\"Bokeh: BokehJS is being loaded, scheduling callback at\", now());\n",
       "      return null;\n",
       "    }\n",
       "    if (js_urls == null || js_urls.length === 0) {\n",
       "      run_callbacks();\n",
       "      return null;\n",
       "    }\n",
       "    console.debug(\"Bokeh: BokehJS not loaded, scheduling load and callback at\", now());\n",
       "    root._bokeh_is_loading = css_urls.length + js_urls.length;\n",
       "\n",
       "    function on_load() {\n",
       "      root._bokeh_is_loading--;\n",
       "      if (root._bokeh_is_loading === 0) {\n",
       "        console.debug(\"Bokeh: all BokehJS libraries/stylesheets loaded\");\n",
       "        run_callbacks()\n",
       "      }\n",
       "    }\n",
       "\n",
       "    function on_error() {\n",
       "      console.error(\"failed to load \" + url);\n",
       "    }\n",
       "\n",
       "    for (var i = 0; i < css_urls.length; i++) {\n",
       "      var url = css_urls[i];\n",
       "      const element = document.createElement(\"link\");\n",
       "      element.onload = on_load;\n",
       "      element.onerror = on_error;\n",
       "      element.rel = \"stylesheet\";\n",
       "      element.type = \"text/css\";\n",
       "      element.href = url;\n",
       "      console.debug(\"Bokeh: injecting link tag for BokehJS stylesheet: \", url);\n",
       "      document.body.appendChild(element);\n",
       "    }\n",
       "\n",
       "    for (var i = 0; i < js_urls.length; i++) {\n",
       "      var url = js_urls[i];\n",
       "      var element = document.createElement('script');\n",
       "      element.onload = on_load;\n",
       "      element.onerror = on_error;\n",
       "      element.async = false;\n",
       "      element.src = url;\n",
       "      console.debug(\"Bokeh: injecting script tag for BokehJS library: \", url);\n",
       "      document.head.appendChild(element);\n",
       "    }\n",
       "  };var element = document.getElementById(\"1001\");\n",
       "  if (element == null) {\n",
       "    console.error(\"Bokeh: ERROR: autoload.js configured with elementid '1001' but no matching script tag was found. \")\n",
       "    return false;\n",
       "  }\n",
       "\n",
       "  function inject_raw_css(css) {\n",
       "    const element = document.createElement(\"style\");\n",
       "    element.appendChild(document.createTextNode(css));\n",
       "    document.body.appendChild(element);\n",
       "  }\n",
       "\n",
       "  \n",
       "  var js_urls = [\"https://cdn.pydata.org/bokeh/release/bokeh-1.4.0.min.js\", \"https://cdn.pydata.org/bokeh/release/bokeh-widgets-1.4.0.min.js\", \"https://cdn.pydata.org/bokeh/release/bokeh-tables-1.4.0.min.js\", \"https://cdn.pydata.org/bokeh/release/bokeh-gl-1.4.0.min.js\"];\n",
       "  var css_urls = [];\n",
       "  \n",
       "\n",
       "  var inline_js = [\n",
       "    function(Bokeh) {\n",
       "      Bokeh.set_log_level(\"info\");\n",
       "    },\n",
       "    function(Bokeh) {\n",
       "    \n",
       "    \n",
       "    }\n",
       "  ];\n",
       "\n",
       "  function run_inline_js() {\n",
       "    \n",
       "    if (root.Bokeh !== undefined || force === true) {\n",
       "      \n",
       "    for (var i = 0; i < inline_js.length; i++) {\n",
       "      inline_js[i].call(root, root.Bokeh);\n",
       "    }\n",
       "    if (force === true) {\n",
       "        display_loaded();\n",
       "      }} else if (Date.now() < root._bokeh_timeout) {\n",
       "      setTimeout(run_inline_js, 100);\n",
       "    } else if (!root._bokeh_failed_load) {\n",
       "      console.log(\"Bokeh: BokehJS failed to load within specified timeout.\");\n",
       "      root._bokeh_failed_load = true;\n",
       "    } else if (force !== true) {\n",
       "      var cell = $(document.getElementById(\"1001\")).parents('.cell').data().cell;\n",
       "      cell.output_area.append_execute_result(NB_LOAD_WARNING)\n",
       "    }\n",
       "\n",
       "  }\n",
       "\n",
       "  if (root._bokeh_is_loading === 0) {\n",
       "    console.debug(\"Bokeh: BokehJS loaded, going straight to plotting\");\n",
       "    run_inline_js();\n",
       "  } else {\n",
       "    load_libs(css_urls, js_urls, function() {\n",
       "      console.debug(\"Bokeh: BokehJS plotting callback run at\", now());\n",
       "      run_inline_js();\n",
       "    });\n",
       "  }\n",
       "}(window));"
      ],
      "application/vnd.bokehjs_load.v0+json": "\n(function(root) {\n  function now() {\n    return new Date();\n  }\n\n  var force = true;\n\n  if (typeof root._bokeh_onload_callbacks === \"undefined\" || force === true) {\n    root._bokeh_onload_callbacks = [];\n    root._bokeh_is_loading = undefined;\n  }\n\n  \n\n  \n  if (typeof (root._bokeh_timeout) === \"undefined\" || force === true) {\n    root._bokeh_timeout = Date.now() + 5000;\n    root._bokeh_failed_load = false;\n  }\n\n  var NB_LOAD_WARNING = {'data': {'text/html':\n     \"<div style='background-color: #fdd'>\\n\"+\n     \"<p>\\n\"+\n     \"BokehJS does not appear to have successfully loaded. If loading BokehJS from CDN, this \\n\"+\n     \"may be due to a slow or bad network connection. Possible fixes:\\n\"+\n     \"</p>\\n\"+\n     \"<ul>\\n\"+\n     \"<li>re-rerun `output_notebook()` to attempt to load from CDN again, or</li>\\n\"+\n     \"<li>use INLINE resources instead, as so:</li>\\n\"+\n     \"</ul>\\n\"+\n     \"<code>\\n\"+\n     \"from bokeh.resources import INLINE\\n\"+\n     \"output_notebook(resources=INLINE)\\n\"+\n     \"</code>\\n\"+\n     \"</div>\"}};\n\n  function display_loaded() {\n    var el = document.getElementById(\"1001\");\n    if (el != null) {\n      el.textContent = \"BokehJS is loading...\";\n    }\n    if (root.Bokeh !== undefined) {\n      if (el != null) {\n        el.textContent = \"BokehJS \" + root.Bokeh.version + \" successfully loaded.\";\n      }\n    } else if (Date.now() < root._bokeh_timeout) {\n      setTimeout(display_loaded, 100)\n    }\n  }\n\n\n  function run_callbacks() {\n    try {\n      root._bokeh_onload_callbacks.forEach(function(callback) {\n        if (callback != null)\n          callback();\n      });\n    } finally {\n      delete root._bokeh_onload_callbacks\n    }\n    console.debug(\"Bokeh: all callbacks have finished\");\n  }\n\n  function load_libs(css_urls, js_urls, callback) {\n    if (css_urls == null) css_urls = [];\n    if (js_urls == null) js_urls = [];\n\n    root._bokeh_onload_callbacks.push(callback);\n    if (root._bokeh_is_loading > 0) {\n      console.debug(\"Bokeh: BokehJS is being loaded, scheduling callback at\", now());\n      return null;\n    }\n    if (js_urls == null || js_urls.length === 0) {\n      run_callbacks();\n      return null;\n    }\n    console.debug(\"Bokeh: BokehJS not loaded, scheduling load and callback at\", now());\n    root._bokeh_is_loading = css_urls.length + js_urls.length;\n\n    function on_load() {\n      root._bokeh_is_loading--;\n      if (root._bokeh_is_loading === 0) {\n        console.debug(\"Bokeh: all BokehJS libraries/stylesheets loaded\");\n        run_callbacks()\n      }\n    }\n\n    function on_error() {\n      console.error(\"failed to load \" + url);\n    }\n\n    for (var i = 0; i < css_urls.length; i++) {\n      var url = css_urls[i];\n      const element = document.createElement(\"link\");\n      element.onload = on_load;\n      element.onerror = on_error;\n      element.rel = \"stylesheet\";\n      element.type = \"text/css\";\n      element.href = url;\n      console.debug(\"Bokeh: injecting link tag for BokehJS stylesheet: \", url);\n      document.body.appendChild(element);\n    }\n\n    for (var i = 0; i < js_urls.length; i++) {\n      var url = js_urls[i];\n      var element = document.createElement('script');\n      element.onload = on_load;\n      element.onerror = on_error;\n      element.async = false;\n      element.src = url;\n      console.debug(\"Bokeh: injecting script tag for BokehJS library: \", url);\n      document.head.appendChild(element);\n    }\n  };var element = document.getElementById(\"1001\");\n  if (element == null) {\n    console.error(\"Bokeh: ERROR: autoload.js configured with elementid '1001' but no matching script tag was found. \")\n    return false;\n  }\n\n  function inject_raw_css(css) {\n    const element = document.createElement(\"style\");\n    element.appendChild(document.createTextNode(css));\n    document.body.appendChild(element);\n  }\n\n  \n  var js_urls = [\"https://cdn.pydata.org/bokeh/release/bokeh-1.4.0.min.js\", \"https://cdn.pydata.org/bokeh/release/bokeh-widgets-1.4.0.min.js\", \"https://cdn.pydata.org/bokeh/release/bokeh-tables-1.4.0.min.js\", \"https://cdn.pydata.org/bokeh/release/bokeh-gl-1.4.0.min.js\"];\n  var css_urls = [];\n  \n\n  var inline_js = [\n    function(Bokeh) {\n      Bokeh.set_log_level(\"info\");\n    },\n    function(Bokeh) {\n    \n    \n    }\n  ];\n\n  function run_inline_js() {\n    \n    if (root.Bokeh !== undefined || force === true) {\n      \n    for (var i = 0; i < inline_js.length; i++) {\n      inline_js[i].call(root, root.Bokeh);\n    }\n    if (force === true) {\n        display_loaded();\n      }} else if (Date.now() < root._bokeh_timeout) {\n      setTimeout(run_inline_js, 100);\n    } else if (!root._bokeh_failed_load) {\n      console.log(\"Bokeh: BokehJS failed to load within specified timeout.\");\n      root._bokeh_failed_load = true;\n    } else if (force !== true) {\n      var cell = $(document.getElementById(\"1001\")).parents('.cell').data().cell;\n      cell.output_area.append_execute_result(NB_LOAD_WARNING)\n    }\n\n  }\n\n  if (root._bokeh_is_loading === 0) {\n    console.debug(\"Bokeh: BokehJS loaded, going straight to plotting\");\n    run_inline_js();\n  } else {\n    load_libs(css_urls, js_urls, function() {\n      console.debug(\"Bokeh: BokehJS plotting callback run at\", now());\n      run_inline_js();\n    });\n  }\n}(window));"
     },
     "metadata": {},
     "output_type": "display_data"
    }
   ],
   "source": [
    "output_notebook()"
   ]
  },
  {
   "cell_type": "markdown",
   "metadata": {},
   "source": [
    "# Load Dataset "
   ]
  },
  {
   "cell_type": "code",
   "execution_count": 3,
   "metadata": {},
   "outputs": [],
   "source": [
    "olympic_games = pd.read_csv('https://bit.ly/2lUIi5P')\n",
    "olympic_games =olympic_games.set_index('ID') #made ID the index "
   ]
  },
  {
   "cell_type": "markdown",
   "metadata": {},
   "source": [
    "##### Explanation: \n",
    "I used the read_csv method in pandas to read in the data from the link provided: https://bit.ly/2lUIi5P . I then made the column ID the index in the DataFrame olympic_games  by using the method set_index. "
   ]
  },
  {
   "cell_type": "markdown",
   "metadata": {},
   "source": [
    "# a) How does athlete participation in the Winter Olympic games vary over time? \n",
    "\n",
    "In other words, for each year in the dataset count the number of athletes that participated in the winter olympic games. It will be interesting to see how participation in the Winter Olympic Games has varied over time. "
   ]
  },
  {
   "cell_type": "markdown",
   "metadata": {},
   "source": [
    "#### 1) Filter the data to only show winter olympic games "
   ]
  },
  {
   "cell_type": "code",
   "execution_count": 4,
   "metadata": {},
   "outputs": [],
   "source": [
    "olympic_games_winter =olympic_games[olympic_games[\"Season\"] == \"Winter\"]"
   ]
  },
  {
   "cell_type": "markdown",
   "metadata": {},
   "source": [
    "#### 2) Find the Number of athletes that have participated in the Winter Olympic games each year "
   ]
  },
  {
   "cell_type": "code",
   "execution_count": 5,
   "metadata": {},
   "outputs": [],
   "source": [
    "year_and_number_of_athletes= olympic_games_winter \\\n",
    "    .groupby([\"Year\"])[\"Name\"] \\\n",
    "    .count() \\\n",
    "    .reset_index(name = \"Number_of_Athletes\") \\\n",
    "    .sort_values(\"Year\")"
   ]
  },
  {
   "cell_type": "code",
   "execution_count": 6,
   "metadata": {},
   "outputs": [],
   "source": [
    "#year_and_number_of_athletes"
   ]
  },
  {
   "cell_type": "markdown",
   "metadata": {},
   "source": [
    "#### 3) Create Visualizations "
   ]
  },
  {
   "cell_type": "code",
   "execution_count": 7,
   "metadata": {},
   "outputs": [
    {
     "data": {
      "image/png": "[encoded data removed]",
      "text/plain": [
       "<Figure size 1296x864 with 1 Axes>"
      ]
     },
     "metadata": {
      "needs_background": "light"
     },
     "output_type": "display_data"
    }
   ],
   "source": [
    "\n",
    "fig, ax = plt.subplots()\n",
    "sns.set(font_scale=1.4)\n",
    "plot = sns.regplot(x=\"Year\", y=\"Number_of_Athletes\", marker =\"o\",\n",
    "                data = year_and_number_of_athletes, fit_reg =False) \\\n",
    "    .set_title(\"Number of Athletes by Year for Winter Olympic Games\")\n",
    "\n",
    "#controling range of x-axis \n",
    "ax.set_xlim(1924,2016)\n",
    "ax.set_xticks(range(1920,2018,4))\n",
    "\n",
    "#controlling range of y-axis \n",
    "ax.set_ylim(0,5000)\n",
    "ax.set_yticks(range(100,5100,200))\n",
    "\n",
    "#controling size  of fig  \n",
    "fig.set_size_inches(18,12)\n",
    "\n",
    "#using matplotlib to  control the rotation of the x-axis ticks \n",
    "plt.xticks(rotation=45) \n",
    "\n",
    "plt.show()\n"
   ]
  },
  {
   "cell_type": "markdown",
   "metadata": {},
   "source": [
    "### Explanation: \n",
    "The above visualization uses the regpot, linear regression plot offered by seaborn, and matplotlib functionality to plot the data. I chose  to use this visualization because it demonstrates well the relationship between number of athletes and year(time). I set the x-axis range to show values every 4 years starting in 1920 up until 2016. I did this because typically the Olympic Games happen every 4 years. I also saw that the Olympic Winter games data began in 1924. After doing some research, before 1924 there was no winter olympic games so this explains the lack of Olympic Winter games data until 1924. \n",
    "\n",
    "\n",
    "*Findings*: \n",
    "\n",
    "You can see that there is a gap on the x-axis between 1940 and 1944. This at first seemed weird to me because it appears that the every 4 years since 1924 the Olympic Games were held. After doing some reasearch, I found out the Olympic Games were cancelled due to World War II (https://en.wikipedia.org/wiki/Winter_Olympic_Games). As well, in the year 1986 the Olympic committee decided to hold events every 2 Years (switching between Summer and Winter Olympic Games). The Winter games started their own 4 year cycle beginning in 1994. That is why the data shows that there was an olympic games in 1994, 2 years after the 1992 Winter olympic games. After 1994, the olympic have been held constantly every 4 years. \n",
    "\n",
    "As well, I found that participation in the winter Olympic Games has overall increased since the start of the Winter Olympics in 1924. Although, it is important to note that participation among Athletes does not necessarily increase every Olympic Year. For example, in 1956 their was a higher participation among athletes in the Olympics than in the year in 1960. \n",
    "\n",
    "\n",
    "*Sources*: \n",
    "\n",
    "\n",
    "In order to figure out how to rescale the x axis and change the font size I did some research online. Below are the links I used to help me. \n",
    "\n",
    "\n",
    "- source to help with x-axis range: https://stackoverflow.com/questions/54822884/how-to-change-the-x-axis-range-in-seaborn-in-python#targetText=By%20default%20the%20seaborn%20displaces,5%20to%2035%20in%20distplots.\n",
    "\n",
    "- Source for relplot changing the font size: \n",
    "https://stackoverflow.com/questions/25328003/how-can-i-change-the-font-size-using-seaborn-facetgrid\n",
    "\n"
   ]
  },
  {
   "cell_type": "code",
   "execution_count": 8,
   "metadata": {},
   "outputs": [
    {
     "data": {
      "text/plain": [
       "Text(0.5, 1.0, 'Number of Athletes by Year in the Winter Olympic Games')"
      ]
     },
     "execution_count": 8,
     "metadata": {},
     "output_type": "execute_result"
    },
    {
     "data": {
      "image/png": "[encoded data removed]",
      "text/plain": [
       "<Figure size 787.315x576 with 1 Axes>"
      ]
     },
     "metadata": {},
     "output_type": "display_data"
    }
   ],
   "source": [
    "sns.set_style(\"ticks\")\n",
    "with sns.plotting_context(font_scale=25):\n",
    "    plot = sns.relplot(x=\"Year\",y=\"Number_of_Athletes\", size=\"Number_of_Athletes\", hue = \"Number_of_Athletes\",\n",
    "            sizes=(70, 700), alpha=.5, palette = \"rainbow_r\",\n",
    "            height=8, legend = \"brief\", data=year_and_number_of_athletes).set_axis_labels(\"Year\", \"Number of Athletes\")\n",
    "\n",
    "\n",
    "# rc={\"font.size\":10,\"axes.labelsize\":10}\n",
    "#plot.set_size_inches(18,10)\n",
    "#alpha: shade \n",
    "\n",
    "#replot is a facetgrid in Seaborn \n",
    "plt.title('Number of Athletes by Year in the Winter Olympic Games')#https://stackoverflow.com/questions/29813694/how-to-add-a-title-to-seaborn-facet-plot\n"
   ]
  },
  {
   "cell_type": "markdown",
   "metadata": {},
   "source": [
    "### Explanation: \n",
    "\n",
    "Above I used matplotlib and seaborn to create a relplot, which is a Figure-level interface for drawing relational plots onto a FacetGrid. I set the legend to be equal to brief so the audience can see the color bins and sizes more clearly. If the number of Olympic participants is small the color will be red. A shift in shade, for example going from red to orange, and larger bubble size, indicates an increase in participation in the Winter Olympics. This plot makes it easy to see that there has been an increase in participation in the Winter Olympic games overtime. The colors of the bubbles help the audience see the years that have higher or lower participation. Without the colors, the slight changes in bubble sizes might not be as noticable to the viewer. \n",
    "\n",
    "The colors and sizes of the bubbles helps the audience to see the level of participation for each year of the olympics. If the color is red this indicates a low level of participation. The color purple indicates a high level of participation in the Olympics. The shade of the bubbles change to orange and increase in size in the late 1940s and late 1950s. In the late 1960s and  1980s you can see the bubble sizes increase and go from yellow to green. in the 1990s there is a shift in bubble color from green to blue. After the 2000s, the bubbles get even larger and shift to the color purple. This demonstrates clearly that there has been an overall increase in athletic participation in the Winter Olympics since the first Winter Olympics in 1924.  \n",
    "\n",
    "*Sources*: \n",
    "I used outside sources to figure out how to change the font size of the graph:\n",
    "- https://stackoverflow.com/questions/25328003/how-can-i-change-the-font-size-using-seaborn-facetgrid\n",
    "\n"
   ]
  },
  {
   "cell_type": "markdown",
   "metadata": {},
   "source": [
    "## b) I wonder if the median height of Male and Female basketball athletes  have changed over the years since the start of the data set. \n"
   ]
  },
  {
   "cell_type": "code",
   "execution_count": 9,
   "metadata": {},
   "outputs": [
    {
     "data": {
      "text/plain": [
       "array([\"Basketball Men's Basketball\", \"Basketball Women's Basketball\"],\n",
       "      dtype=object)"
      ]
     },
     "execution_count": 9,
     "metadata": {},
     "output_type": "execute_result"
    }
   ],
   "source": [
    "basketball_events = olympic_games[olympic_games[\"Sport\"] == \"Basketball\"][\"Event\"].unique()\n",
    "basketball_events"
   ]
  },
  {
   "cell_type": "markdown",
   "metadata": {},
   "source": [
    "#### Explanation: \n",
    "Two events in basketball: \"Basketball Men's Basketball\", \"Basketball Women's Basketball\""
   ]
  },
  {
   "cell_type": "markdown",
   "metadata": {},
   "source": [
    "#### 1) Filter the data to only show where the Sport is equal to Basketball "
   ]
  },
  {
   "cell_type": "code",
   "execution_count": 10,
   "metadata": {},
   "outputs": [],
   "source": [
    "basketball_games = olympic_games[olympic_games[\"Sport\"] == \"Basketball\"]"
   ]
  },
  {
   "cell_type": "markdown",
   "metadata": {},
   "source": [
    "#### 2) For each Year get the Median and Average Height for both Male and Female Basketball athletes\n",
    "\n",
    "- I got average as well because I thought it would be interesting data to include in my hovertool (for the visualization created below)"
   ]
  },
  {
   "cell_type": "code",
   "execution_count": 11,
   "metadata": {},
   "outputs": [],
   "source": [
    "heights = basketball_games.groupby([\"Year\", \"Sex\"])[\"Height\"].mean().reset_index(name = \"Average_Height\")\n",
    "median_height = basketball_games.groupby([\"Year\",\"Sex\"])[\"Height\"].median().reset_index(name = \"Median_Height\")\n",
    "heights = heights.merge(median_height, on = [\"Year\",\"Sex\"], how = \"inner\")"
   ]
  },
  {
   "cell_type": "markdown",
   "metadata": {},
   "source": [
    "#### 3) Create Visualization "
   ]
  },
  {
   "cell_type": "code",
   "execution_count": 12,
   "metadata": {},
   "outputs": [
    {
     "data": {
      "text/html": [
       "\n",
       "\n",
       "\n",
       "\n",
       "\n",
       "\n",
       "  <div class=\"bk-root\" id=\"3040f6bd-5a0d-41a4-8368-5f27f83bed12\" data-root-id=\"1003\"></div>\n"
      ]
     },
     "metadata": {},
     "output_type": "display_data"
    },
    {
     "data": {
      "application/javascript": [
       "(function(root) {\n",
       "  function embed_document(root) {\n",
       "    \n",
       "  var docs_json = {\"7d498004-7c7f-44eb-8cfe-22441237c40a\":{\"roots\":{\"references\":[{\"attributes\":{\"below\":[{\"id\":\"1013\",\"type\":\"LinearAxis\"}],\"left\":[{\"id\":\"1018\",\"type\":\"LinearAxis\"}],\"plot_height\":400,\"renderers\":[{\"id\":\"1013\",\"type\":\"LinearAxis\"},{\"id\":\"1017\",\"type\":\"Grid\"},{\"id\":\"1018\",\"type\":\"LinearAxis\"},{\"id\":\"1022\",\"type\":\"Grid\"},{\"id\":\"1028\",\"type\":\"BoxAnnotation\"},{\"id\":\"1031\",\"type\":\"PolyAnnotation\"},{\"id\":\"1034\",\"type\":\"PolyAnnotation\"},{\"id\":\"1055\",\"type\":\"Legend\"},{\"id\":\"1045\",\"type\":\"GlyphRenderer\"},{\"id\":\"1062\",\"type\":\"GlyphRenderer\"}],\"title\":{\"id\":\"1002\",\"type\":\"Title\"},\"toolbar\":{\"id\":\"1030\",\"type\":\"Toolbar\"},\"x_range\":{\"id\":\"1005\",\"type\":\"DataRange1d\"},\"x_scale\":{\"id\":\"1009\",\"type\":\"LinearScale\"},\"y_range\":{\"id\":\"1007\",\"type\":\"DataRange1d\"},\"y_scale\":{\"id\":\"1011\",\"type\":\"LinearScale\"}},\"id\":\"1003\",\"subtype\":\"Figure\",\"type\":\"Plot\"},{\"attributes\":{\"dimension\":1,\"plot\":{\"id\":\"1003\",\"subtype\":\"Figure\",\"type\":\"Plot\"},\"ticker\":{\"id\":\"1019\",\"type\":\"BasicTicker\"}},\"id\":\"1022\",\"type\":\"Grid\"},{\"attributes\":{\"bottom_units\":\"screen\",\"fill_alpha\":{\"value\":0.5},\"fill_color\":{\"value\":\"lightgrey\"},\"left_units\":\"screen\",\"level\":\"overlay\",\"line_alpha\":{\"value\":1.0},\"line_color\":{\"value\":\"black\"},\"line_dash\":[4,4],\"line_width\":{\"value\":2},\"plot\":null,\"render_mode\":\"css\",\"right_units\":\"screen\",\"top_units\":\"screen\"},\"id\":\"1028\",\"type\":\"BoxAnnotation\"},{\"attributes\":{},\"id\":\"1050\",\"type\":\"BasicTickFormatter\"},{\"attributes\":{\"label\":{\"field\":\"Sex\"},\"renderers\":[{\"id\":\"1045\",\"type\":\"GlyphRenderer\"}]},\"id\":\"1056\",\"type\":\"LegendItem\"},{\"attributes\":{\"callback\":null,\"data\":{\"Average_Height\":{\"__ndarray__\":\"VVVVVVVFZkDHcRzHcYhmQLhLPRm/vWZAsMACCyywZkAofdInfeJmQJsDiVbYzGZAjd8u9WTMZkAeofpMW+NmQCLDvQpm6WZAvgpmSTkAZ0CamZmZmelmQA==\",\"dtype\":\"float64\",\"shape\":[11]},\"Median_Height\":{\"__ndarray__\":\"AAAAAABAZkAAAAAAALBmQAAAAAAAwGZAAAAAAADAZkAAAAAAANBmQAAAAAAAwGZAAAAAAADAZkAAAAAAAOBmQAAAAAAAAGdAAAAAAAAgZ0AAAAAAABBnQA==\",\"dtype\":\"float64\",\"shape\":[11]},\"Sex\":[\"F\",\"F\",\"F\",\"F\",\"F\",\"F\",\"F\",\"F\",\"F\",\"F\",\"F\"],\"Year\":[1976,1980,1984,1988,1992,1996,2000,2004,2008,2012,2016],\"index\":[8,10,12,14,16,18,20,22,24,26,28]},\"selected\":{\"id\":\"1070\",\"type\":\"Selection\"},\"selection_policy\":{\"id\":\"1069\",\"type\":\"UnionRenderers\"}},\"id\":\"1040\",\"type\":\"ColumnDataSource\"},{\"attributes\":{\"callback\":null,\"overlay\":{\"id\":\"1028\",\"type\":\"BoxAnnotation\"}},\"id\":\"1023\",\"type\":\"BoxSelectTool\"},{\"attributes\":{},\"id\":\"1084\",\"type\":\"UnionRenderers\"},{\"attributes\":{\"callback\":null,\"overlay\":{\"id\":\"1031\",\"type\":\"PolyAnnotation\"}},\"id\":\"1024\",\"type\":\"LassoSelectTool\"},{\"attributes\":{\"callback\":null,\"overlay\":{\"id\":\"1034\",\"type\":\"PolyAnnotation\"}},\"id\":\"1025\",\"type\":\"PolySelectTool\"},{\"attributes\":{\"fill_color\":{\"value\":\"black\"},\"size\":{\"units\":\"screen\",\"value\":15},\"x\":{\"field\":\"Year\"},\"y\":{\"field\":\"Median_Height\"}},\"id\":\"1061\",\"type\":\"Circle\"},{\"attributes\":{\"callback\":null,\"tooltips\":[[\"Average Height\",\"@Average_Height\"],[\"Median_Height\",\"@Median_Height\"],[\"Year\",\"@Year\"],[\"Sex\",\"@Sex\"]]},\"id\":\"1075\",\"type\":\"HoverTool\"},{\"attributes\":{\"callback\":null},\"id\":\"1026\",\"type\":\"TapTool\"},{\"attributes\":{},\"id\":\"1027\",\"type\":\"ResetTool\"},{\"attributes\":{},\"id\":\"1085\",\"type\":\"Selection\"},{\"attributes\":{\"plot\":null,\"text\":\"Average Height Male versus Average Height Female for each Year of the Winter Olympics\"},\"id\":\"1002\",\"type\":\"Title\"},{\"attributes\":{\"items\":[{\"id\":\"1056\",\"type\":\"LegendItem\"},{\"id\":\"1074\",\"type\":\"LegendItem\"}],\"location\":\"top_left\",\"plot\":{\"id\":\"1003\",\"subtype\":\"Figure\",\"type\":\"Plot\"}},\"id\":\"1055\",\"type\":\"Legend\"},{\"attributes\":{\"fill_alpha\":{\"value\":0.5},\"fill_color\":{\"value\":\"lightgrey\"},\"level\":\"overlay\",\"line_alpha\":{\"value\":1.0},\"line_color\":{\"value\":\"black\"},\"line_dash\":[4,4],\"line_width\":{\"value\":2},\"plot\":null,\"xs_units\":\"screen\",\"ys_units\":\"screen\"},\"id\":\"1031\",\"type\":\"PolyAnnotation\"},{\"attributes\":{\"callback\":null},\"id\":\"1005\",\"type\":\"DataRange1d\"},{\"attributes\":{\"fill_alpha\":{\"value\":0.1},\"fill_color\":{\"value\":\"#1f77b4\"},\"line_alpha\":{\"value\":0.1},\"line_color\":{\"value\":\"#1f77b4\"},\"size\":{\"units\":\"screen\",\"value\":15},\"x\":{\"field\":\"Year\"},\"y\":{\"field\":\"Median_Height\"}},\"id\":\"1060\",\"type\":\"Circle\"},{\"attributes\":{\"fill_alpha\":{\"value\":0.5},\"fill_color\":{\"value\":\"lightgrey\"},\"level\":\"overlay\",\"line_alpha\":{\"value\":1.0},\"line_color\":{\"value\":\"black\"},\"line_dash\":[4,4],\"line_width\":{\"value\":2},\"plot\":null,\"xs_units\":\"screen\",\"ys_units\":\"screen\"},\"id\":\"1034\",\"type\":\"PolyAnnotation\"},{\"attributes\":{\"callback\":null},\"id\":\"1007\",\"type\":\"DataRange1d\"},{\"attributes\":{\"fill_color\":{\"value\":\"blue\"},\"line_color\":{\"value\":\"blue\"},\"size\":{\"units\":\"screen\",\"value\":15},\"x\":{\"field\":\"Year\"},\"y\":{\"field\":\"Median_Height\"}},\"id\":\"1059\",\"type\":\"Circle\"},{\"attributes\":{\"callback\":null,\"data\":{\"Average_Height\":{\"__ndarray__\":\"JrSX0F7SZkAlfkaJnzFnQDMzMzMzc2dAfn5+fn5eZ0CrqqqqKopnQNd1Xdd1vWdAFrKQhSy8Z0CkHSsQRipoQBCTK4jJdWhAsTmQaIWNaEBBohU2B7JoQDRtjb+bp2hAwinNiz/xaEA6YLfHWuZoQBzHcRzH72hAOY7jOI4DaUDHcRzHcQJpQMdxHMdxFGlAb4+1DB0QaUA=\",\"dtype\":\"float64\",\"shape\":[19]},\"Median_Height\":{\"__ndarray__\":\"AAAAAADgZkAAAAAAAOBmQAAAAAAAgGdAAAAAAABgZ0AAAAAAAKBnQAAAAAAAwGdAAAAAAADAZ0AAAAAAAEBoQAAAAAAAgGhAAAAAAACgaEAAAAAAAMBoQAAAAAAAoGhAAAAAAAAAaUAAAAAAAABpQAAAAAAAwGhAAAAAAAAAaUAAAAAAACBpQAAAAAAAUGlAAAAAAAAgaUA=\",\"dtype\":\"float64\",\"shape\":[19]},\"Sex\":[\"M\",\"M\",\"M\",\"M\",\"M\",\"M\",\"M\",\"M\",\"M\",\"M\",\"M\",\"M\",\"M\",\"M\",\"M\",\"M\",\"M\",\"M\",\"M\"],\"Year\":[1936,1948,1952,1956,1960,1964,1968,1972,1976,1980,1984,1988,1992,1996,2000,2004,2008,2012,2016],\"index\":[0,1,2,3,4,5,6,7,9,11,13,15,17,19,21,23,25,27,29]},\"selected\":{\"id\":\"1085\",\"type\":\"Selection\"},\"selection_policy\":{\"id\":\"1084\",\"type\":\"UnionRenderers\"}},\"id\":\"1057\",\"type\":\"ColumnDataSource\"},{\"attributes\":{\"active_drag\":\"auto\",\"active_inspect\":\"auto\",\"active_multi\":null,\"active_scroll\":\"auto\",\"active_tap\":\"auto\",\"tools\":[{\"id\":\"1023\",\"type\":\"BoxSelectTool\"},{\"id\":\"1024\",\"type\":\"LassoSelectTool\"},{\"id\":\"1025\",\"type\":\"PolySelectTool\"},{\"id\":\"1026\",\"type\":\"TapTool\"},{\"id\":\"1027\",\"type\":\"ResetTool\"},{\"id\":\"1075\",\"type\":\"HoverTool\"}]},\"id\":\"1030\",\"type\":\"Toolbar\"},{\"attributes\":{},\"id\":\"1009\",\"type\":\"LinearScale\"},{\"attributes\":{},\"id\":\"1048\",\"type\":\"BasicTickFormatter\"},{\"attributes\":{\"source\":{\"id\":\"1040\",\"type\":\"ColumnDataSource\"}},\"id\":\"1046\",\"type\":\"CDSView\"},{\"attributes\":{\"data_source\":{\"id\":\"1057\",\"type\":\"ColumnDataSource\"},\"glyph\":{\"id\":\"1059\",\"type\":\"Circle\"},\"hover_glyph\":{\"id\":\"1061\",\"type\":\"Circle\"},\"muted_glyph\":null,\"nonselection_glyph\":{\"id\":\"1060\",\"type\":\"Circle\"},\"selection_glyph\":null,\"view\":{\"id\":\"1063\",\"type\":\"CDSView\"}},\"id\":\"1062\",\"type\":\"GlyphRenderer\"},{\"attributes\":{},\"id\":\"1011\",\"type\":\"LinearScale\"},{\"attributes\":{\"data_source\":{\"id\":\"1040\",\"type\":\"ColumnDataSource\"},\"glyph\":{\"id\":\"1042\",\"type\":\"Circle\"},\"hover_glyph\":{\"id\":\"1044\",\"type\":\"Circle\"},\"muted_glyph\":null,\"nonselection_glyph\":{\"id\":\"1043\",\"type\":\"Circle\"},\"selection_glyph\":null,\"view\":{\"id\":\"1046\",\"type\":\"CDSView\"}},\"id\":\"1045\",\"type\":\"GlyphRenderer\"},{\"attributes\":{\"source\":{\"id\":\"1057\",\"type\":\"ColumnDataSource\"}},\"id\":\"1063\",\"type\":\"CDSView\"},{\"attributes\":{\"axis_label\":\"Year\",\"formatter\":{\"id\":\"1048\",\"type\":\"BasicTickFormatter\"},\"plot\":{\"id\":\"1003\",\"subtype\":\"Figure\",\"type\":\"Plot\"},\"ticker\":{\"id\":\"1014\",\"type\":\"BasicTicker\"}},\"id\":\"1013\",\"type\":\"LinearAxis\"},{\"attributes\":{},\"id\":\"1069\",\"type\":\"UnionRenderers\"},{\"attributes\":{},\"id\":\"1014\",\"type\":\"BasicTicker\"},{\"attributes\":{},\"id\":\"1070\",\"type\":\"Selection\"},{\"attributes\":{\"plot\":{\"id\":\"1003\",\"subtype\":\"Figure\",\"type\":\"Plot\"},\"ticker\":{\"id\":\"1014\",\"type\":\"BasicTicker\"}},\"id\":\"1017\",\"type\":\"Grid\"},{\"attributes\":{\"label\":{\"field\":\"Sex\"},\"renderers\":[{\"id\":\"1062\",\"type\":\"GlyphRenderer\"}]},\"id\":\"1074\",\"type\":\"LegendItem\"},{\"attributes\":{\"fill_alpha\":{\"value\":0.1},\"fill_color\":{\"value\":\"#1f77b4\"},\"line_alpha\":{\"value\":0.1},\"line_color\":{\"value\":\"#1f77b4\"},\"size\":{\"units\":\"screen\",\"value\":15},\"x\":{\"field\":\"Year\"},\"y\":{\"field\":\"Median_Height\"}},\"id\":\"1043\",\"type\":\"Circle\"},{\"attributes\":{\"fill_color\":{\"value\":\"black\"},\"size\":{\"units\":\"screen\",\"value\":15},\"x\":{\"field\":\"Year\"},\"y\":{\"field\":\"Median_Height\"}},\"id\":\"1044\",\"type\":\"Circle\"},{\"attributes\":{\"axis_label\":\"Median_Height\",\"formatter\":{\"id\":\"1050\",\"type\":\"BasicTickFormatter\"},\"plot\":{\"id\":\"1003\",\"subtype\":\"Figure\",\"type\":\"Plot\"},\"ticker\":{\"id\":\"1019\",\"type\":\"BasicTicker\"}},\"id\":\"1018\",\"type\":\"LinearAxis\"},{\"attributes\":{\"fill_color\":{\"value\":\"red\"},\"line_color\":{\"value\":\"red\"},\"size\":{\"units\":\"screen\",\"value\":15},\"x\":{\"field\":\"Year\"},\"y\":{\"field\":\"Median_Height\"}},\"id\":\"1042\",\"type\":\"Circle\"},{\"attributes\":{},\"id\":\"1019\",\"type\":\"BasicTicker\"}],\"root_ids\":[\"1003\"]},\"title\":\"Bokeh Application\",\"version\":\"1.0.4\"}};\n",
       "  var render_items = [{\"docid\":\"7d498004-7c7f-44eb-8cfe-22441237c40a\",\"roots\":{\"1003\":\"3040f6bd-5a0d-41a4-8368-5f27f83bed12\"}}];\n",
       "  root.Bokeh.embed.embed_items_notebook(docs_json, render_items);\n",
       "\n",
       "  }\n",
       "  if (root.Bokeh !== undefined) {\n",
       "    embed_document(root);\n",
       "  } else {\n",
       "    var attempts = 0;\n",
       "    var timer = setInterval(function(root) {\n",
       "      if (root.Bokeh !== undefined) {\n",
       "        embed_document(root);\n",
       "        clearInterval(timer);\n",
       "      }\n",
       "      attempts++;\n",
       "      if (attempts > 100) {\n",
       "        console.log(\"Bokeh: ERROR: Unable to run BokehJS code because BokehJS library is missing\");\n",
       "        clearInterval(timer);\n",
       "      }\n",
       "    }, 10, root)\n",
       "  }\n",
       "})(window);"
      ],
      "application/vnd.bokehjs_exec.v0+json": ""
     },
     "metadata": {
      "application/vnd.bokehjs_exec.v0+json": {
       "id": "1003"
      }
     },
     "output_type": "display_data"
    }
   ],
   "source": [
    "\n",
    "select_tools = ['box_select', 'lasso_select', 'poly_select', 'tap', 'reset']\n",
    "fig = figure(plot_height=400,\n",
    "             plot_width=600,\n",
    "             x_axis_label='Year',\n",
    "             y_axis_label='Median_Height',\n",
    "             title='Average Height Male versus Average Height Female for each Year of the Winter Olympics',\n",
    "             tools=select_tools)\n",
    "\n",
    "\n",
    "fig.circle('Year', 'Median_Height', \n",
    "           source=heights[heights[\"Sex\"]=='F'],\n",
    "           color='red',\n",
    "           size=15,\n",
    "           legend=\"Sex\", \n",
    "           hover_color=\"black\")\n",
    "fig.circle('Year', 'Median_Height', \n",
    "           source=heights[heights[\"Sex\"]=='M'],\n",
    "           color='blue',\n",
    "           size=15,\n",
    "           legend=\"Sex\",\n",
    "           hover_color=\"black\")\n",
    "tooltips = [\n",
    "            ('Average Height','@Average_Height'),\n",
    "            ('Median_Height', '@Median_Height'),\n",
    "            ('Year', '@Year'),\n",
    "            ('Sex', '@Sex')\n",
    "           ]\n",
    "\n",
    "# Add the HoverTool to the figure\n",
    "fig.add_tools(HoverTool(tooltips=tooltips))\n",
    "fig.legend.location = \"top_left\"\n",
    "\n",
    "# Visualize\n",
    "show(fig)\n"
   ]
  },
  {
   "cell_type": "markdown",
   "metadata": {},
   "source": [
    "#### Explanation: \n",
    "I chose to use Bokeh circle plot to show how the median height has changed over the years in the Olympic Games. I did this because I wanted to use the hovertool so the audience could hover over a point and get the statistics for that year. If a point is hovered over on the graph you can see the Year, Sex, Average Height, and Median Height. This offers a lot of useful information that would be harder to provide using the other visualizations modules we have learned. \n",
    "\n",
    "I also wanted to plot both Male and Female on the same graph, using different colors, so the viewers could compare the changes in  height over time between the two groups. \n",
    "\n",
    "The median height for males and females has overall increased overtime, but it looks like both groups are dropping off slightly in median height. \n",
    "\n",
    "Also from reviewing this visualization I found that the Female Basketball event was not apart of the Olympics until 1976. The Men's Basketball event started in 1936. Also, the tallest median year for women's basketball team was in the year 2012.  The median height was 185. For men, the tallest median year was also 2012. The Median height for this year was 202.500. It is interesting that in 2012, for both men and women, this was the tallest median year. "
   ]
  },
  {
   "cell_type": "markdown",
   "metadata": {},
   "source": [
    "## c) I wonder if there is a most common sport where athletes participate in more than one event\n",
    "\n",
    "\n",
    "- what sport do athletes compete in numerous events\n",
    "What is the average for each Olympic event "
   ]
  },
  {
   "cell_type": "markdown",
   "metadata": {},
   "source": [
    "#### 1) Make a DataFrame with Sports and Athletes and the Number of Events they participated in "
   ]
  },
  {
   "cell_type": "code",
   "execution_count": 13,
   "metadata": {},
   "outputs": [],
   "source": [
    "athletes_sport_by_number_of_unique_events = olympic_games.groupby([\"Name\", \"Sport\"])[\"Event\"] \\\n",
    "    .size() \\\n",
    "    .reset_index(name= \"Number_of_Events\") \\\n",
    "    .sort_values(by = \"Number_of_Events\", ascending = False)\n",
    "\n",
    "#wait would this be wrong because double counting the same event over the years "
   ]
  },
  {
   "cell_type": "markdown",
   "metadata": {},
   "source": [
    "#### 2) Filter the DataFrame to get rid of athletes that have only participated in 1 event "
   ]
  },
  {
   "cell_type": "code",
   "execution_count": 14,
   "metadata": {},
   "outputs": [],
   "source": [
    "more_than_one =athletes_sport_by_number_of_unique_events[\n",
    "    athletes_sport_by_number_of_unique_events[\"Number_of_Events\"] > 1\n",
    "]\n"
   ]
  },
  {
   "cell_type": "markdown",
   "metadata": {},
   "source": [
    "#### 3) Create a DataFrame with Sports and the Number of Athletes that have participated in more than one event  \n",
    "- counted the number of sports in the DataFrame more_than_one (this will tell me how many athletes for each sport competed in more than one event) "
   ]
  },
  {
   "cell_type": "code",
   "execution_count": 15,
   "metadata": {},
   "outputs": [],
   "source": [
    "final= more_than_one.groupby(\"Sport\")[\"Sport\"] \\\n",
    "    .count() \\\n",
    "    .sort_values(ascending = False) \\\n",
    "    .reset_index(name = \"Number_of_Athletes\")"
   ]
  },
  {
   "cell_type": "markdown",
   "metadata": {},
   "source": [
    "#### 4) Visualization"
   ]
  },
  {
   "cell_type": "code",
   "execution_count": 16,
   "metadata": {},
   "outputs": [
    {
     "data": {
      "text/html": [
       "\n",
       "\n",
       "\n",
       "\n",
       "\n",
       "\n",
       "  <div class=\"bk-root\" id=\"06bb7dde-b972-4953-a9dd-0c42a9b1c58d\" data-root-id=\"1162\"></div>\n"
      ]
     },
     "metadata": {},
     "output_type": "display_data"
    },
    {
     "data": {
      "application/javascript": [
       "(function(root) {\n",
       "  function embed_document(root) {\n",
       "    \n",
       "  var docs_json = {\"9c756114-7839-4ce6-8ab8-3b8e82eea73c\":{\"roots\":{\"references\":[{\"attributes\":{\"below\":[{\"id\":\"1172\",\"type\":\"CategoricalAxis\"}],\"left\":[{\"id\":\"1176\",\"type\":\"LinearAxis\"}],\"plot_height\":650,\"plot_width\":700,\"renderers\":[{\"id\":\"1172\",\"type\":\"CategoricalAxis\"},{\"id\":\"1175\",\"type\":\"Grid\"},{\"id\":\"1176\",\"type\":\"LinearAxis\"},{\"id\":\"1180\",\"type\":\"Grid\"},{\"id\":\"1189\",\"type\":\"BoxAnnotation\"},{\"id\":\"1201\",\"type\":\"GlyphRenderer\"}],\"title\":{\"id\":\"1161\",\"type\":\"Title\"},\"toolbar\":{\"id\":\"1187\",\"type\":\"Toolbar\"},\"x_range\":{\"id\":\"1164\",\"type\":\"FactorRange\"},\"x_scale\":{\"id\":\"1168\",\"type\":\"CategoricalScale\"},\"y_range\":{\"id\":\"1166\",\"type\":\"Range1d\"},\"y_scale\":{\"id\":\"1170\",\"type\":\"LinearScale\"}},\"id\":\"1162\",\"subtype\":\"Figure\",\"type\":\"Plot\"},{\"attributes\":{},\"id\":\"1173\",\"type\":\"CategoricalTicker\"},{\"attributes\":{},\"id\":\"1185\",\"type\":\"ResetTool\"},{\"attributes\":{\"plot\":{\"id\":\"1162\",\"subtype\":\"Figure\",\"type\":\"Plot\"},\"ticker\":{\"id\":\"1173\",\"type\":\"CategoricalTicker\"}},\"id\":\"1175\",\"type\":\"Grid\"},{\"attributes\":{\"axis_label\":\"Number of Athletes who Have Competed in More than One Event\",\"formatter\":{\"id\":\"1220\",\"type\":\"BasicTickFormatter\"},\"plot\":{\"id\":\"1162\",\"subtype\":\"Figure\",\"type\":\"Plot\"},\"ticker\":{\"id\":\"1177\",\"type\":\"BasicTicker\"}},\"id\":\"1176\",\"type\":\"LinearAxis\"},{\"attributes\":{},\"id\":\"1220\",\"type\":\"BasicTickFormatter\"},{\"attributes\":{\"active_drag\":\"auto\",\"active_inspect\":\"auto\",\"active_multi\":null,\"active_scroll\":\"auto\",\"active_tap\":\"auto\",\"tools\":[{\"id\":\"1181\",\"type\":\"PanTool\"},{\"id\":\"1182\",\"type\":\"WheelZoomTool\"},{\"id\":\"1183\",\"type\":\"BoxZoomTool\"},{\"id\":\"1184\",\"type\":\"SaveTool\"},{\"id\":\"1185\",\"type\":\"ResetTool\"},{\"id\":\"1186\",\"type\":\"HelpTool\"},{\"id\":\"1203\",\"type\":\"HoverTool\"}]},\"id\":\"1187\",\"type\":\"Toolbar\"},{\"attributes\":{},\"id\":\"1222\",\"type\":\"UnionRenderers\"},{\"attributes\":{},\"id\":\"1170\",\"type\":\"LinearScale\"},{\"attributes\":{\"fill_alpha\":{\"value\":0.1},\"fill_color\":{\"value\":\"#1f77b4\"},\"line_alpha\":{\"value\":0.1},\"line_color\":{\"value\":\"#1f77b4\"},\"top\":{\"field\":\"Number_of_Athletes\"},\"width\":{\"value\":1},\"x\":{\"field\":\"Sport\"}},\"id\":\"1199\",\"type\":\"VBar\"},{\"attributes\":{\"plot\":null,\"text\":\"The Number of Athletes that have Competed in More than One Event within an Olympic Sport\"},\"id\":\"1161\",\"type\":\"Title\"},{\"attributes\":{},\"id\":\"1218\",\"type\":\"CategoricalTickFormatter\"},{\"attributes\":{\"data_source\":{\"id\":\"1196\",\"type\":\"ColumnDataSource\"},\"glyph\":{\"id\":\"1198\",\"type\":\"VBar\"},\"hover_glyph\":{\"id\":\"1200\",\"type\":\"VBar\"},\"muted_glyph\":null,\"nonselection_glyph\":{\"id\":\"1199\",\"type\":\"VBar\"},\"selection_glyph\":null,\"view\":{\"id\":\"1202\",\"type\":\"CDSView\"}},\"id\":\"1201\",\"type\":\"GlyphRenderer\"},{\"attributes\":{\"source\":{\"id\":\"1196\",\"type\":\"ColumnDataSource\"}},\"id\":\"1202\",\"type\":\"CDSView\"},{\"attributes\":{},\"id\":\"1181\",\"type\":\"PanTool\"},{\"attributes\":{\"bottom_units\":\"screen\",\"fill_alpha\":{\"value\":0.5},\"fill_color\":{\"value\":\"lightgrey\"},\"left_units\":\"screen\",\"level\":\"overlay\",\"line_alpha\":{\"value\":1.0},\"line_color\":{\"value\":\"black\"},\"line_dash\":[4,4],\"line_width\":{\"value\":2},\"plot\":null,\"render_mode\":\"css\",\"right_units\":\"screen\",\"top_units\":\"screen\"},\"id\":\"1189\",\"type\":\"BoxAnnotation\"},{\"attributes\":{},\"id\":\"1177\",\"type\":\"BasicTicker\"},{\"attributes\":{\"fill_color\":{\"value\":\"#1f77b4\"},\"top\":{\"field\":\"Number_of_Athletes\"},\"width\":{\"value\":1},\"x\":{\"field\":\"Sport\"}},\"id\":\"1198\",\"type\":\"VBar\"},{\"attributes\":{\"callback\":null,\"factors\":[\"Athletics\",\"Swimming\",\"Gymnastics\",\"Cycling\",\"Fencing\",\"Shooting\",\"Alpine Skiing\",\"Rowing\",\"Equestrianism\",\"Cross Country Skiing\",\"Wrestling\",\"Canoeing\",\"Sailing\",\"Speed Skating\",\"Hockey\",\"Ice Hockey\",\"Biathlon\",\"Water Polo\",\"Basketball\",\"Weightlifting\",\"Judo\",\"Tennis\",\"Handball\",\"Bobsleigh\",\"Boxing\",\"Diving\",\"Volleyball\",\"Archery\",\"Art Competitions\",\"Ski Jumping\",\"Figure Skating\",\"Football\",\"Modern Pentathlon\",\"Table Tennis\",\"Luge\",\"Badminton\",\"Short Track Speed Skating\",\"Nordic Combined\",\"Snowboarding\",\"Synchronized Swimming\",\"Freestyle Skiing\",\"Triathlon\",\"Beach Volleyball\",\"Taekwondo\",\"Baseball\",\"Curling\",\"Softball\",\"Rhythmic Gymnastics\",\"Skeleton\",\"Trampolining\",\"Golf\",\"Croquet\",\"Polo\",\"Tug-Of-War\",\"Rugby\",\"Racquets\",\"Motorboating\"]},\"id\":\"1164\",\"type\":\"FactorRange\"},{\"attributes\":{\"dimension\":1,\"plot\":{\"id\":\"1162\",\"subtype\":\"Figure\",\"type\":\"Plot\"},\"ticker\":{\"id\":\"1177\",\"type\":\"BasicTicker\"}},\"id\":\"1180\",\"type\":\"Grid\"},{\"attributes\":{},\"id\":\"1168\",\"type\":\"CategoricalScale\"},{\"attributes\":{\"callback\":null,\"data\":{\"Number_of_Athletes\":[9584,5540,3180,2928,2626,2470,2099,2081,1909,1782,1557,1534,1310,1274,1204,1184,928,869,850,812,804,804,738,730,698,690,668,640,603,549,521,483,481,469,391,388,340,286,248,231,215,135,133,112,109,96,88,82,39,37,28,9,8,7,7,5,3],\"Sport\":[\"Athletics\",\"Swimming\",\"Gymnastics\",\"Cycling\",\"Fencing\",\"Shooting\",\"Alpine Skiing\",\"Rowing\",\"Equestrianism\",\"Cross Country Skiing\",\"Wrestling\",\"Canoeing\",\"Sailing\",\"Speed Skating\",\"Hockey\",\"Ice Hockey\",\"Biathlon\",\"Water Polo\",\"Basketball\",\"Weightlifting\",\"Judo\",\"Tennis\",\"Handball\",\"Bobsleigh\",\"Boxing\",\"Diving\",\"Volleyball\",\"Archery\",\"Art Competitions\",\"Ski Jumping\",\"Figure Skating\",\"Football\",\"Modern Pentathlon\",\"Table Tennis\",\"Luge\",\"Badminton\",\"Short Track Speed Skating\",\"Nordic Combined\",\"Snowboarding\",\"Synchronized Swimming\",\"Freestyle Skiing\",\"Triathlon\",\"Beach Volleyball\",\"Taekwondo\",\"Baseball\",\"Curling\",\"Softball\",\"Rhythmic Gymnastics\",\"Skeleton\",\"Trampolining\",\"Golf\",\"Croquet\",\"Polo\",\"Tug-Of-War\",\"Rugby\",\"Racquets\",\"Motorboating\"],\"index\":[0,1,2,3,4,5,6,7,8,9,10,11,12,13,14,15,16,17,18,19,20,21,22,23,24,25,26,27,28,29,30,31,32,33,34,35,36,37,38,39,40,41,42,43,44,45,46,47,48,49,50,51,52,53,54,55,56]},\"selected\":{\"id\":\"1223\",\"type\":\"Selection\"},\"selection_policy\":{\"id\":\"1222\",\"type\":\"UnionRenderers\"}},\"id\":\"1196\",\"type\":\"ColumnDataSource\"},{\"attributes\":{},\"id\":\"1182\",\"type\":\"WheelZoomTool\"},{\"attributes\":{},\"id\":\"1186\",\"type\":\"HelpTool\"},{\"attributes\":{\"axis_label\":\"Olympic Sport\",\"formatter\":{\"id\":\"1218\",\"type\":\"CategoricalTickFormatter\"},\"major_label_orientation\":1.5,\"plot\":{\"id\":\"1162\",\"subtype\":\"Figure\",\"type\":\"Plot\"},\"ticker\":{\"id\":\"1173\",\"type\":\"CategoricalTicker\"}},\"id\":\"1172\",\"type\":\"CategoricalAxis\"},{\"attributes\":{},\"id\":\"1223\",\"type\":\"Selection\"},{\"attributes\":{},\"id\":\"1184\",\"type\":\"SaveTool\"},{\"attributes\":{\"callback\":null,\"tooltips\":[[\"Sport\",\"@Sport\"],[\"Number of Athletes\",\"@Number_of_Athletes\"]]},\"id\":\"1203\",\"type\":\"HoverTool\"},{\"attributes\":{\"callback\":null,\"end\":10000},\"id\":\"1166\",\"type\":\"Range1d\"},{\"attributes\":{\"fill_color\":{\"value\":\"black\"},\"top\":{\"field\":\"Number_of_Athletes\"},\"width\":{\"value\":1},\"x\":{\"field\":\"Sport\"}},\"id\":\"1200\",\"type\":\"VBar\"},{\"attributes\":{\"overlay\":{\"id\":\"1189\",\"type\":\"BoxAnnotation\"}},\"id\":\"1183\",\"type\":\"BoxZoomTool\"}],\"root_ids\":[\"1162\"]},\"title\":\"Bokeh Application\",\"version\":\"1.0.4\"}};\n",
       "  var render_items = [{\"docid\":\"9c756114-7839-4ce6-8ab8-3b8e82eea73c\",\"roots\":{\"1162\":\"06bb7dde-b972-4953-a9dd-0c42a9b1c58d\"}}];\n",
       "  root.Bokeh.embed.embed_items_notebook(docs_json, render_items);\n",
       "\n",
       "  }\n",
       "  if (root.Bokeh !== undefined) {\n",
       "    embed_document(root);\n",
       "  } else {\n",
       "    var attempts = 0;\n",
       "    var timer = setInterval(function(root) {\n",
       "      if (root.Bokeh !== undefined) {\n",
       "        embed_document(root);\n",
       "        clearInterval(timer);\n",
       "      }\n",
       "      attempts++;\n",
       "      if (attempts > 100) {\n",
       "        console.log(\"Bokeh: ERROR: Unable to run BokehJS code because BokehJS library is missing\");\n",
       "        clearInterval(timer);\n",
       "      }\n",
       "    }, 10, root)\n",
       "  }\n",
       "})(window);"
      ],
      "application/vnd.bokehjs_exec.v0+json": ""
     },
     "metadata": {
      "application/vnd.bokehjs_exec.v0+json": {
       "id": "1162"
      }
     },
     "output_type": "display_data"
    }
   ],
   "source": [
    "\n",
    "select_tools = ['box_select', 'lasso_select', 'poly_select', 'tap', 'reset']\n",
    "p = figure(y_range = (0,10000), \n",
    "           x_range = (list(final[\"Sport\"])),\n",
    "           plot_height=650,\n",
    "           plot_width=700,\n",
    "           x_axis_label='Olympic Sport',\n",
    "           y_axis_label='Number of Athletes who Have Competed in More than One Event',\n",
    "           title='''The Number of Athletes that have Competed in More than One Event within an Olympic Sport''',\n",
    "          )\n",
    "\n",
    "p.vbar(x='Sport', top='Number_of_Athletes', width=1, \n",
    "       source = final, line_color= \"black\", hover_color=\"black\")\n",
    "p.xaxis.major_label_orientation = 1.5\n",
    "\n",
    "tooltips = [\n",
    "            ('Sport','@Sport'),\n",
    "            ('Number of Athletes','@Number_of_Athletes')\n",
    "           ]\n",
    "\n",
    "# Add the HoverTool to the figure\n",
    "p.add_tools(HoverTool(tooltips=tooltips))\n",
    "\n",
    "show(p)"
   ]
  },
  {
   "cell_type": "markdown",
   "metadata": {},
   "source": [
    "#### Explanation: \n",
    "\n",
    "I used Bokeh to plot this data because I wanted to use the hovertool. I also choose a bar graph because I thought it would do a good job of plotting categorical data on the x-axis, which in this case is Olympic Sports. \n",
    "\n",
    "From this visualization you can see that by far the Athletics Sport category at the olympics is the most common sport where athletes participate in more than one event. There are 9584 athletes who have participated in more than one event in this category. The second highest sport category is Swimming. 5540 athletes have participated in more than one Swimming event in the Olympics. The sport with the least amount of athletes who have participated in more than one event is Motorboating. The data shows that only 3 people have competed in more than one event in this sport category. "
   ]
  },
  {
   "cell_type": "markdown",
   "metadata": {},
   "source": [
    "## 3. Adapting the ```Gapminder``` Visualization (4 points)\n",
    "Use some of the functionality from the Bokeh-based Gapminder visualization (detailed below) to create an interactive visualization that allows a user to explore the Olympics data set.  This section should also be driven by an overarching question that seeks to understand the relationship between two or more variables.  You must state this question as part of your answer to this section.\n",
    "\n",
    "To create your interactive visualization, think about the number of variables that you want to present, along with the number of modalities that are available to you.  For example, in the Gapminder demo, there are three continuous variables (Children per woman, Life expectancy at birth, and Population) and two categorical variables (continent and year).  You don't need to use that many variables but you should be aware that you have quite a few options.\n",
    "\n",
    "The number of points awarded for this section will be based on the degree to which your visualization allows the user (in this case, Chris and Minje) to explore your data while attempting to answer your question.  The following rubric will be used:\n",
    "\n",
    "* 4 points: Excellent work that allows deep and thorough exploration of the data and that can reveal otherwise invisible features (\"surprises\").\n",
    "* 2 points: Acceptable work that uses one advanced feature from the Gapminder visualization.\n",
    "* 1 points: At least you tried!\n",
    "\n",
    "You should create a new notebook for this homework.  The notebook\n",
    "should conform to PEP-8 and \"Elements of Style\" guidelines.  The final notebook should represent your own original\n",
    "work, although you are encouraged to work in groups while formulating questions and general approaches to\n",
    "visualizations."
   ]
  },
  {
   "cell_type": "markdown",
   "metadata": {},
   "source": [
    "# For the top 10 Sports in the Summer Olympics with the most athlete participation, how does female participation compare to total participation overtime? \n",
    "\n",
    "- I am going to compare female participation to total participation in the olympic games throughout time for the 10 most participated sports in the Summer Olympics "
   ]
  },
  {
   "cell_type": "code",
   "execution_count": 17,
   "metadata": {},
   "outputs": [],
   "source": [
    "def process_data():\n",
    "    #get 50 sports that have most participation in Olympics \n",
    "    #olympic_games = pd.read_csv('https://bit.ly/2lUIi5P')\n",
    "    sports_popular = olympic_games[olympic_games[\"Season\"] == \"Summer\"].groupby([\"Sport\"])[\"Name\"] \\\n",
    "        .count() \\\n",
    "        .sort_values(ascending = False) \\\n",
    "        .reset_index(name = \"Number_of_Participants\") \\\n",
    "        .head(10)\n",
    "    number_of_sports = len(sports_popular[\"Sport\"].unique())\n",
    "    #\n",
    "    woman_df = olympic_games[(olympic_games[\"Season\"] == \"Summer\")\n",
    "                             & \n",
    "                             (olympic_games[\"Sex\"] == \"F\") \n",
    "                             & \n",
    "                             (olympic_games[\"Sport\"].isin(sports_popular[\"Sport\"]))] \\\n",
    "        .groupby([\"Year\",\"Sport\"])[\"Sex\"] \\\n",
    "        .count() \\\n",
    "        .reset_index(name = \"Women_Number_of_Athletes\") \\\n",
    "        .sort_values(by = [\"Year\"]) \\\n",
    "        .fillna(0)\n",
    "\n",
    "    total_participation_year = olympic_games[(olympic_games[\"Season\"] == \"Summer\")\n",
    "                                             & \n",
    "                                             (olympic_games[\"Sport\"].isin(sports_popular[\"Sport\"]))\n",
    "                                             &\n",
    "                                             (olympic_games[\"Year\"].isin(woman_df[\"Year\"]))] \\\n",
    "        .groupby([\"Year\", \"Sport\"])[\"Name\"] \\\n",
    "        .count() \\\n",
    "        .reset_index(name = \"Total_Number_of_Athletes\") \\\n",
    "        .sort_values(by = [\"Year\"]) \\\n",
    "        .fillna(0)\n",
    "   \n",
    "  \n",
    "    \n",
    "    new_df = woman_df.merge(total_participation_year, on = [\"Year\", \"Sport\"])\n",
    "    \n",
    "    percent_women = new_df[\"Women_Number_of_Athletes\"]/new_df[\"Total_Number_of_Athletes\"]\n",
    "    \n",
    "    woman_df[\"Women_Number_of_Athletes\"] = np.floor_divide(percent_women*100,1)#/100\n",
    "    \n",
    "    woman_df.columns = [\"Year\", \"Sport\", \"Number_of_Athletes\"]\n",
    "    total_participation_year.columns = [\"Year\", \"Sport\", \"Number_of_Athletes\"]\n",
    "    total_participation_year_df = total_participation_year.copy() \n",
    "    \n",
    "    #set index to be year \n",
    "\n",
    "    woman = woman_df.pivot(columns = \"Year\", index = \"Sport\", values = \"Number_of_Athletes\").fillna(0)\n",
    "    total_participation_year = total_participation_year.pivot(columns = \"Year\", values = \"Number_of_Athletes\", index = \"Sport\").fillna(0)\n",
    "\n",
    "    columns = list(woman.columns)\n",
    "    #years = list(range(int(columns[0]), int(columns[-1])))\n",
    "    years = list(woman_df[\"Year\"].unique())\n",
    "    rename_dict = dict(zip(columns, years))\n",
    "    #rename using rename dictionary (lines up data)\n",
    "    woman = woman.rename(columns=rename_dict)\n",
    "    #male = male_df.rename(columns=rename_dict)\n",
    "    total_participation_year =  total_participation_year.rename(columns=rename_dict)\n",
    "    sports_popular = sports_popular.rename(columns=rename_dict)\n",
    "   \n",
    "    scaling  = 200\n",
    "  \n",
    "    pop_size = np.sqrt(woman / np.pi) * 10  #dimension need to be square root of pop divided by pie (need to be circle)\n",
    "    #take care of na, and set min size of bubbles to be 8 \n",
    "    min_size = 8\n",
    "    pop_size = pop_size.where(\n",
    "                  pop_size >= min_size\n",
    "                  ).fillna(min_size)\n",
    "    \n",
    "    # Use pandas categories and categorize & color the sports \n",
    "    sports_popular.Sport = sports_popular.Sport.astype('category')\n",
    "    sports_list  = list(sports_popular.Sport.cat.categories)\n",
    "\n",
    "    #assign colors to each row. Assign the colors per continent \n",
    "        #string column and turn it into category column\n",
    "            #fixed set of strings that define categories--> can also be bins from cut command \n",
    "            #assign a color to each of categories \n",
    "    def get_color(r):\n",
    "        return plasma(number_of_sports)[sports_list.index(r.Sport)]\n",
    "        #return Spectral6[sports_list.index(r.Sport)]\n",
    "        #inferno(number_of_sports)[sports_list.index(r.Sport)]\n",
    "    \n",
    "    #pulls out each color and assings it to each row \n",
    "    sports_popular['sport_color'] = sports_popular.apply(get_color, axis=1)\n",
    "    sports_popular=sports_popular.set_index(\"Sport\")\n",
    "\n",
    "    return (woman, total_participation_year, pop_size, sports_popular, years, sports_list,\n",
    "           number_of_sports)\n",
    "\n",
    "                   \n",
    "                    \n",
    "                    "
   ]
  },
  {
   "cell_type": "code",
   "execution_count": 18,
   "metadata": {},
   "outputs": [],
   "source": [
    "#here call process data and assign the results to the tuples \n",
    "#returning a bunch of dataframes and lists\n",
    "(woman_df, total_participation_year_df,\n",
    "pop_size_df, sports_popular_df, years, sports_popular,number_of_sports) = process_data()\n",
    "\n",
    "sources = {}\n",
    "sport_color = sports_popular_df['sport_color']\n",
    "sport_color.name = 'sport_color'\n",
    "\n",
    "# unstacked_woman =woman_df.unstack().reset_index(name = \"Number_Of_Athletes\").set_index(\"Sport\")\n",
    "# woman_athletes = np.array(unstacked_woman_no_null[\"Number_Of_Athletes\"])\n",
    "# unstacked_woman_no_null = unstacked_woman.dropna()\n",
    "\n",
    "# new_bins = np.floor_divide(woman_athletes, 10)\n",
    "# new_bins.max()\n",
    "\n",
    "#create a large dataframe that puts all material together \n",
    "\n",
    "years = sorted(years) #have to sort years in order from smallest to largest \n",
    "for year in years:\n",
    "    #fill nan with 0 \n",
    "    woman = woman_df[year] #.fillna(0).astype('int')\n",
    "    woman.name = 'woman'\n",
    "    total = total_participation_year_df[year] #.fillna(0).astype('int')\n",
    "    total.name = 'total'\n",
    "    population = pop_size_df[year].astype('int')\n",
    "    population.name = 'population'\n",
    "\n",
    "    new_df = pd.concat(\n",
    "                [woman, total, population, sport_color],\n",
    "                axis=1, sort=False\n",
    "    )\n",
    "    sources['_' + str(year)] = ColumnDataSource(new_df)\n"
   ]
  },
  {
   "cell_type": "code",
   "execution_count": 19,
   "metadata": {},
   "outputs": [],
   "source": [
    "#here get things lined up for javascript \n",
    "#keys need to start with non numerical value for JavaScript: so we put underscore before year here \n",
    "dict_of_sources = dict(zip(\n",
    "                      [x for x in years],\n",
    "                      ['_%s' % x for x in years])\n",
    "                      )\n",
    "\n",
    "js_source_array = str(dict_of_sources).replace(\"'\", \"\")"
   ]
  },
  {
   "cell_type": "code",
   "execution_count": 20,
   "metadata": {},
   "outputs": [],
   "source": [
    "#Here creating the definition of plot \n",
    "    #setting up axis \n",
    "#xdr  = Range1d(3,1208*1.05)\n",
    "#x = Range1d(woman_df.min().min(), woman_df.max().max())\n",
    "#y = Range1d(total_participation_year_df.min().min(),total_participation_year_df.max().max())\n",
    "\n",
    "xdr  = Range1d(-0.1,100.1) #1.1\n",
    "ydr  = Range1d(44, 2508*1.05)\n",
    "\n",
    "plot = Plot(\n",
    "    x_range= xdr, \n",
    "    y_range= ydr,\n",
    "    plot_width=700,\n",
    "    plot_height=550,\n",
    "    outline_line_color=None,\n",
    "    toolbar_location=None,\n",
    "    min_border=40,\n",
    ")\n",
    "plot.title.text= \"% Women Participation Compared to Total Participation For the Top 10 Summer Olympic Sports\"\n",
    "\n",
    "\n",
    "\n"
   ]
  },
  {
   "cell_type": "code",
   "execution_count": 21,
   "metadata": {},
   "outputs": [
    {
     "data": {
      "text/html": [
       "\n",
       "\n",
       "\n",
       "\n",
       "\n",
       "\n",
       "  <div class=\"bk-root\" id=\"ecad26ca-611b-477a-a9ac-d3360a0cbed1\" data-root-id=\"1301\"></div>\n"
      ]
     },
     "metadata": {},
     "output_type": "display_data"
    },
    {
     "data": {
      "application/javascript": [
       "(function(root) {\n",
       "  function embed_document(root) {\n",
       "    \n",
       "  var docs_json = {\"1917839b-a36d-4e17-a97f-061aed75aff1\":{\"roots\":{\"references\":[{\"attributes\":{\"below\":[{\"id\":\"1306\",\"type\":\"LinearAxis\"}],\"left\":[{\"id\":\"1309\",\"type\":\"LinearAxis\"}],\"min_border\":40,\"outline_line_color\":{\"value\":null},\"plot_height\":550,\"plot_width\":700,\"renderers\":[{\"id\":\"1306\",\"type\":\"LinearAxis\"},{\"id\":\"1309\",\"type\":\"LinearAxis\"}],\"title\":{\"id\":\"1304\",\"type\":\"Title\"},\"toolbar\":{\"id\":\"1333\",\"type\":\"Toolbar\"},\"toolbar_location\":null,\"x_range\":{\"id\":\"1299\",\"type\":\"Range1d\"},\"x_scale\":{\"id\":\"1334\",\"type\":\"LinearScale\"},\"y_range\":{\"id\":\"1300\",\"type\":\"Range1d\"},\"y_scale\":{\"id\":\"1332\",\"type\":\"LinearScale\"}},\"id\":\"1301\",\"type\":\"Plot\"},{\"attributes\":{\"interval\":10},\"id\":\"1305\",\"type\":\"SingleIntervalTicker\"},{\"attributes\":{\"active_drag\":\"auto\",\"active_inspect\":\"auto\",\"active_multi\":null,\"active_scroll\":\"auto\",\"active_tap\":\"auto\"},\"id\":\"1333\",\"type\":\"Toolbar\"},{\"attributes\":{\"callback\":null,\"end\":100.1,\"start\":-0.1},\"id\":\"1299\",\"type\":\"Range1d\"},{\"attributes\":{\"interval\":100},\"id\":\"1308\",\"type\":\"SingleIntervalTicker\"},{\"attributes\":{\"axis_label\":\"Woman Participation (Percentage)\",\"axis_label_text_font_size\":{\"value\":\"10pt\"},\"axis_line_cap\":\"round\",\"axis_line_color\":{\"value\":\"#AAAAAA\"},\"formatter\":{\"id\":\"1335\",\"type\":\"BasicTickFormatter\"},\"major_label_orientation\":0.7853981633974483,\"major_label_text_color\":{\"value\":\"#666666\"},\"major_label_text_font_size\":{\"value\":\"10pt\"},\"major_tick_in\":null,\"major_tick_line_cap\":\"round\",\"major_tick_line_color\":{\"value\":\"#AAAAAA\"},\"minor_tick_in\":null,\"minor_tick_out\":null,\"plot\":{\"id\":\"1301\",\"type\":\"Plot\"},\"ticker\":{\"id\":\"1305\",\"type\":\"SingleIntervalTicker\"}},\"id\":\"1306\",\"type\":\"LinearAxis\"},{\"attributes\":{\"callback\":null,\"end\":2633.4,\"start\":44},\"id\":\"1300\",\"type\":\"Range1d\"},{\"attributes\":{},\"id\":\"1334\",\"type\":\"LinearScale\"},{\"attributes\":{\"plot\":null,\"text\":\"% Women Participation Compared to Total Participation For the Top 10 Summer Olympic Sports\"},\"id\":\"1304\",\"type\":\"Title\"},{\"attributes\":{\"axis_label\":\"Total Paricipation\",\"axis_label_text_font_size\":{\"value\":\"10pt\"},\"axis_line_cap\":\"round\",\"axis_line_color\":{\"value\":\"#AAAAAA\"},\"formatter\":{\"id\":\"1336\",\"type\":\"BasicTickFormatter\"},\"major_label_text_color\":{\"value\":\"#666666\"},\"major_label_text_font_size\":{\"value\":\"10pt\"},\"major_tick_in\":null,\"major_tick_line_cap\":\"round\",\"major_tick_line_color\":{\"value\":\"#AAAAAA\"},\"minor_tick_in\":null,\"minor_tick_out\":null,\"plot\":{\"id\":\"1301\",\"type\":\"Plot\"},\"ticker\":{\"id\":\"1308\",\"type\":\"SingleIntervalTicker\"}},\"id\":\"1309\",\"type\":\"LinearAxis\"},{\"attributes\":{},\"id\":\"1335\",\"type\":\"BasicTickFormatter\"},{\"attributes\":{},\"id\":\"1336\",\"type\":\"BasicTickFormatter\"},{\"attributes\":{},\"id\":\"1332\",\"type\":\"LinearScale\"}],\"root_ids\":[\"1301\"]},\"title\":\"Bokeh Application\",\"version\":\"1.0.4\"}};\n",
       "  var render_items = [{\"docid\":\"1917839b-a36d-4e17-a97f-061aed75aff1\",\"roots\":{\"1301\":\"ecad26ca-611b-477a-a9ac-d3360a0cbed1\"}}];\n",
       "  root.Bokeh.embed.embed_items_notebook(docs_json, render_items);\n",
       "\n",
       "  }\n",
       "  if (root.Bokeh !== undefined) {\n",
       "    embed_document(root);\n",
       "  } else {\n",
       "    var attempts = 0;\n",
       "    var timer = setInterval(function(root) {\n",
       "      if (root.Bokeh !== undefined) {\n",
       "        embed_document(root);\n",
       "        clearInterval(timer);\n",
       "      }\n",
       "      attempts++;\n",
       "      if (attempts > 100) {\n",
       "        console.log(\"Bokeh: ERROR: Unable to run BokehJS code because BokehJS library is missing\");\n",
       "        clearInterval(timer);\n",
       "      }\n",
       "    }, 10, root)\n",
       "  }\n",
       "})(window);"
      ],
      "application/vnd.bokehjs_exec.v0+json": ""
     },
     "metadata": {
      "application/vnd.bokehjs_exec.v0+json": {
       "id": "1301"
      }
     },
     "output_type": "display_data"
    }
   ],
   "source": [
    "#consistant formats for dictionary \n",
    "#AXIS_FORMATS: set up things based on dictionary we created \n",
    "from math import pi\n",
    "AXIS_FORMATS = dict(\n",
    "    minor_tick_in=None,\n",
    "    minor_tick_out=None,\n",
    "    major_tick_in=None,\n",
    "    major_label_text_font_size=\"10pt\",\n",
    "    major_label_text_font_style=\"normal\",\n",
    "    axis_label_text_font_size=\"10pt\",\n",
    "\n",
    "    axis_line_color='#AAAAAA',\n",
    "    major_tick_line_color='#AAAAAA',\n",
    "    major_label_text_color='#666666',\n",
    "\n",
    "    major_tick_line_cap=\"round\",\n",
    "    axis_line_cap=\"round\",\n",
    "    axis_line_width=1,\n",
    "    major_tick_line_width=1,\n",
    "   \n",
    ")\n",
    "\n",
    "xaxis = LinearAxis(\n",
    "    ticker     = SingleIntervalTicker(interval=10), #.1 \n",
    "    axis_label = \"Woman Participation (Percentage)\",\n",
    "    **AXIS_FORMATS\n",
    ")\n",
    "yaxis = LinearAxis(\n",
    "    ticker     = SingleIntervalTicker(interval=100), #interval making bins \n",
    "    axis_label = \"Total Paricipation\",\n",
    "    **AXIS_FORMATS\n",
    ")   \n",
    "\n",
    "plot.add_layout(xaxis, 'below')\n",
    "plot.add_layout(yaxis, 'left')\n",
    "plot.xaxis.major_label_orientation = pi/4\n",
    "show(plot)"
   ]
  },
  {
   "cell_type": "code",
   "execution_count": 22,
   "metadata": {},
   "outputs": [
    {
     "data": {
      "text/html": [
       "\n",
       "\n",
       "\n",
       "\n",
       "\n",
       "\n",
       "  <div class=\"bk-root\" id=\"a07293bc-7be8-42dd-a9b8-806c669ae090\" data-root-id=\"1301\"></div>\n"
      ]
     },
     "metadata": {},
     "output_type": "display_data"
    },
    {
     "data": {
      "application/javascript": [
       "(function(root) {\n",
       "  function embed_document(root) {\n",
       "    \n",
       "  var docs_json = {\"1bf2ee7c-b891-4f57-be5e-e4b7e8f25612\":{\"roots\":{\"references\":[{\"attributes\":{\"below\":[{\"id\":\"1306\",\"type\":\"LinearAxis\"}],\"left\":[{\"id\":\"1309\",\"type\":\"LinearAxis\"}],\"min_border\":40,\"outline_line_color\":{\"value\":null},\"plot_height\":550,\"plot_width\":700,\"renderers\":[{\"id\":\"1306\",\"type\":\"LinearAxis\"},{\"id\":\"1309\",\"type\":\"LinearAxis\"},{\"id\":\"1383\",\"type\":\"GlyphRenderer\"}],\"title\":{\"id\":\"1304\",\"type\":\"Title\"},\"toolbar\":{\"id\":\"1333\",\"type\":\"Toolbar\"},\"toolbar_location\":null,\"x_range\":{\"id\":\"1299\",\"type\":\"Range1d\"},\"x_scale\":{\"id\":\"1334\",\"type\":\"LinearScale\"},\"y_range\":{\"id\":\"1300\",\"type\":\"Range1d\"},\"y_scale\":{\"id\":\"1332\",\"type\":\"LinearScale\"}},\"id\":\"1301\",\"type\":\"Plot\"},{\"attributes\":{},\"id\":\"1411\",\"type\":\"UnionRenderers\"},{\"attributes\":{\"interval\":10},\"id\":\"1305\",\"type\":\"SingleIntervalTicker\"},{\"attributes\":{\"interval\":100},\"id\":\"1308\",\"type\":\"SingleIntervalTicker\"},{\"attributes\":{\"axis_label\":\"Woman Participation (Percentage)\",\"axis_label_text_font_size\":{\"value\":\"10pt\"},\"axis_line_cap\":\"round\",\"axis_line_color\":{\"value\":\"#AAAAAA\"},\"formatter\":{\"id\":\"1335\",\"type\":\"BasicTickFormatter\"},\"major_label_orientation\":0.7853981633974483,\"major_label_text_color\":{\"value\":\"#666666\"},\"major_label_text_font_size\":{\"value\":\"10pt\"},\"major_tick_in\":null,\"major_tick_line_cap\":\"round\",\"major_tick_line_color\":{\"value\":\"#AAAAAA\"},\"minor_tick_in\":null,\"minor_tick_out\":null,\"plot\":{\"id\":\"1301\",\"type\":\"Plot\"},\"ticker\":{\"id\":\"1305\",\"type\":\"SingleIntervalTicker\"}},\"id\":\"1306\",\"type\":\"LinearAxis\"},{\"attributes\":{\"text\":{\"field\":\"year\"},\"text_color\":{\"value\":\"#EEEEEE\"},\"text_font_size\":{\"value\":\"170pt\"},\"x\":{\"value\":0},\"y\":{\"value\":500}},\"id\":\"1382\",\"type\":\"Text\"},{\"attributes\":{\"axis_label\":\"Total Paricipation\",\"axis_label_text_font_size\":{\"value\":\"10pt\"},\"axis_line_cap\":\"round\",\"axis_line_color\":{\"value\":\"#AAAAAA\"},\"formatter\":{\"id\":\"1336\",\"type\":\"BasicTickFormatter\"},\"major_label_text_color\":{\"value\":\"#666666\"},\"major_label_text_font_size\":{\"value\":\"10pt\"},\"major_tick_in\":null,\"major_tick_line_cap\":\"round\",\"major_tick_line_color\":{\"value\":\"#AAAAAA\"},\"minor_tick_in\":null,\"minor_tick_out\":null,\"plot\":{\"id\":\"1301\",\"type\":\"Plot\"},\"ticker\":{\"id\":\"1308\",\"type\":\"SingleIntervalTicker\"}},\"id\":\"1309\",\"type\":\"LinearAxis\"},{\"attributes\":{\"callback\":null,\"data\":{\"year\":[\"1900\"]},\"selected\":{\"id\":\"1412\",\"type\":\"Selection\"},\"selection_policy\":{\"id\":\"1411\",\"type\":\"UnionRenderers\"}},\"id\":\"1381\",\"type\":\"ColumnDataSource\"},{\"attributes\":{},\"id\":\"1332\",\"type\":\"LinearScale\"},{\"attributes\":{\"data_source\":{\"id\":\"1381\",\"type\":\"ColumnDataSource\"},\"glyph\":{\"id\":\"1382\",\"type\":\"Text\"},\"hover_glyph\":null,\"muted_glyph\":null,\"view\":{\"id\":\"1384\",\"type\":\"CDSView\"}},\"id\":\"1383\",\"type\":\"GlyphRenderer\"},{\"attributes\":{\"active_drag\":\"auto\",\"active_inspect\":\"auto\",\"active_multi\":null,\"active_scroll\":\"auto\",\"active_tap\":\"auto\"},\"id\":\"1333\",\"type\":\"Toolbar\"},{\"attributes\":{\"source\":{\"id\":\"1381\",\"type\":\"ColumnDataSource\"}},\"id\":\"1384\",\"type\":\"CDSView\"},{\"attributes\":{},\"id\":\"1334\",\"type\":\"LinearScale\"},{\"attributes\":{\"plot\":null,\"text\":\"% Women Participation Compared to Total Participation For the Top 10 Summer Olympic Sports\"},\"id\":\"1304\",\"type\":\"Title\"},{\"attributes\":{},\"id\":\"1335\",\"type\":\"BasicTickFormatter\"},{\"attributes\":{},\"id\":\"1336\",\"type\":\"BasicTickFormatter\"},{\"attributes\":{},\"id\":\"1412\",\"type\":\"Selection\"},{\"attributes\":{\"callback\":null,\"end\":100.1,\"start\":-0.1},\"id\":\"1299\",\"type\":\"Range1d\"},{\"attributes\":{\"callback\":null,\"end\":2633.4,\"start\":44},\"id\":\"1300\",\"type\":\"Range1d\"}],\"root_ids\":[\"1301\"]},\"title\":\"Bokeh Application\",\"version\":\"1.0.4\"}};\n",
       "  var render_items = [{\"docid\":\"1bf2ee7c-b891-4f57-be5e-e4b7e8f25612\",\"roots\":{\"1301\":\"a07293bc-7be8-42dd-a9b8-806c669ae090\"}}];\n",
       "  root.Bokeh.embed.embed_items_notebook(docs_json, render_items);\n",
       "\n",
       "  }\n",
       "  if (root.Bokeh !== undefined) {\n",
       "    embed_document(root);\n",
       "  } else {\n",
       "    var attempts = 0;\n",
       "    var timer = setInterval(function(root) {\n",
       "      if (root.Bokeh !== undefined) {\n",
       "        embed_document(root);\n",
       "        clearInterval(timer);\n",
       "      }\n",
       "      attempts++;\n",
       "      if (attempts > 100) {\n",
       "        console.log(\"Bokeh: ERROR: Unable to run BokehJS code because BokehJS library is missing\");\n",
       "        clearInterval(timer);\n",
       "      }\n",
       "    }, 10, root)\n",
       "  }\n",
       "})(window);"
      ],
      "application/vnd.bokehjs_exec.v0+json": ""
     },
     "metadata": {
      "application/vnd.bokehjs_exec.v0+json": {
       "id": "1301"
      }
     },
     "output_type": "display_data"
    }
   ],
   "source": [
    "#annotate plot with text\n",
    "#pull out year from data \n",
    "#will output first year in grey on white \n",
    "text_source = ColumnDataSource({'year': ['%s' % sorted(years)[0]]})\n",
    "text        = Text(\n",
    "                  x=0, y=500, text='year',\n",
    "                  text_font_size='170pt',\n",
    "                  text_color='#EEEEEE' #light grey\n",
    "                  )\n",
    "plot.add_glyph(text_source, text)\n",
    "show(plot)"
   ]
  },
  {
   "cell_type": "code",
   "execution_count": 23,
   "metadata": {},
   "outputs": [],
   "source": [
    "#woman_df[1968]\n",
    "#text_source.data"
   ]
  },
  {
   "cell_type": "code",
   "execution_count": 24,
   "metadata": {},
   "outputs": [
    {
     "data": {
      "text/html": [
       "\n",
       "\n",
       "\n",
       "\n",
       "\n",
       "\n",
       "  <div class=\"bk-root\" id=\"7f10b892-0ad3-48fa-af19-e9bdbc1db1a2\" data-root-id=\"1301\"></div>\n"
      ]
     },
     "metadata": {},
     "output_type": "display_data"
    },
    {
     "data": {
      "application/javascript": [
       "(function(root) {\n",
       "  function embed_document(root) {\n",
       "    \n",
       "  var docs_json = {\"6e86d061-8ffc-4fd0-944e-6bcb24e053a6\":{\"roots\":{\"references\":[{\"attributes\":{\"below\":[{\"id\":\"1306\",\"type\":\"LinearAxis\"}],\"left\":[{\"id\":\"1309\",\"type\":\"LinearAxis\"}],\"min_border\":40,\"outline_line_color\":{\"value\":null},\"plot_height\":550,\"plot_width\":700,\"renderers\":[{\"id\":\"1306\",\"type\":\"LinearAxis\"},{\"id\":\"1309\",\"type\":\"LinearAxis\"},{\"id\":\"1383\",\"type\":\"GlyphRenderer\"},{\"id\":\"1470\",\"type\":\"GlyphRenderer\"}],\"title\":{\"id\":\"1304\",\"type\":\"Title\"},\"toolbar\":{\"id\":\"1333\",\"type\":\"Toolbar\"},\"toolbar_location\":null,\"x_range\":{\"id\":\"1299\",\"type\":\"Range1d\"},\"x_scale\":{\"id\":\"1334\",\"type\":\"LinearScale\"},\"y_range\":{\"id\":\"1300\",\"type\":\"Range1d\"},\"y_scale\":{\"id\":\"1332\",\"type\":\"LinearScale\"}},\"id\":\"1301\",\"type\":\"Plot\"},{\"attributes\":{},\"id\":\"1411\",\"type\":\"UnionRenderers\"},{\"attributes\":{\"callback\":null,\"data\":{\"Sport\":[\"Athletics\",\"Cycling\",\"Fencing\",\"Football\",\"Gymnastics\",\"Rowing\",\"Sailing\",\"Shooting\",\"Swimming\",\"Wrestling\"],\"population\":[8,8,8,8,8,8,8,8,8,8],\"sport_color\":[\"#0C0786\",\"#45039E\",\"#7200A8\",\"#9B179E\",\"#BC3685\",\"#D7566C\",\"#EC7853\",\"#FA9D3A\",\"#FCC726\",\"#EFF821\"],\"total\":{\"__ndarray__\":\"AAAAAABAbUAAAAAAAABXQAAAAAAA0HNAAAAAAACAQUAAAAAAAOBgQAAAAAAAoGBAAAAAAACAcUAAAAAAAKBrQAAAAAAAYGBAAAAAAAAAAAA=\",\"dtype\":\"float64\",\"shape\":[10]},\"woman\":{\"__ndarray__\":\"AAAAAAAAAAAAAAAAAAAAAAAAAAAAAAAAAAAAAAAAAAAAAAAAAAAAAAAAAAAAAAAAAAAAAAAA8D8AAAAAAAAAAAAAAAAAAAAAAAAAAAAAAAA=\",\"dtype\":\"float64\",\"shape\":[10]}},\"selected\":{\"id\":\"1501\",\"type\":\"Selection\"},\"selection_policy\":{\"id\":\"1500\",\"type\":\"UnionRenderers\"}},\"id\":\"1273\",\"type\":\"ColumnDataSource\"},{\"attributes\":{\"interval\":10},\"id\":\"1305\",\"type\":\"SingleIntervalTicker\"},{\"attributes\":{\"interval\":100},\"id\":\"1308\",\"type\":\"SingleIntervalTicker\"},{\"attributes\":{\"axis_label\":\"Woman Participation (Percentage)\",\"axis_label_text_font_size\":{\"value\":\"10pt\"},\"axis_line_cap\":\"round\",\"axis_line_color\":{\"value\":\"#AAAAAA\"},\"formatter\":{\"id\":\"1335\",\"type\":\"BasicTickFormatter\"},\"major_label_orientation\":0.7853981633974483,\"major_label_text_color\":{\"value\":\"#666666\"},\"major_label_text_font_size\":{\"value\":\"10pt\"},\"major_tick_in\":null,\"major_tick_line_cap\":\"round\",\"major_tick_line_color\":{\"value\":\"#AAAAAA\"},\"minor_tick_in\":null,\"minor_tick_out\":null,\"plot\":{\"id\":\"1301\",\"type\":\"Plot\"},\"ticker\":{\"id\":\"1305\",\"type\":\"SingleIntervalTicker\"}},\"id\":\"1306\",\"type\":\"LinearAxis\"},{\"attributes\":{\"fill_alpha\":{\"value\":0.8},\"fill_color\":{\"field\":\"sport_color\"},\"line_alpha\":{\"value\":0.5},\"line_color\":{\"value\":\"#7c7e71\"},\"line_width\":{\"value\":0.5},\"size\":{\"field\":\"population\",\"units\":\"screen\"},\"x\":{\"field\":\"woman\"},\"y\":{\"field\":\"total\"}},\"id\":\"1469\",\"type\":\"Circle\"},{\"attributes\":{\"text\":{\"field\":\"year\"},\"text_color\":{\"value\":\"#EEEEEE\"},\"text_font_size\":{\"value\":\"170pt\"},\"x\":{\"value\":0},\"y\":{\"value\":500}},\"id\":\"1382\",\"type\":\"Text\"},{\"attributes\":{\"axis_label\":\"Total Paricipation\",\"axis_label_text_font_size\":{\"value\":\"10pt\"},\"axis_line_cap\":\"round\",\"axis_line_color\":{\"value\":\"#AAAAAA\"},\"formatter\":{\"id\":\"1336\",\"type\":\"BasicTickFormatter\"},\"major_label_text_color\":{\"value\":\"#666666\"},\"major_label_text_font_size\":{\"value\":\"10pt\"},\"major_tick_in\":null,\"major_tick_line_cap\":\"round\",\"major_tick_line_color\":{\"value\":\"#AAAAAA\"},\"minor_tick_in\":null,\"minor_tick_out\":null,\"plot\":{\"id\":\"1301\",\"type\":\"Plot\"},\"ticker\":{\"id\":\"1308\",\"type\":\"SingleIntervalTicker\"}},\"id\":\"1309\",\"type\":\"LinearAxis\"},{\"attributes\":{\"data_source\":{\"id\":\"1273\",\"type\":\"ColumnDataSource\"},\"glyph\":{\"id\":\"1469\",\"type\":\"Circle\"},\"hover_glyph\":null,\"muted_glyph\":null,\"view\":{\"id\":\"1471\",\"type\":\"CDSView\"}},\"id\":\"1470\",\"type\":\"GlyphRenderer\"},{\"attributes\":{\"callback\":null,\"data\":{\"year\":[\"1900\"]},\"selected\":{\"id\":\"1412\",\"type\":\"Selection\"},\"selection_policy\":{\"id\":\"1411\",\"type\":\"UnionRenderers\"}},\"id\":\"1381\",\"type\":\"ColumnDataSource\"},{\"attributes\":{},\"id\":\"1332\",\"type\":\"LinearScale\"},{\"attributes\":{\"data_source\":{\"id\":\"1381\",\"type\":\"ColumnDataSource\"},\"glyph\":{\"id\":\"1382\",\"type\":\"Text\"},\"hover_glyph\":null,\"muted_glyph\":null,\"view\":{\"id\":\"1384\",\"type\":\"CDSView\"}},\"id\":\"1383\",\"type\":\"GlyphRenderer\"},{\"attributes\":{\"active_drag\":\"auto\",\"active_inspect\":\"auto\",\"active_multi\":null,\"active_scroll\":\"auto\",\"active_tap\":\"auto\"},\"id\":\"1333\",\"type\":\"Toolbar\"},{\"attributes\":{\"source\":{\"id\":\"1381\",\"type\":\"ColumnDataSource\"}},\"id\":\"1384\",\"type\":\"CDSView\"},{\"attributes\":{},\"id\":\"1334\",\"type\":\"LinearScale\"},{\"attributes\":{\"plot\":null,\"text\":\"% Women Participation Compared to Total Participation For the Top 10 Summer Olympic Sports\"},\"id\":\"1304\",\"type\":\"Title\"},{\"attributes\":{},\"id\":\"1335\",\"type\":\"BasicTickFormatter\"},{\"attributes\":{},\"id\":\"1336\",\"type\":\"BasicTickFormatter\"},{\"attributes\":{},\"id\":\"1412\",\"type\":\"Selection\"},{\"attributes\":{},\"id\":\"1501\",\"type\":\"Selection\"},{\"attributes\":{\"callback\":null,\"end\":100.1,\"start\":-0.1},\"id\":\"1299\",\"type\":\"Range1d\"},{\"attributes\":{\"callback\":null,\"end\":2633.4,\"start\":44},\"id\":\"1300\",\"type\":\"Range1d\"},{\"attributes\":{},\"id\":\"1500\",\"type\":\"UnionRenderers\"},{\"attributes\":{\"source\":{\"id\":\"1273\",\"type\":\"ColumnDataSource\"}},\"id\":\"1471\",\"type\":\"CDSView\"}],\"root_ids\":[\"1301\"]},\"title\":\"Bokeh Application\",\"version\":\"1.0.4\"}};\n",
       "  var render_items = [{\"docid\":\"6e86d061-8ffc-4fd0-944e-6bcb24e053a6\",\"roots\":{\"1301\":\"7f10b892-0ad3-48fa-af19-e9bdbc1db1a2\"}}];\n",
       "  root.Bokeh.embed.embed_items_notebook(docs_json, render_items);\n",
       "\n",
       "  }\n",
       "  if (root.Bokeh !== undefined) {\n",
       "    embed_document(root);\n",
       "  } else {\n",
       "    var attempts = 0;\n",
       "    var timer = setInterval(function(root) {\n",
       "      if (root.Bokeh !== undefined) {\n",
       "        embed_document(root);\n",
       "        clearInterval(timer);\n",
       "      }\n",
       "      attempts++;\n",
       "      if (attempts > 100) {\n",
       "        console.log(\"Bokeh: ERROR: Unable to run BokehJS code because BokehJS library is missing\");\n",
       "        clearInterval(timer);\n",
       "      }\n",
       "    }, 10, root)\n",
       "  }\n",
       "})(window);"
      ],
      "application/vnd.bokehjs_exec.v0+json": ""
     },
     "metadata": {
      "application/vnd.bokehjs_exec.v0+json": {
       "id": "1301"
      }
     },
     "output_type": "display_data"
    }
   ],
   "source": [
    "# Add the circle\n",
    "renderer_source = sources['_%s' % sorted(years)[0]]\n",
    "circle_glyph    = Circle(\n",
    "                    x='woman', \n",
    "                    y='total',\n",
    "                    size='population', \n",
    "                    fill_alpha=0.8,\n",
    "                    fill_color='sport_color',\n",
    "                    line_color='#7c7e71',\n",
    "                    line_width=0.5, line_alpha=0.5,\n",
    ")\n",
    "#circles are colored according to sport, whose size is proportionate to population of women participating \n",
    "circle_renderer = plot.add_glyph(renderer_source, circle_glyph)\n",
    "\n",
    "show(plot)"
   ]
  },
  {
   "cell_type": "code",
   "execution_count": 25,
   "metadata": {},
   "outputs": [
    {
     "data": {
      "text/html": [
       "\n",
       "\n",
       "\n",
       "\n",
       "\n",
       "\n",
       "  <div class=\"bk-root\" id=\"94ce5ef6-3e0c-484d-92b1-0f9ec0d78fd4\" data-root-id=\"1301\"></div>\n"
      ]
     },
     "metadata": {},
     "output_type": "display_data"
    },
    {
     "data": {
      "application/javascript": [
       "(function(root) {\n",
       "  function embed_document(root) {\n",
       "    \n",
       "  var docs_json = {\"8f679cb7-d880-4393-b8b3-9444bdf9d0be\":{\"roots\":{\"references\":[{\"attributes\":{\"below\":[{\"id\":\"1306\",\"type\":\"LinearAxis\"}],\"left\":[{\"id\":\"1309\",\"type\":\"LinearAxis\"}],\"min_border\":40,\"outline_line_color\":{\"value\":null},\"plot_height\":550,\"plot_width\":700,\"renderers\":[{\"id\":\"1306\",\"type\":\"LinearAxis\"},{\"id\":\"1309\",\"type\":\"LinearAxis\"},{\"id\":\"1383\",\"type\":\"GlyphRenderer\"},{\"id\":\"1470\",\"type\":\"GlyphRenderer\"}],\"title\":{\"id\":\"1304\",\"type\":\"Title\"},\"toolbar\":{\"id\":\"1333\",\"type\":\"Toolbar\"},\"toolbar_location\":null,\"x_range\":{\"id\":\"1299\",\"type\":\"Range1d\"},\"x_scale\":{\"id\":\"1334\",\"type\":\"LinearScale\"},\"y_range\":{\"id\":\"1300\",\"type\":\"Range1d\"},\"y_scale\":{\"id\":\"1332\",\"type\":\"LinearScale\"}},\"id\":\"1301\",\"type\":\"Plot\"},{\"attributes\":{},\"id\":\"1411\",\"type\":\"UnionRenderers\"},{\"attributes\":{\"callback\":null,\"data\":{\"Sport\":[\"Athletics\",\"Cycling\",\"Fencing\",\"Football\",\"Gymnastics\",\"Rowing\",\"Sailing\",\"Shooting\",\"Swimming\",\"Wrestling\"],\"population\":[8,8,8,8,8,8,8,8,8,8],\"sport_color\":[\"#0C0786\",\"#45039E\",\"#7200A8\",\"#9B179E\",\"#BC3685\",\"#D7566C\",\"#EC7853\",\"#FA9D3A\",\"#FCC726\",\"#EFF821\"],\"total\":{\"__ndarray__\":\"AAAAAABAbUAAAAAAAABXQAAAAAAA0HNAAAAAAACAQUAAAAAAAOBgQAAAAAAAoGBAAAAAAACAcUAAAAAAAKBrQAAAAAAAYGBAAAAAAAAAAAA=\",\"dtype\":\"float64\",\"shape\":[10]},\"woman\":{\"__ndarray__\":\"AAAAAAAAAAAAAAAAAAAAAAAAAAAAAAAAAAAAAAAAAAAAAAAAAAAAAAAAAAAAAAAAAAAAAAAA8D8AAAAAAAAAAAAAAAAAAAAAAAAAAAAAAAA=\",\"dtype\":\"float64\",\"shape\":[10]}},\"selected\":{\"id\":\"1501\",\"type\":\"Selection\"},\"selection_policy\":{\"id\":\"1500\",\"type\":\"UnionRenderers\"}},\"id\":\"1273\",\"type\":\"ColumnDataSource\"},{\"attributes\":{\"interval\":10},\"id\":\"1305\",\"type\":\"SingleIntervalTicker\"},{\"attributes\":{\"interval\":100},\"id\":\"1308\",\"type\":\"SingleIntervalTicker\"},{\"attributes\":{\"axis_label\":\"Woman Participation (Percentage)\",\"axis_label_text_font_size\":{\"value\":\"10pt\"},\"axis_line_cap\":\"round\",\"axis_line_color\":{\"value\":\"#AAAAAA\"},\"formatter\":{\"id\":\"1335\",\"type\":\"BasicTickFormatter\"},\"major_label_orientation\":0.7853981633974483,\"major_label_text_color\":{\"value\":\"#666666\"},\"major_label_text_font_size\":{\"value\":\"10pt\"},\"major_tick_in\":null,\"major_tick_line_cap\":\"round\",\"major_tick_line_color\":{\"value\":\"#AAAAAA\"},\"minor_tick_in\":null,\"minor_tick_out\":null,\"plot\":{\"id\":\"1301\",\"type\":\"Plot\"},\"ticker\":{\"id\":\"1305\",\"type\":\"SingleIntervalTicker\"}},\"id\":\"1306\",\"type\":\"LinearAxis\"},{\"attributes\":{\"fill_alpha\":{\"value\":0.8},\"fill_color\":{\"field\":\"sport_color\"},\"line_alpha\":{\"value\":0.5},\"line_color\":{\"value\":\"#7c7e71\"},\"line_width\":{\"value\":0.5},\"size\":{\"field\":\"population\",\"units\":\"screen\"},\"x\":{\"field\":\"woman\"},\"y\":{\"field\":\"total\"}},\"id\":\"1469\",\"type\":\"Circle\"},{\"attributes\":{\"text\":{\"field\":\"year\"},\"text_color\":{\"value\":\"#EEEEEE\"},\"text_font_size\":{\"value\":\"170pt\"},\"x\":{\"value\":0},\"y\":{\"value\":500}},\"id\":\"1382\",\"type\":\"Text\"},{\"attributes\":{\"axis_label\":\"Total Paricipation\",\"axis_label_text_font_size\":{\"value\":\"10pt\"},\"axis_line_cap\":\"round\",\"axis_line_color\":{\"value\":\"#AAAAAA\"},\"formatter\":{\"id\":\"1336\",\"type\":\"BasicTickFormatter\"},\"major_label_text_color\":{\"value\":\"#666666\"},\"major_label_text_font_size\":{\"value\":\"10pt\"},\"major_tick_in\":null,\"major_tick_line_cap\":\"round\",\"major_tick_line_color\":{\"value\":\"#AAAAAA\"},\"minor_tick_in\":null,\"minor_tick_out\":null,\"plot\":{\"id\":\"1301\",\"type\":\"Plot\"},\"ticker\":{\"id\":\"1308\",\"type\":\"SingleIntervalTicker\"}},\"id\":\"1309\",\"type\":\"LinearAxis\"},{\"attributes\":{\"callback\":null,\"renderers\":[{\"id\":\"1470\",\"type\":\"GlyphRenderer\"}],\"tooltips\":[[\"Sport\",\"@Sport\"],[\"% Women Athletes\",\"@woman\"],[\"Number of Total Athletes\",\"@total\"]]},\"id\":\"1570\",\"type\":\"HoverTool\"},{\"attributes\":{\"data_source\":{\"id\":\"1273\",\"type\":\"ColumnDataSource\"},\"glyph\":{\"id\":\"1469\",\"type\":\"Circle\"},\"hover_glyph\":null,\"muted_glyph\":null,\"view\":{\"id\":\"1471\",\"type\":\"CDSView\"}},\"id\":\"1470\",\"type\":\"GlyphRenderer\"},{\"attributes\":{\"callback\":null,\"data\":{\"year\":[\"1900\"]},\"selected\":{\"id\":\"1412\",\"type\":\"Selection\"},\"selection_policy\":{\"id\":\"1411\",\"type\":\"UnionRenderers\"}},\"id\":\"1381\",\"type\":\"ColumnDataSource\"},{\"attributes\":{},\"id\":\"1332\",\"type\":\"LinearScale\"},{\"attributes\":{\"data_source\":{\"id\":\"1381\",\"type\":\"ColumnDataSource\"},\"glyph\":{\"id\":\"1382\",\"type\":\"Text\"},\"hover_glyph\":null,\"muted_glyph\":null,\"view\":{\"id\":\"1384\",\"type\":\"CDSView\"}},\"id\":\"1383\",\"type\":\"GlyphRenderer\"},{\"attributes\":{\"active_drag\":\"auto\",\"active_inspect\":\"auto\",\"active_multi\":null,\"active_scroll\":\"auto\",\"active_tap\":\"auto\",\"tools\":[{\"id\":\"1570\",\"type\":\"HoverTool\"}]},\"id\":\"1333\",\"type\":\"Toolbar\"},{\"attributes\":{\"source\":{\"id\":\"1381\",\"type\":\"ColumnDataSource\"}},\"id\":\"1384\",\"type\":\"CDSView\"},{\"attributes\":{},\"id\":\"1334\",\"type\":\"LinearScale\"},{\"attributes\":{\"plot\":null,\"text\":\"% Women Participation Compared to Total Participation For the Top 10 Summer Olympic Sports\"},\"id\":\"1304\",\"type\":\"Title\"},{\"attributes\":{},\"id\":\"1335\",\"type\":\"BasicTickFormatter\"},{\"attributes\":{},\"id\":\"1336\",\"type\":\"BasicTickFormatter\"},{\"attributes\":{},\"id\":\"1412\",\"type\":\"Selection\"},{\"attributes\":{},\"id\":\"1501\",\"type\":\"Selection\"},{\"attributes\":{\"callback\":null,\"end\":100.1,\"start\":-0.1},\"id\":\"1299\",\"type\":\"Range1d\"},{\"attributes\":{\"callback\":null,\"end\":2633.4,\"start\":44},\"id\":\"1300\",\"type\":\"Range1d\"},{\"attributes\":{},\"id\":\"1500\",\"type\":\"UnionRenderers\"},{\"attributes\":{\"source\":{\"id\":\"1273\",\"type\":\"ColumnDataSource\"}},\"id\":\"1471\",\"type\":\"CDSView\"}],\"root_ids\":[\"1301\"]},\"title\":\"Bokeh Application\",\"version\":\"1.0.4\"}};\n",
       "  var render_items = [{\"docid\":\"8f679cb7-d880-4393-b8b3-9444bdf9d0be\",\"roots\":{\"1301\":\"94ce5ef6-3e0c-484d-92b1-0f9ec0d78fd4\"}}];\n",
       "  root.Bokeh.embed.embed_items_notebook(docs_json, render_items);\n",
       "\n",
       "  }\n",
       "  if (root.Bokeh !== undefined) {\n",
       "    embed_document(root);\n",
       "  } else {\n",
       "    var attempts = 0;\n",
       "    var timer = setInterval(function(root) {\n",
       "      if (root.Bokeh !== undefined) {\n",
       "        embed_document(root);\n",
       "        clearInterval(timer);\n",
       "      }\n",
       "      attempts++;\n",
       "      if (attempts > 100) {\n",
       "        console.log(\"Bokeh: ERROR: Unable to run BokehJS code because BokehJS library is missing\");\n",
       "        clearInterval(timer);\n",
       "      }\n",
       "    }, 10, root)\n",
       "  }\n",
       "})(window);"
      ],
      "application/vnd.bokehjs_exec.v0+json": ""
     },
     "metadata": {
      "application/vnd.bokehjs_exec.v0+json": {
       "id": "1301"
      }
     },
     "output_type": "display_data"
    }
   ],
   "source": [
    "# Add hover for the circle (not other plot elements)\n",
    "tooltips = [(\"Sport\", \"@Sport\"),\n",
    "            (\"% Women Athletes\", \"@woman\"), \n",
    "            (\"Number of Total Athletes\", \"@total\"),\n",
    "           ]\n",
    "\n",
    "plot.add_tools(HoverTool(\n",
    "                  tooltips=tooltips,\n",
    "                  renderers=[circle_renderer] \n",
    "                  )\n",
    "              )\n",
    "\n",
    "show(plot)"
   ]
  },
  {
   "cell_type": "code",
   "execution_count": 26,
   "metadata": {},
   "outputs": [],
   "source": [
    "text_x = 85#0.9 #30\n",
    "text_y = 2500 #1000\n",
    "#enumerate returns the index and the value of that index\n",
    "#go through each sport and add text to upper right-hand side (for the legend)\n",
    "for i, sport in enumerate(sports_popular):\n",
    "    plot.add_glyph(Text(\n",
    "                      x=text_x, y=text_y,\n",
    "                      text=[sport],\n",
    "                      text_font_size='10pt',\n",
    "                      text_color='#666666'\n",
    "                      )\n",
    "                  )\n",
    "    plot.add_glyph(Circle(\n",
    "                      x=text_x - 1,#- .2 ,\n",
    "                      y=text_y +30,\n",
    "                      #fill_color=Spectral6[i],\n",
    "                      fill_color=plasma(number_of_sports)[i],\n",
    "                      line_color=None,\n",
    "                      fill_alpha=0.8,\n",
    "                      size=10\n",
    "                      )\n",
    "                  )\n",
    "    text_y = text_y - 100\n",
    "    \n"
   ]
  },
  {
   "cell_type": "code",
   "execution_count": 27,
   "metadata": {},
   "outputs": [
    {
     "data": {
      "text/html": [
       "\n",
       "\n",
       "\n",
       "\n",
       "\n",
       "\n",
       "  <div class=\"bk-root\" id=\"e1dca859-0e75-4215-9c29-a941d695c080\" data-root-id=\"1301\"></div>\n"
      ]
     },
     "metadata": {},
     "output_type": "display_data"
    },
    {
     "data": {
      "application/javascript": [
       "(function(root) {\n",
       "  function embed_document(root) {\n",
       "    \n",
       "  var docs_json = {\"8017f16b-158b-4194-acfd-fe695c565087\":{\"roots\":{\"references\":[{\"attributes\":{\"below\":[{\"id\":\"1306\",\"type\":\"LinearAxis\"}],\"left\":[{\"id\":\"1309\",\"type\":\"LinearAxis\"}],\"min_border\":40,\"outline_line_color\":{\"value\":null},\"plot_height\":550,\"plot_width\":700,\"renderers\":[{\"id\":\"1306\",\"type\":\"LinearAxis\"},{\"id\":\"1309\",\"type\":\"LinearAxis\"},{\"id\":\"1383\",\"type\":\"GlyphRenderer\"},{\"id\":\"1470\",\"type\":\"GlyphRenderer\"},{\"id\":\"1672\",\"type\":\"GlyphRenderer\"},{\"id\":\"1708\",\"type\":\"GlyphRenderer\"},{\"id\":\"1746\",\"type\":\"GlyphRenderer\"},{\"id\":\"1786\",\"type\":\"GlyphRenderer\"},{\"id\":\"1828\",\"type\":\"GlyphRenderer\"},{\"id\":\"1872\",\"type\":\"GlyphRenderer\"},{\"id\":\"1918\",\"type\":\"GlyphRenderer\"},{\"id\":\"1966\",\"type\":\"GlyphRenderer\"},{\"id\":\"2016\",\"type\":\"GlyphRenderer\"},{\"id\":\"2068\",\"type\":\"GlyphRenderer\"},{\"id\":\"2122\",\"type\":\"GlyphRenderer\"},{\"id\":\"2178\",\"type\":\"GlyphRenderer\"},{\"id\":\"2236\",\"type\":\"GlyphRenderer\"},{\"id\":\"2296\",\"type\":\"GlyphRenderer\"},{\"id\":\"2358\",\"type\":\"GlyphRenderer\"},{\"id\":\"2422\",\"type\":\"GlyphRenderer\"},{\"id\":\"2488\",\"type\":\"GlyphRenderer\"},{\"id\":\"2556\",\"type\":\"GlyphRenderer\"},{\"id\":\"2626\",\"type\":\"GlyphRenderer\"},{\"id\":\"2698\",\"type\":\"GlyphRenderer\"}],\"title\":{\"id\":\"1304\",\"type\":\"Title\"},\"toolbar\":{\"id\":\"1333\",\"type\":\"Toolbar\"},\"toolbar_location\":null,\"x_range\":{\"id\":\"1299\",\"type\":\"Range1d\"},\"x_scale\":{\"id\":\"1334\",\"type\":\"LinearScale\"},\"y_range\":{\"id\":\"1300\",\"type\":\"Range1d\"},\"y_scale\":{\"id\":\"1332\",\"type\":\"LinearScale\"}},\"id\":\"1301\",\"type\":\"Plot\"},{\"attributes\":{},\"id\":\"1915\",\"type\":\"Selection\"},{\"attributes\":{},\"id\":\"2553\",\"type\":\"Selection\"},{\"attributes\":{\"data_source\":{\"id\":\"1917\",\"type\":\"ColumnDataSource\"},\"glyph\":{\"id\":\"1916\",\"type\":\"Text\"},\"hover_glyph\":null,\"muted_glyph\":null,\"view\":{\"id\":\"1919\",\"type\":\"CDSView\"}},\"id\":\"1918\",\"type\":\"GlyphRenderer\"},{\"attributes\":{},\"id\":\"1743\",\"type\":\"Selection\"},{\"attributes\":{\"callback\":null,\"data\":{},\"selected\":{\"id\":\"2623\",\"type\":\"Selection\"},\"selection_policy\":{\"id\":\"2622\",\"type\":\"UnionRenderers\"}},\"id\":\"2555\",\"type\":\"ColumnDataSource\"},{\"attributes\":{\"callback\":null,\"data\":{},\"selected\":{\"id\":\"1783\",\"type\":\"Selection\"},\"selection_policy\":{\"id\":\"1782\",\"type\":\"UnionRenderers\"}},\"id\":\"1745\",\"type\":\"ColumnDataSource\"},{\"attributes\":{\"data_source\":{\"id\":\"2555\",\"type\":\"ColumnDataSource\"},\"glyph\":{\"id\":\"2554\",\"type\":\"Circle\"},\"hover_glyph\":null,\"muted_glyph\":null,\"view\":{\"id\":\"2557\",\"type\":\"CDSView\"}},\"id\":\"2556\",\"type\":\"GlyphRenderer\"},{\"attributes\":{\"data_source\":{\"id\":\"1745\",\"type\":\"ColumnDataSource\"},\"glyph\":{\"id\":\"1744\",\"type\":\"Text\"},\"hover_glyph\":null,\"muted_glyph\":null,\"view\":{\"id\":\"1747\",\"type\":\"CDSView\"}},\"id\":\"1746\",\"type\":\"GlyphRenderer\"},{\"attributes\":{\"callback\":null,\"data\":{},\"selected\":{\"id\":\"1743\",\"type\":\"Selection\"},\"selection_policy\":{\"id\":\"1742\",\"type\":\"UnionRenderers\"}},\"id\":\"1707\",\"type\":\"ColumnDataSource\"},{\"attributes\":{\"source\":{\"id\":\"2555\",\"type\":\"ColumnDataSource\"}},\"id\":\"2557\",\"type\":\"CDSView\"},{\"attributes\":{},\"id\":\"1704\",\"type\":\"UnionRenderers\"},{\"attributes\":{\"source\":{\"id\":\"1707\",\"type\":\"ColumnDataSource\"}},\"id\":\"1709\",\"type\":\"CDSView\"},{\"attributes\":{\"source\":{\"id\":\"1745\",\"type\":\"ColumnDataSource\"}},\"id\":\"1747\",\"type\":\"CDSView\"},{\"attributes\":{\"fill_alpha\":{\"value\":0.8},\"fill_color\":{\"value\":\"#EFF821\"},\"line_color\":{\"value\":null},\"size\":{\"units\":\"screen\",\"value\":10},\"x\":{\"value\":84},\"y\":{\"value\":1630}},\"id\":\"2696\",\"type\":\"Circle\"},{\"attributes\":{\"source\":{\"id\":\"1917\",\"type\":\"ColumnDataSource\"}},\"id\":\"1919\",\"type\":\"CDSView\"},{\"attributes\":{},\"id\":\"1825\",\"type\":\"Selection\"},{\"attributes\":{},\"id\":\"2622\",\"type\":\"UnionRenderers\"},{\"attributes\":{},\"id\":\"1782\",\"type\":\"UnionRenderers\"},{\"attributes\":{\"fill_alpha\":{\"value\":0.8},\"fill_color\":{\"field\":\"sport_color\"},\"line_alpha\":{\"value\":0.5},\"line_color\":{\"value\":\"#7c7e71\"},\"line_width\":{\"value\":0.5},\"size\":{\"field\":\"population\",\"units\":\"screen\"},\"x\":{\"field\":\"woman\"},\"y\":{\"field\":\"total\"}},\"id\":\"1469\",\"type\":\"Circle\"},{\"attributes\":{},\"id\":\"2623\",\"type\":\"Selection\"},{\"attributes\":{\"text\":{\"field\":\"year\"},\"text_color\":{\"value\":\"#EEEEEE\"},\"text_font_size\":{\"value\":\"170pt\"},\"x\":{\"value\":0},\"y\":{\"value\":500}},\"id\":\"1382\",\"type\":\"Text\"},{\"attributes\":{\"text\":{\"value\":\"Football\"},\"text_color\":{\"value\":\"#666666\"},\"text_font_size\":{\"value\":\"10pt\"},\"x\":{\"value\":85},\"y\":{\"value\":2200}},\"id\":\"1916\",\"type\":\"Text\"},{\"attributes\":{},\"id\":\"1783\",\"type\":\"Selection\"},{\"attributes\":{\"callback\":null,\"data\":{\"year\":[\"1900\"]},\"selected\":{\"id\":\"1412\",\"type\":\"Selection\"},\"selection_policy\":{\"id\":\"1411\",\"type\":\"UnionRenderers\"}},\"id\":\"1381\",\"type\":\"ColumnDataSource\"},{\"attributes\":{\"callback\":null,\"data\":{},\"selected\":{\"id\":\"2695\",\"type\":\"Selection\"},\"selection_policy\":{\"id\":\"2694\",\"type\":\"UnionRenderers\"}},\"id\":\"2625\",\"type\":\"ColumnDataSource\"},{\"attributes\":{\"callback\":null,\"data\":{},\"selected\":{\"id\":\"1825\",\"type\":\"Selection\"},\"selection_policy\":{\"id\":\"1824\",\"type\":\"UnionRenderers\"}},\"id\":\"1785\",\"type\":\"ColumnDataSource\"},{\"attributes\":{\"data_source\":{\"id\":\"2625\",\"type\":\"ColumnDataSource\"},\"glyph\":{\"id\":\"2624\",\"type\":\"Text\"},\"hover_glyph\":null,\"muted_glyph\":null,\"view\":{\"id\":\"2627\",\"type\":\"CDSView\"}},\"id\":\"2626\",\"type\":\"GlyphRenderer\"},{\"attributes\":{\"data_source\":{\"id\":\"1381\",\"type\":\"ColumnDataSource\"},\"glyph\":{\"id\":\"1382\",\"type\":\"Text\"},\"hover_glyph\":null,\"muted_glyph\":null,\"view\":{\"id\":\"1384\",\"type\":\"CDSView\"}},\"id\":\"1383\",\"type\":\"GlyphRenderer\"},{\"attributes\":{\"data_source\":{\"id\":\"1785\",\"type\":\"ColumnDataSource\"},\"glyph\":{\"id\":\"1784\",\"type\":\"Circle\"},\"hover_glyph\":null,\"muted_glyph\":null,\"view\":{\"id\":\"1787\",\"type\":\"CDSView\"}},\"id\":\"1786\",\"type\":\"GlyphRenderer\"},{\"attributes\":{\"fill_alpha\":{\"value\":0.8},\"fill_color\":{\"value\":\"#0C0786\"},\"line_color\":{\"value\":null},\"size\":{\"units\":\"screen\",\"value\":10},\"x\":{\"value\":84},\"y\":{\"value\":2530}},\"id\":\"1706\",\"type\":\"Circle\"},{\"attributes\":{\"source\":{\"id\":\"1381\",\"type\":\"ColumnDataSource\"}},\"id\":\"1384\",\"type\":\"CDSView\"},{\"attributes\":{\"callback\":null,\"data\":{},\"selected\":{\"id\":\"1963\",\"type\":\"Selection\"},\"selection_policy\":{\"id\":\"1962\",\"type\":\"UnionRenderers\"}},\"id\":\"1917\",\"type\":\"ColumnDataSource\"},{\"attributes\":{\"source\":{\"id\":\"2625\",\"type\":\"ColumnDataSource\"}},\"id\":\"2627\",\"type\":\"CDSView\"},{\"attributes\":{\"data_source\":{\"id\":\"1671\",\"type\":\"ColumnDataSource\"},\"glyph\":{\"id\":\"1670\",\"type\":\"Text\"},\"hover_glyph\":null,\"muted_glyph\":null,\"view\":{\"id\":\"1673\",\"type\":\"CDSView\"}},\"id\":\"1672\",\"type\":\"GlyphRenderer\"},{\"attributes\":{\"text\":{\"value\":\"Gymnastics\"},\"text_color\":{\"value\":\"#666666\"},\"text_font_size\":{\"value\":\"10pt\"},\"x\":{\"value\":85},\"y\":{\"value\":2100}},\"id\":\"2014\",\"type\":\"Text\"},{\"attributes\":{\"plot\":null,\"text\":\"% Women Participation Compared to Total Participation For the Top 10 Summer Olympic Sports\"},\"id\":\"1304\",\"type\":\"Title\"},{\"attributes\":{\"source\":{\"id\":\"1871\",\"type\":\"ColumnDataSource\"}},\"id\":\"1873\",\"type\":\"CDSView\"},{\"attributes\":{},\"id\":\"1962\",\"type\":\"UnionRenderers\"},{\"attributes\":{},\"id\":\"2694\",\"type\":\"UnionRenderers\"},{\"attributes\":{},\"id\":\"1963\",\"type\":\"Selection\"},{\"attributes\":{},\"id\":\"2695\",\"type\":\"Selection\"},{\"attributes\":{},\"id\":\"1412\",\"type\":\"Selection\"},{\"attributes\":{},\"id\":\"1501\",\"type\":\"Selection\"},{\"attributes\":{\"callback\":null,\"data\":{},\"selected\":{\"id\":\"2013\",\"type\":\"Selection\"},\"selection_policy\":{\"id\":\"2012\",\"type\":\"UnionRenderers\"}},\"id\":\"1965\",\"type\":\"ColumnDataSource\"},{\"attributes\":{\"callback\":null,\"data\":{},\"selected\":{\"id\":\"2769\",\"type\":\"Selection\"},\"selection_policy\":{\"id\":\"2768\",\"type\":\"UnionRenderers\"}},\"id\":\"2697\",\"type\":\"ColumnDataSource\"},{\"attributes\":{\"callback\":null,\"end\":100.1,\"start\":-0.1},\"id\":\"1299\",\"type\":\"Range1d\"},{\"attributes\":{\"data_source\":{\"id\":\"1965\",\"type\":\"ColumnDataSource\"},\"glyph\":{\"id\":\"1964\",\"type\":\"Circle\"},\"hover_glyph\":null,\"muted_glyph\":null,\"view\":{\"id\":\"1967\",\"type\":\"CDSView\"}},\"id\":\"1966\",\"type\":\"GlyphRenderer\"},{\"attributes\":{\"data_source\":{\"id\":\"2697\",\"type\":\"ColumnDataSource\"},\"glyph\":{\"id\":\"2696\",\"type\":\"Circle\"},\"hover_glyph\":null,\"muted_glyph\":null,\"view\":{\"id\":\"2699\",\"type\":\"CDSView\"}},\"id\":\"2698\",\"type\":\"GlyphRenderer\"},{\"attributes\":{\"callback\":null,\"end\":2633.4,\"start\":44},\"id\":\"1300\",\"type\":\"Range1d\"},{\"attributes\":{\"source\":{\"id\":\"1671\",\"type\":\"ColumnDataSource\"}},\"id\":\"1673\",\"type\":\"CDSView\"},{\"attributes\":{\"text\":{\"value\":\"Fencing\"},\"text_color\":{\"value\":\"#666666\"},\"text_font_size\":{\"value\":\"10pt\"},\"x\":{\"value\":85},\"y\":{\"value\":2300}},\"id\":\"1826\",\"type\":\"Text\"},{\"attributes\":{},\"id\":\"1500\",\"type\":\"UnionRenderers\"},{\"attributes\":{\"source\":{\"id\":\"1965\",\"type\":\"ColumnDataSource\"}},\"id\":\"1967\",\"type\":\"CDSView\"},{\"attributes\":{\"source\":{\"id\":\"2697\",\"type\":\"ColumnDataSource\"}},\"id\":\"2699\",\"type\":\"CDSView\"},{\"attributes\":{\"text\":{\"value\":\"Cycling\"},\"text_color\":{\"value\":\"#666666\"},\"text_font_size\":{\"value\":\"10pt\"},\"x\":{\"value\":85},\"y\":{\"value\":2400}},\"id\":\"1744\",\"type\":\"Text\"},{\"attributes\":{\"fill_alpha\":{\"value\":0.8},\"fill_color\":{\"value\":\"#45039E\"},\"line_color\":{\"value\":null},\"size\":{\"units\":\"screen\",\"value\":10},\"x\":{\"value\":84},\"y\":{\"value\":2430}},\"id\":\"1784\",\"type\":\"Circle\"},{\"attributes\":{\"fill_alpha\":{\"value\":0.8},\"fill_color\":{\"value\":\"#BC3685\"},\"line_color\":{\"value\":null},\"size\":{\"units\":\"screen\",\"value\":10},\"x\":{\"value\":84},\"y\":{\"value\":2130}},\"id\":\"2066\",\"type\":\"Circle\"},{\"attributes\":{},\"id\":\"2012\",\"type\":\"UnionRenderers\"},{\"attributes\":{},\"id\":\"2768\",\"type\":\"UnionRenderers\"},{\"attributes\":{},\"id\":\"2013\",\"type\":\"Selection\"},{\"attributes\":{},\"id\":\"2769\",\"type\":\"Selection\"},{\"attributes\":{},\"id\":\"1411\",\"type\":\"UnionRenderers\"},{\"attributes\":{\"callback\":null,\"data\":{},\"selected\":{\"id\":\"1705\",\"type\":\"Selection\"},\"selection_policy\":{\"id\":\"1704\",\"type\":\"UnionRenderers\"}},\"id\":\"1671\",\"type\":\"ColumnDataSource\"},{\"attributes\":{\"callback\":null,\"data\":{},\"selected\":{\"id\":\"2065\",\"type\":\"Selection\"},\"selection_policy\":{\"id\":\"2064\",\"type\":\"UnionRenderers\"}},\"id\":\"2015\",\"type\":\"ColumnDataSource\"},{\"attributes\":{},\"id\":\"2552\",\"type\":\"UnionRenderers\"},{\"attributes\":{\"data_source\":{\"id\":\"2015\",\"type\":\"ColumnDataSource\"},\"glyph\":{\"id\":\"2014\",\"type\":\"Text\"},\"hover_glyph\":null,\"muted_glyph\":null,\"view\":{\"id\":\"2017\",\"type\":\"CDSView\"}},\"id\":\"2016\",\"type\":\"GlyphRenderer\"},{\"attributes\":{\"text\":{\"value\":\"Athletics\"},\"text_color\":{\"value\":\"#666666\"},\"text_font_size\":{\"value\":\"10pt\"},\"x\":{\"value\":85},\"y\":{\"value\":2500}},\"id\":\"1670\",\"type\":\"Text\"},{\"attributes\":{\"callback\":null,\"data\":{\"Sport\":[\"Athletics\",\"Cycling\",\"Fencing\",\"Football\",\"Gymnastics\",\"Rowing\",\"Sailing\",\"Shooting\",\"Swimming\",\"Wrestling\"],\"population\":[8,8,8,8,8,8,8,8,8,8],\"sport_color\":[\"#0C0786\",\"#45039E\",\"#7200A8\",\"#9B179E\",\"#BC3685\",\"#D7566C\",\"#EC7853\",\"#FA9D3A\",\"#FCC726\",\"#EFF821\"],\"total\":{\"__ndarray__\":\"AAAAAABAbUAAAAAAAABXQAAAAAAA0HNAAAAAAACAQUAAAAAAAOBgQAAAAAAAoGBAAAAAAACAcUAAAAAAAKBrQAAAAAAAYGBAAAAAAAAAAAA=\",\"dtype\":\"float64\",\"shape\":[10]},\"woman\":{\"__ndarray__\":\"AAAAAAAAAAAAAAAAAAAAAAAAAAAAAAAAAAAAAAAAAAAAAAAAAAAAAAAAAAAAAAAAAAAAAAAA8D8AAAAAAAAAAAAAAAAAAAAAAAAAAAAAAAA=\",\"dtype\":\"float64\",\"shape\":[10]}},\"selected\":{\"id\":\"1501\",\"type\":\"Selection\"},\"selection_policy\":{\"id\":\"1500\",\"type\":\"UnionRenderers\"}},\"id\":\"1273\",\"type\":\"ColumnDataSource\"},{\"attributes\":{\"source\":{\"id\":\"2015\",\"type\":\"ColumnDataSource\"}},\"id\":\"2017\",\"type\":\"CDSView\"},{\"attributes\":{\"interval\":10},\"id\":\"1305\",\"type\":\"SingleIntervalTicker\"},{\"attributes\":{\"text\":{\"value\":\"Rowing\"},\"text_color\":{\"value\":\"#666666\"},\"text_font_size\":{\"value\":\"10pt\"},\"x\":{\"value\":85},\"y\":{\"value\":2000}},\"id\":\"2120\",\"type\":\"Text\"},{\"attributes\":{\"interval\":100},\"id\":\"1308\",\"type\":\"SingleIntervalTicker\"},{\"attributes\":{},\"id\":\"2064\",\"type\":\"UnionRenderers\"},{\"attributes\":{\"axis_label\":\"Woman Participation (Percentage)\",\"axis_label_text_font_size\":{\"value\":\"10pt\"},\"axis_line_cap\":\"round\",\"axis_line_color\":{\"value\":\"#AAAAAA\"},\"formatter\":{\"id\":\"1335\",\"type\":\"BasicTickFormatter\"},\"major_label_orientation\":0.7853981633974483,\"major_label_text_color\":{\"value\":\"#666666\"},\"major_label_text_font_size\":{\"value\":\"10pt\"},\"major_tick_in\":null,\"major_tick_line_cap\":\"round\",\"major_tick_line_color\":{\"value\":\"#AAAAAA\"},\"minor_tick_in\":null,\"minor_tick_out\":null,\"plot\":{\"id\":\"1301\",\"type\":\"Plot\"},\"ticker\":{\"id\":\"1305\",\"type\":\"SingleIntervalTicker\"}},\"id\":\"1306\",\"type\":\"LinearAxis\"},{\"attributes\":{},\"id\":\"2065\",\"type\":\"Selection\"},{\"attributes\":{\"axis_label\":\"Total Paricipation\",\"axis_label_text_font_size\":{\"value\":\"10pt\"},\"axis_line_cap\":\"round\",\"axis_line_color\":{\"value\":\"#AAAAAA\"},\"formatter\":{\"id\":\"1336\",\"type\":\"BasicTickFormatter\"},\"major_label_text_color\":{\"value\":\"#666666\"},\"major_label_text_font_size\":{\"value\":\"10pt\"},\"major_tick_in\":null,\"major_tick_line_cap\":\"round\",\"major_tick_line_color\":{\"value\":\"#AAAAAA\"},\"minor_tick_in\":null,\"minor_tick_out\":null,\"plot\":{\"id\":\"1301\",\"type\":\"Plot\"},\"ticker\":{\"id\":\"1308\",\"type\":\"SingleIntervalTicker\"}},\"id\":\"1309\",\"type\":\"LinearAxis\"},{\"attributes\":{\"callback\":null,\"renderers\":[{\"id\":\"1470\",\"type\":\"GlyphRenderer\"}],\"tooltips\":[[\"Sport\",\"@Sport\"],[\"% Women Athletes\",\"@woman\"],[\"Number of Total Athletes\",\"@total\"]]},\"id\":\"1570\",\"type\":\"HoverTool\"},{\"attributes\":{\"data_source\":{\"id\":\"1273\",\"type\":\"ColumnDataSource\"},\"glyph\":{\"id\":\"1469\",\"type\":\"Circle\"},\"hover_glyph\":null,\"muted_glyph\":null,\"view\":{\"id\":\"1471\",\"type\":\"CDSView\"}},\"id\":\"1470\",\"type\":\"GlyphRenderer\"},{\"attributes\":{\"callback\":null,\"data\":{},\"selected\":{\"id\":\"2119\",\"type\":\"Selection\"},\"selection_policy\":{\"id\":\"2118\",\"type\":\"UnionRenderers\"}},\"id\":\"2067\",\"type\":\"ColumnDataSource\"},{\"attributes\":{\"data_source\":{\"id\":\"2067\",\"type\":\"ColumnDataSource\"},\"glyph\":{\"id\":\"2066\",\"type\":\"Circle\"},\"hover_glyph\":null,\"muted_glyph\":null,\"view\":{\"id\":\"2069\",\"type\":\"CDSView\"}},\"id\":\"2068\",\"type\":\"GlyphRenderer\"},{\"attributes\":{},\"id\":\"1332\",\"type\":\"LinearScale\"},{\"attributes\":{\"active_drag\":\"auto\",\"active_inspect\":\"auto\",\"active_multi\":null,\"active_scroll\":\"auto\",\"active_tap\":\"auto\",\"tools\":[{\"id\":\"1570\",\"type\":\"HoverTool\"}]},\"id\":\"1333\",\"type\":\"Toolbar\"},{\"attributes\":{\"source\":{\"id\":\"2067\",\"type\":\"ColumnDataSource\"}},\"id\":\"2069\",\"type\":\"CDSView\"},{\"attributes\":{\"source\":{\"id\":\"1785\",\"type\":\"ColumnDataSource\"}},\"id\":\"1787\",\"type\":\"CDSView\"},{\"attributes\":{},\"id\":\"1334\",\"type\":\"LinearScale\"},{\"attributes\":{\"fill_alpha\":{\"value\":0.8},\"fill_color\":{\"value\":\"#D7566C\"},\"line_color\":{\"value\":null},\"size\":{\"units\":\"screen\",\"value\":10},\"x\":{\"value\":84},\"y\":{\"value\":2030}},\"id\":\"2176\",\"type\":\"Circle\"},{\"attributes\":{},\"id\":\"2118\",\"type\":\"UnionRenderers\"},{\"attributes\":{},\"id\":\"1335\",\"type\":\"BasicTickFormatter\"},{\"attributes\":{},\"id\":\"2119\",\"type\":\"Selection\"},{\"attributes\":{},\"id\":\"1336\",\"type\":\"BasicTickFormatter\"},{\"attributes\":{\"callback\":null,\"data\":{},\"selected\":{\"id\":\"2175\",\"type\":\"Selection\"},\"selection_policy\":{\"id\":\"2174\",\"type\":\"UnionRenderers\"}},\"id\":\"2121\",\"type\":\"ColumnDataSource\"},{\"attributes\":{},\"id\":\"1742\",\"type\":\"UnionRenderers\"},{\"attributes\":{\"data_source\":{\"id\":\"1707\",\"type\":\"ColumnDataSource\"},\"glyph\":{\"id\":\"1706\",\"type\":\"Circle\"},\"hover_glyph\":null,\"muted_glyph\":null,\"view\":{\"id\":\"1709\",\"type\":\"CDSView\"}},\"id\":\"1708\",\"type\":\"GlyphRenderer\"},{\"attributes\":{\"data_source\":{\"id\":\"2121\",\"type\":\"ColumnDataSource\"},\"glyph\":{\"id\":\"2120\",\"type\":\"Text\"},\"hover_glyph\":null,\"muted_glyph\":null,\"view\":{\"id\":\"2123\",\"type\":\"CDSView\"}},\"id\":\"2122\",\"type\":\"GlyphRenderer\"},{\"attributes\":{\"fill_alpha\":{\"value\":0.8},\"fill_color\":{\"value\":\"#9B179E\"},\"line_color\":{\"value\":null},\"size\":{\"units\":\"screen\",\"value\":10},\"x\":{\"value\":84},\"y\":{\"value\":2230}},\"id\":\"1964\",\"type\":\"Circle\"},{\"attributes\":{},\"id\":\"1705\",\"type\":\"Selection\"},{\"attributes\":{\"source\":{\"id\":\"2121\",\"type\":\"ColumnDataSource\"}},\"id\":\"2123\",\"type\":\"CDSView\"},{\"attributes\":{},\"id\":\"1914\",\"type\":\"UnionRenderers\"},{\"attributes\":{\"source\":{\"id\":\"1273\",\"type\":\"ColumnDataSource\"}},\"id\":\"1471\",\"type\":\"CDSView\"},{\"attributes\":{\"text\":{\"value\":\"Sailing\"},\"text_color\":{\"value\":\"#666666\"},\"text_font_size\":{\"value\":\"10pt\"},\"x\":{\"value\":85},\"y\":{\"value\":1900}},\"id\":\"2234\",\"type\":\"Text\"},{\"attributes\":{},\"id\":\"2174\",\"type\":\"UnionRenderers\"},{\"attributes\":{},\"id\":\"2175\",\"type\":\"Selection\"},{\"attributes\":{\"callback\":null,\"data\":{},\"selected\":{\"id\":\"2233\",\"type\":\"Selection\"},\"selection_policy\":{\"id\":\"2232\",\"type\":\"UnionRenderers\"}},\"id\":\"2177\",\"type\":\"ColumnDataSource\"},{\"attributes\":{\"data_source\":{\"id\":\"2177\",\"type\":\"ColumnDataSource\"},\"glyph\":{\"id\":\"2176\",\"type\":\"Circle\"},\"hover_glyph\":null,\"muted_glyph\":null,\"view\":{\"id\":\"2179\",\"type\":\"CDSView\"}},\"id\":\"2178\",\"type\":\"GlyphRenderer\"},{\"attributes\":{\"data_source\":{\"id\":\"1871\",\"type\":\"ColumnDataSource\"},\"glyph\":{\"id\":\"1870\",\"type\":\"Circle\"},\"hover_glyph\":null,\"muted_glyph\":null,\"view\":{\"id\":\"1873\",\"type\":\"CDSView\"}},\"id\":\"1872\",\"type\":\"GlyphRenderer\"},{\"attributes\":{\"source\":{\"id\":\"2177\",\"type\":\"ColumnDataSource\"}},\"id\":\"2179\",\"type\":\"CDSView\"},{\"attributes\":{\"fill_alpha\":{\"value\":0.8},\"fill_color\":{\"value\":\"#EC7853\"},\"line_color\":{\"value\":null},\"size\":{\"units\":\"screen\",\"value\":10},\"x\":{\"value\":84},\"y\":{\"value\":1930}},\"id\":\"2294\",\"type\":\"Circle\"},{\"attributes\":{},\"id\":\"2232\",\"type\":\"UnionRenderers\"},{\"attributes\":{},\"id\":\"2233\",\"type\":\"Selection\"},{\"attributes\":{\"callback\":null,\"data\":{},\"selected\":{\"id\":\"2293\",\"type\":\"Selection\"},\"selection_policy\":{\"id\":\"2292\",\"type\":\"UnionRenderers\"}},\"id\":\"2235\",\"type\":\"ColumnDataSource\"},{\"attributes\":{\"data_source\":{\"id\":\"2235\",\"type\":\"ColumnDataSource\"},\"glyph\":{\"id\":\"2234\",\"type\":\"Text\"},\"hover_glyph\":null,\"muted_glyph\":null,\"view\":{\"id\":\"2237\",\"type\":\"CDSView\"}},\"id\":\"2236\",\"type\":\"GlyphRenderer\"},{\"attributes\":{\"source\":{\"id\":\"2235\",\"type\":\"ColumnDataSource\"}},\"id\":\"2237\",\"type\":\"CDSView\"},{\"attributes\":{\"text\":{\"value\":\"Shooting\"},\"text_color\":{\"value\":\"#666666\"},\"text_font_size\":{\"value\":\"10pt\"},\"x\":{\"value\":85},\"y\":{\"value\":1800}},\"id\":\"2356\",\"type\":\"Text\"},{\"attributes\":{},\"id\":\"2292\",\"type\":\"UnionRenderers\"},{\"attributes\":{\"fill_alpha\":{\"value\":0.8},\"fill_color\":{\"value\":\"#7200A8\"},\"line_color\":{\"value\":null},\"size\":{\"units\":\"screen\",\"value\":10},\"x\":{\"value\":84},\"y\":{\"value\":2330}},\"id\":\"1870\",\"type\":\"Circle\"},{\"attributes\":{},\"id\":\"2293\",\"type\":\"Selection\"},{\"attributes\":{},\"id\":\"1824\",\"type\":\"UnionRenderers\"},{\"attributes\":{\"callback\":null,\"data\":{},\"selected\":{\"id\":\"2355\",\"type\":\"Selection\"},\"selection_policy\":{\"id\":\"2354\",\"type\":\"UnionRenderers\"}},\"id\":\"2295\",\"type\":\"ColumnDataSource\"},{\"attributes\":{\"data_source\":{\"id\":\"2295\",\"type\":\"ColumnDataSource\"},\"glyph\":{\"id\":\"2294\",\"type\":\"Circle\"},\"hover_glyph\":null,\"muted_glyph\":null,\"view\":{\"id\":\"2297\",\"type\":\"CDSView\"}},\"id\":\"2296\",\"type\":\"GlyphRenderer\"},{\"attributes\":{\"source\":{\"id\":\"2295\",\"type\":\"ColumnDataSource\"}},\"id\":\"2297\",\"type\":\"CDSView\"},{\"attributes\":{\"fill_alpha\":{\"value\":0.8},\"fill_color\":{\"value\":\"#FA9D3A\"},\"line_color\":{\"value\":null},\"size\":{\"units\":\"screen\",\"value\":10},\"x\":{\"value\":84},\"y\":{\"value\":1830}},\"id\":\"2420\",\"type\":\"Circle\"},{\"attributes\":{},\"id\":\"1869\",\"type\":\"Selection\"},{\"attributes\":{},\"id\":\"2354\",\"type\":\"UnionRenderers\"},{\"attributes\":{},\"id\":\"2355\",\"type\":\"Selection\"},{\"attributes\":{\"callback\":null,\"data\":{},\"selected\":{\"id\":\"2419\",\"type\":\"Selection\"},\"selection_policy\":{\"id\":\"2418\",\"type\":\"UnionRenderers\"}},\"id\":\"2357\",\"type\":\"ColumnDataSource\"},{\"attributes\":{\"data_source\":{\"id\":\"2357\",\"type\":\"ColumnDataSource\"},\"glyph\":{\"id\":\"2356\",\"type\":\"Text\"},\"hover_glyph\":null,\"muted_glyph\":null,\"view\":{\"id\":\"2359\",\"type\":\"CDSView\"}},\"id\":\"2358\",\"type\":\"GlyphRenderer\"},{\"attributes\":{\"callback\":null,\"data\":{},\"selected\":{\"id\":\"1915\",\"type\":\"Selection\"},\"selection_policy\":{\"id\":\"1914\",\"type\":\"UnionRenderers\"}},\"id\":\"1871\",\"type\":\"ColumnDataSource\"},{\"attributes\":{\"source\":{\"id\":\"2357\",\"type\":\"ColumnDataSource\"}},\"id\":\"2359\",\"type\":\"CDSView\"},{\"attributes\":{\"text\":{\"value\":\"Swimming\"},\"text_color\":{\"value\":\"#666666\"},\"text_font_size\":{\"value\":\"10pt\"},\"x\":{\"value\":85},\"y\":{\"value\":1700}},\"id\":\"2486\",\"type\":\"Text\"},{\"attributes\":{},\"id\":\"2418\",\"type\":\"UnionRenderers\"},{\"attributes\":{},\"id\":\"2419\",\"type\":\"Selection\"},{\"attributes\":{\"callback\":null,\"data\":{},\"selected\":{\"id\":\"1869\",\"type\":\"Selection\"},\"selection_policy\":{\"id\":\"1868\",\"type\":\"UnionRenderers\"}},\"id\":\"1827\",\"type\":\"ColumnDataSource\"},{\"attributes\":{\"callback\":null,\"data\":{},\"selected\":{\"id\":\"2485\",\"type\":\"Selection\"},\"selection_policy\":{\"id\":\"2484\",\"type\":\"UnionRenderers\"}},\"id\":\"2421\",\"type\":\"ColumnDataSource\"},{\"attributes\":{\"data_source\":{\"id\":\"2421\",\"type\":\"ColumnDataSource\"},\"glyph\":{\"id\":\"2420\",\"type\":\"Circle\"},\"hover_glyph\":null,\"muted_glyph\":null,\"view\":{\"id\":\"2423\",\"type\":\"CDSView\"}},\"id\":\"2422\",\"type\":\"GlyphRenderer\"},{\"attributes\":{\"source\":{\"id\":\"2421\",\"type\":\"ColumnDataSource\"}},\"id\":\"2423\",\"type\":\"CDSView\"},{\"attributes\":{\"fill_alpha\":{\"value\":0.8},\"fill_color\":{\"value\":\"#FCC726\"},\"line_color\":{\"value\":null},\"size\":{\"units\":\"screen\",\"value\":10},\"x\":{\"value\":84},\"y\":{\"value\":1730}},\"id\":\"2554\",\"type\":\"Circle\"},{\"attributes\":{},\"id\":\"2484\",\"type\":\"UnionRenderers\"},{\"attributes\":{\"source\":{\"id\":\"1827\",\"type\":\"ColumnDataSource\"}},\"id\":\"1829\",\"type\":\"CDSView\"},{\"attributes\":{},\"id\":\"2485\",\"type\":\"Selection\"},{\"attributes\":{\"callback\":null,\"data\":{},\"selected\":{\"id\":\"2553\",\"type\":\"Selection\"},\"selection_policy\":{\"id\":\"2552\",\"type\":\"UnionRenderers\"}},\"id\":\"2487\",\"type\":\"ColumnDataSource\"},{\"attributes\":{\"data_source\":{\"id\":\"2487\",\"type\":\"ColumnDataSource\"},\"glyph\":{\"id\":\"2486\",\"type\":\"Text\"},\"hover_glyph\":null,\"muted_glyph\":null,\"view\":{\"id\":\"2489\",\"type\":\"CDSView\"}},\"id\":\"2488\",\"type\":\"GlyphRenderer\"},{\"attributes\":{\"data_source\":{\"id\":\"1827\",\"type\":\"ColumnDataSource\"},\"glyph\":{\"id\":\"1826\",\"type\":\"Text\"},\"hover_glyph\":null,\"muted_glyph\":null,\"view\":{\"id\":\"1829\",\"type\":\"CDSView\"}},\"id\":\"1828\",\"type\":\"GlyphRenderer\"},{\"attributes\":{\"source\":{\"id\":\"2487\",\"type\":\"ColumnDataSource\"}},\"id\":\"2489\",\"type\":\"CDSView\"},{\"attributes\":{\"text\":{\"value\":\"Wrestling\"},\"text_color\":{\"value\":\"#666666\"},\"text_font_size\":{\"value\":\"10pt\"},\"x\":{\"value\":85},\"y\":{\"value\":1600}},\"id\":\"2624\",\"type\":\"Text\"},{\"attributes\":{},\"id\":\"1868\",\"type\":\"UnionRenderers\"}],\"root_ids\":[\"1301\"]},\"title\":\"Bokeh Application\",\"version\":\"1.0.4\"}};\n",
       "  var render_items = [{\"docid\":\"8017f16b-158b-4194-acfd-fe695c565087\",\"roots\":{\"1301\":\"e1dca859-0e75-4215-9c29-a941d695c080\"}}];\n",
       "  root.Bokeh.embed.embed_items_notebook(docs_json, render_items);\n",
       "\n",
       "  }\n",
       "  if (root.Bokeh !== undefined) {\n",
       "    embed_document(root);\n",
       "  } else {\n",
       "    var attempts = 0;\n",
       "    var timer = setInterval(function(root) {\n",
       "      if (root.Bokeh !== undefined) {\n",
       "        embed_document(root);\n",
       "        clearInterval(timer);\n",
       "      }\n",
       "      attempts++;\n",
       "      if (attempts > 100) {\n",
       "        console.log(\"Bokeh: ERROR: Unable to run BokehJS code because BokehJS library is missing\");\n",
       "        clearInterval(timer);\n",
       "      }\n",
       "    }, 10, root)\n",
       "  }\n",
       "})(window);"
      ],
      "application/vnd.bokehjs_exec.v0+json": ""
     },
     "metadata": {
      "application/vnd.bokehjs_exec.v0+json": {
       "id": "1301"
      }
     },
     "output_type": "display_data"
    }
   ],
   "source": [
    "show(plot)"
   ]
  },
  {
   "cell_type": "code",
   "execution_count": 28,
   "metadata": {},
   "outputs": [],
   "source": [
    "# Add the slider\n",
    "\n",
    "    #create a slider \n",
    "    #this is JavaScript \n",
    "    \n",
    "code = \"\"\"\n",
    "    var year = slider.value,\n",
    "        sources = %s,\n",
    "        new_source_data = sources[year].data;\n",
    "    renderer_source.data = new_source_data;\n",
    "    text_source.data = {'year': [String(year)]};\n",
    "\"\"\" % js_source_array\n",
    "#send to processor \n",
    "#when change in slider invoke this, (send to browser everytime there is a change)\n",
    "callback = CustomJS(args=sources, code=code)\n",
    "slider   = Slider(\n",
    "              start=years[0], end=years[-1],\n",
    "              value=1, step=1, title=\"Year\",\n",
    "              callback=callback\n",
    "              )\n",
    "callback.args[\"renderer_source\"] = renderer_source\n",
    "callback.args[\"text_source\"] = text_source\n",
    "callback.args[\"slider\"] = slider"
   ]
  },
  {
   "cell_type": "code",
   "execution_count": 29,
   "metadata": {},
   "outputs": [
    {
     "data": {
      "text/html": [
       "\n",
       "\n",
       "\n",
       "\n",
       "\n",
       "\n",
       "  <div class=\"bk-root\" id=\"321b940e-0a83-4168-8f75-8db9121a9a5e\" data-root-id=\"3080\"></div>\n"
      ]
     },
     "metadata": {},
     "output_type": "display_data"
    },
    {
     "data": {
      "application/javascript": [
       "(function(root) {\n",
       "  function embed_document(root) {\n",
       "    \n",
       "  var docs_json = {\"1cf7692a-67b1-41d5-99da-e42b9a0952b3\":{\"roots\":{\"references\":[{\"attributes\":{\"children\":[{\"id\":\"3079\",\"type\":\"Slider\"}]},\"id\":\"3080\",\"type\":\"WidgetBox\"},{\"attributes\":{},\"id\":\"3173\",\"type\":\"UnionRenderers\"},{\"attributes\":{},\"id\":\"3157\",\"type\":\"UnionRenderers\"},{\"attributes\":{},\"id\":\"3167\",\"type\":\"UnionRenderers\"},{\"attributes\":{},\"id\":\"3160\",\"type\":\"Selection\"},{\"attributes\":{},\"id\":\"3158\",\"type\":\"Selection\"},{\"attributes\":{\"callback\":null,\"data\":{\"Sport\":[\"Athletics\",\"Cycling\",\"Fencing\",\"Football\",\"Gymnastics\",\"Rowing\",\"Sailing\",\"Shooting\",\"Swimming\",\"Wrestling\"],\"population\":[8,8,30,8,27,36,31,8,36,8],\"sport_color\":[\"#0C0786\",\"#45039E\",\"#7200A8\",\"#9B179E\",\"#BC3685\",\"#D7566C\",\"#EC7853\",\"#FA9D3A\",\"#FCC726\",\"#EFF821\"],\"total\":{\"__ndarray__\":\"AAAAAADQk0AAAAAAADBzQAAAAAAAEHRAAAAAAAAAcEAAAAAAABCLQAAAAAAAgH5AAAAAAACAY0AAAAAAALBwQAAAAAAAyIdAAAAAAADgcEA=\",\"dtype\":\"float64\",\"shape\":[10]},\"woman\":{\"__ndarray__\":\"AAAAAAAAAEAAAAAAAAAAAAAAAAAAAD1AAAAAAAAAAAAAAAAAAAA4QAAAAAAAgERAAAAAAAAAQEAAAAAAAAAAAAAAAAAAAEVAAAAAAAAAAAA=\",\"dtype\":\"float64\",\"shape\":[10]}},\"selected\":{\"id\":\"3184\",\"type\":\"Selection\"},\"selection_policy\":{\"id\":\"3183\",\"type\":\"UnionRenderers\"}},\"id\":\"1289\",\"type\":\"ColumnDataSource\"},{\"attributes\":{},\"id\":\"3177\",\"type\":\"UnionRenderers\"},{\"attributes\":{},\"id\":\"3161\",\"type\":\"UnionRenderers\"},{\"attributes\":{},\"id\":\"3168\",\"type\":\"Selection\"},{\"attributes\":{\"callback\":null,\"data\":{\"year\":[\"1900\"]},\"selected\":{\"id\":\"1412\",\"type\":\"Selection\"},\"selection_policy\":{\"id\":\"1411\",\"type\":\"UnionRenderers\"}},\"id\":\"1381\",\"type\":\"ColumnDataSource\"},{\"attributes\":{},\"id\":\"3166\",\"type\":\"Selection\"},{\"attributes\":{},\"id\":\"1501\",\"type\":\"Selection\"},{\"attributes\":{},\"id\":\"1412\",\"type\":\"Selection\"},{\"attributes\":{},\"id\":\"3164\",\"type\":\"Selection\"},{\"attributes\":{\"callback\":{\"id\":\"3078\",\"type\":\"CustomJS\"},\"end\":2016,\"start\":1900,\"title\":\"Year\",\"value\":1},\"id\":\"3079\",\"type\":\"Slider\"},{\"attributes\":{\"callback\":null,\"data\":{\"Sport\":[\"Athletics\",\"Cycling\",\"Fencing\",\"Football\",\"Gymnastics\",\"Rowing\",\"Sailing\",\"Shooting\",\"Swimming\",\"Wrestling\"],\"population\":[31,8,26,8,36,33,8,8,38,8],\"sport_color\":[\"#0C0786\",\"#45039E\",\"#7200A8\",\"#9B179E\",\"#BC3685\",\"#D7566C\",\"#EC7853\",\"#FA9D3A\",\"#FCC726\",\"#EFF821\"],\"total\":{\"__ndarray__\":\"AAAAAABElEAAAAAAAIB4QAAAAAAAUH5AAAAAAABAaUAAAAAAANCSQAAAAAAAsIJAAAAAAAAQcEAAAAAAABB3QAAAAAAA0JBAAAAAAADQdUA=\",\"dtype\":\"float64\",\"shape\":[10]},\"woman\":{\"__ndarray__\":\"AAAAAAAAQEAAAAAAAAAAAAAAAAAAADZAAAAAAAAAAAAAAAAAAIBEQAAAAAAAgEFAAAAAAAAAAAAAAAAAAAAAQAAAAAAAAEdAAAAAAAAAAAA=\",\"dtype\":\"float64\",\"shape\":[10]}},\"selected\":{\"id\":\"3182\",\"type\":\"Selection\"},\"selection_policy\":{\"id\":\"3181\",\"type\":\"UnionRenderers\"}},\"id\":\"1288\",\"type\":\"ColumnDataSource\"},{\"attributes\":{\"callback\":null,\"data\":{\"Sport\":[\"Athletics\",\"Cycling\",\"Fencing\",\"Football\",\"Gymnastics\",\"Rowing\",\"Sailing\",\"Shooting\",\"Swimming\",\"Wrestling\"],\"population\":[25,8,15,8,38,8,8,8,36,8],\"sport_color\":[\"#0C0786\",\"#45039E\",\"#7200A8\",\"#9B179E\",\"#BC3685\",\"#D7566C\",\"#EC7853\",\"#FA9D3A\",\"#FCC726\",\"#EFF821\"],\"total\":{\"__ndarray__\":\"AAAAAACoj0AAAAAAAEByQAAAAAAAYHFAAAAAAADgYUAAAAAAAIiMQAAAAAAAIHBAAAAAAABAY0AAAAAAAGBrQAAAAAAAQHZAAAAAAABgaEA=\",\"dtype\":\"float64\",\"shape\":[10]},\"woman\":{\"__ndarray__\":\"AAAAAAAANUAAAAAAAAAAAAAAAAAAACBAAAAAAAAAAAAAAAAAAIBHQAAAAAAAAAAAAAAAAAAAAAAAAAAAAAAAAAAAAAAAgEVAAAAAAAAAAAA=\",\"dtype\":\"float64\",\"shape\":[10]}},\"selected\":{\"id\":\"3172\",\"type\":\"Selection\"},\"selection_policy\":{\"id\":\"3171\",\"type\":\"UnionRenderers\"}},\"id\":\"1283\",\"type\":\"ColumnDataSource\"},{\"attributes\":{},\"id\":\"1500\",\"type\":\"UnionRenderers\"},{\"attributes\":{},\"id\":\"3176\",\"type\":\"Selection\"},{\"attributes\":{\"args\":{\"_1900\":{\"id\":\"1273\",\"type\":\"ColumnDataSource\"},\"_1908\":{\"id\":\"1274\",\"type\":\"ColumnDataSource\"},\"_1912\":{\"id\":\"1275\",\"type\":\"ColumnDataSource\"},\"_1920\":{\"id\":\"1276\",\"type\":\"ColumnDataSource\"},\"_1924\":{\"id\":\"1277\",\"type\":\"ColumnDataSource\"},\"_1928\":{\"id\":\"1278\",\"type\":\"ColumnDataSource\"},\"_1932\":{\"id\":\"1279\",\"type\":\"ColumnDataSource\"},\"_1936\":{\"id\":\"1280\",\"type\":\"ColumnDataSource\"},\"_1948\":{\"id\":\"1281\",\"type\":\"ColumnDataSource\"},\"_1952\":{\"id\":\"1282\",\"type\":\"ColumnDataSource\"},\"_1956\":{\"id\":\"1283\",\"type\":\"ColumnDataSource\"},\"_1960\":{\"id\":\"1284\",\"type\":\"ColumnDataSource\"},\"_1964\":{\"id\":\"1285\",\"type\":\"ColumnDataSource\"},\"_1968\":{\"id\":\"1286\",\"type\":\"ColumnDataSource\"},\"_1972\":{\"id\":\"1287\",\"type\":\"ColumnDataSource\"},\"_1976\":{\"id\":\"1288\",\"type\":\"ColumnDataSource\"},\"_1980\":{\"id\":\"1289\",\"type\":\"ColumnDataSource\"},\"_1984\":{\"id\":\"1290\",\"type\":\"ColumnDataSource\"},\"_1988\":{\"id\":\"1291\",\"type\":\"ColumnDataSource\"},\"_1992\":{\"id\":\"1292\",\"type\":\"ColumnDataSource\"},\"_1996\":{\"id\":\"1293\",\"type\":\"ColumnDataSource\"},\"_2000\":{\"id\":\"1294\",\"type\":\"ColumnDataSource\"},\"_2004\":{\"id\":\"1295\",\"type\":\"ColumnDataSource\"},\"_2008\":{\"id\":\"1296\",\"type\":\"ColumnDataSource\"},\"_2012\":{\"id\":\"1297\",\"type\":\"ColumnDataSource\"},\"_2016\":{\"id\":\"1298\",\"type\":\"ColumnDataSource\"},\"renderer_source\":{\"id\":\"1273\",\"type\":\"ColumnDataSource\"},\"slider\":{\"id\":\"3079\",\"type\":\"Slider\"},\"text_source\":{\"id\":\"1381\",\"type\":\"ColumnDataSource\"}},\"code\":\"\\n    var year = slider.value,\\n        sources = {1900: _1900, 1908: _1908, 1912: _1912, 1920: _1920, 1924: _1924, 1928: _1928, 1932: _1932, 1936: _1936, 1948: _1948, 1952: _1952, 1956: _1956, 1960: _1960, 1964: _1964, 1968: _1968, 1972: _1972, 1976: _1976, 1980: _1980, 1984: _1984, 1988: _1988, 1992: _1992, 1996: _1996, 2000: _2000, 2004: _2004, 2008: _2008, 2012: _2012, 2016: _2016},\\n        new_source_data = sources[year].data;\\n    renderer_source.data = new_source_data;\\n    text_source.data = {'year': [String(year)]};\\n\"},\"id\":\"3078\",\"type\":\"CustomJS\"},{\"attributes\":{},\"id\":\"3170\",\"type\":\"Selection\"},{\"attributes\":{},\"id\":\"1411\",\"type\":\"UnionRenderers\"},{\"attributes\":{\"callback\":null,\"data\":{\"Sport\":[\"Athletics\",\"Cycling\",\"Fencing\",\"Football\",\"Gymnastics\",\"Rowing\",\"Sailing\",\"Shooting\",\"Swimming\",\"Wrestling\"],\"population\":[8,8,8,8,8,8,8,8,8,8],\"sport_color\":[\"#0C0786\",\"#45039E\",\"#7200A8\",\"#9B179E\",\"#BC3685\",\"#D7566C\",\"#EC7853\",\"#FA9D3A\",\"#FCC726\",\"#EFF821\"],\"total\":{\"__ndarray__\":\"AAAAAABAbUAAAAAAAABXQAAAAAAA0HNAAAAAAACAQUAAAAAAAOBgQAAAAAAAoGBAAAAAAACAcUAAAAAAAKBrQAAAAAAAYGBAAAAAAAAAAAA=\",\"dtype\":\"float64\",\"shape\":[10]},\"woman\":{\"__ndarray__\":\"AAAAAAAAAAAAAAAAAAAAAAAAAAAAAAAAAAAAAAAAAAAAAAAAAAAAAAAAAAAAAAAAAAAAAAAA8D8AAAAAAAAAAAAAAAAAAAAAAAAAAAAAAAA=\",\"dtype\":\"float64\",\"shape\":[10]}},\"selected\":{\"id\":\"1501\",\"type\":\"Selection\"},\"selection_policy\":{\"id\":\"1500\",\"type\":\"UnionRenderers\"}},\"id\":\"1273\",\"type\":\"ColumnDataSource\"},{\"attributes\":{},\"id\":\"3165\",\"type\":\"UnionRenderers\"},{\"attributes\":{\"callback\":null,\"data\":{\"Sport\":[\"Athletics\",\"Cycling\",\"Fencing\",\"Football\",\"Gymnastics\",\"Rowing\",\"Sailing\",\"Shooting\",\"Swimming\",\"Wrestling\"],\"population\":[35,8,8,8,23,8,25,8,36,8],\"sport_color\":[\"#0C0786\",\"#45039E\",\"#7200A8\",\"#9B179E\",\"#BC3685\",\"#D7566C\",\"#EC7853\",\"#FA9D3A\",\"#FCC726\",\"#EFF821\"],\"total\":{\"__ndarray__\":\"AAAAAACAlEAAAAAAAHB6QAAAAAAAyIJAAAAAAABgbUAAAAAAAEibQAAAAAAA8HpAAAAAAAAgckAAAAAAAFB4QAAAAAAAsINAAAAAAAAQdUA=\",\"dtype\":\"float64\",\"shape\":[10]},\"woman\":{\"__ndarray__\":\"AAAAAACAQ0AAAAAAAAAAAAAAAAAAAAAAAAAAAAAAAAAAAAAAAAAyQAAAAAAAAAAAAAAAAAAANEAAAAAAAAAAAAAAAAAAgERAAAAAAAAAAAA=\",\"dtype\":\"float64\",\"shape\":[10]}},\"selected\":{\"id\":\"3174\",\"type\":\"Selection\"},\"selection_policy\":{\"id\":\"3173\",\"type\":\"UnionRenderers\"}},\"id\":\"1284\",\"type\":\"ColumnDataSource\"},{\"attributes\":{\"callback\":null,\"data\":{\"Sport\":[\"Athletics\",\"Cycling\",\"Fencing\",\"Football\",\"Gymnastics\",\"Rowing\",\"Sailing\",\"Shooting\",\"Swimming\",\"Wrestling\"],\"population\":[28,8,23,8,35,8,8,8,36,8],\"sport_color\":[\"#0C0786\",\"#45039E\",\"#7200A8\",\"#9B179E\",\"#BC3685\",\"#D7566C\",\"#EC7853\",\"#FA9D3A\",\"#FCC726\",\"#EFF821\"],\"total\":{\"__ndarray__\":\"AAAAAAAElUAAAAAAADB+QAAAAAAAoH5AAAAAAAAQcUAAAAAAAGCXQAAAAAAAYHZAAAAAAACAb0AAAAAAAKB5QAAAAAAAPJNAAAAAAADQdEA=\",\"dtype\":\"float64\",\"shape\":[10]},\"woman\":{\"__ndarray__\":\"AAAAAAAAOkAAAAAAAAAAAAAAAAAAADFAAAAAAAAAAAAAAAAAAIBDQAAAAAAAAAAAAAAAAAAAAAAAAAAAAAAAAAAAAAAAgEVAAAAAAAAAAAA=\",\"dtype\":\"float64\",\"shape\":[10]}},\"selected\":{\"id\":\"3178\",\"type\":\"Selection\"},\"selection_policy\":{\"id\":\"3177\",\"type\":\"UnionRenderers\"}},\"id\":\"1286\",\"type\":\"ColumnDataSource\"},{\"attributes\":{},\"id\":\"3156\",\"type\":\"Selection\"},{\"attributes\":{},\"id\":\"3174\",\"type\":\"Selection\"},{\"attributes\":{\"callback\":null,\"data\":{\"Sport\":[\"Athletics\",\"Cycling\",\"Fencing\",\"Football\",\"Gymnastics\",\"Rowing\",\"Sailing\",\"Shooting\",\"Swimming\",\"Wrestling\"],\"population\":[8,8,12,8,8,8,8,8,31,8],\"sport_color\":[\"#0C0786\",\"#45039E\",\"#7200A8\",\"#9B179E\",\"#BC3685\",\"#D7566C\",\"#EC7853\",\"#FA9D3A\",\"#FCC726\",\"#EFF821\"],\"total\":{\"__ndarray__\":\"AAAAAABYj0AAAAAAACBvQAAAAAAAgHpAAAAAAABwcUAAAAAAAPCDQAAAAAAAgGhAAAAAAABAUUAAAAAAAMB/QAAAAAAAcHBAAAAAAACAbkA=\",\"dtype\":\"float64\",\"shape\":[10]},\"woman\":{\"__ndarray__\":\"AAAAAAAAAAAAAAAAAAAAAAAAAAAAABRAAAAAAAAAAAAAAAAAAAAAAAAAAAAAAAAAAAAAAAAA8D8AAAAAAAAAAAAAAAAAAD9AAAAAAAAAAAA=\",\"dtype\":\"float64\",\"shape\":[10]}},\"selected\":{\"id\":\"3160\",\"type\":\"Selection\"},\"selection_policy\":{\"id\":\"3159\",\"type\":\"UnionRenderers\"}},\"id\":\"1277\",\"type\":\"ColumnDataSource\"},{\"attributes\":{\"callback\":null,\"data\":{\"Sport\":[\"Athletics\",\"Cycling\",\"Fencing\",\"Football\",\"Gymnastics\",\"Rowing\",\"Sailing\",\"Shooting\",\"Swimming\",\"Wrestling\"],\"population\":[28,8,23,8,31,8,8,8,34,8],\"sport_color\":[\"#0C0786\",\"#45039E\",\"#7200A8\",\"#9B179E\",\"#BC3685\",\"#D7566C\",\"#EC7853\",\"#FA9D3A\",\"#FCC726\",\"#EFF821\"],\"total\":{\"__ndarray__\":\"AAAAAADclEAAAAAAADB8QAAAAAAAEH5AAAAAAADAakAAAAAAADCXQAAAAAAAoHdAAAAAAAAgbEAAAAAAAIBzQAAAAAAAAIdAAAAAAADgckA=\",\"dtype\":\"float64\",\"shape\":[10]},\"woman\":{\"__ndarray__\":\"AAAAAAAAOUAAAAAAAAAAAAAAAAAAADFAAAAAAAAAAAAAAAAAAAA/QAAAAAAAAAAAAAAAAAAAAAAAAAAAAAAAAAAAAAAAgEJAAAAAAAAAAAA=\",\"dtype\":\"float64\",\"shape\":[10]}},\"selected\":{\"id\":\"3176\",\"type\":\"Selection\"},\"selection_policy\":{\"id\":\"3175\",\"type\":\"UnionRenderers\"}},\"id\":\"1285\",\"type\":\"ColumnDataSource\"},{\"attributes\":{},\"id\":\"3159\",\"type\":\"UnionRenderers\"},{\"attributes\":{},\"id\":\"3175\",\"type\":\"UnionRenderers\"},{\"attributes\":{},\"id\":\"3154\",\"type\":\"Selection\"},{\"attributes\":{},\"id\":\"3172\",\"type\":\"Selection\"},{\"attributes\":{},\"id\":\"3163\",\"type\":\"UnionRenderers\"},{\"attributes\":{},\"id\":\"3153\",\"type\":\"UnionRenderers\"},{\"attributes\":{},\"id\":\"3169\",\"type\":\"UnionRenderers\"},{\"attributes\":{},\"id\":\"3178\",\"type\":\"Selection\"},{\"attributes\":{},\"id\":\"3155\",\"type\":\"UnionRenderers\"},{\"attributes\":{},\"id\":\"3171\",\"type\":\"UnionRenderers\"},{\"attributes\":{},\"id\":\"3180\",\"type\":\"Selection\"},{\"attributes\":{},\"id\":\"3181\",\"type\":\"UnionRenderers\"},{\"attributes\":{\"callback\":null,\"data\":{\"Sport\":[\"Athletics\",\"Cycling\",\"Fencing\",\"Football\",\"Gymnastics\",\"Rowing\",\"Sailing\",\"Shooting\",\"Swimming\",\"Wrestling\"],\"population\":[8,34,34,8,23,25,16,35,30,8],\"sport_color\":[\"#0C0786\",\"#45039E\",\"#7200A8\",\"#9B179E\",\"#BC3685\",\"#D7566C\",\"#EC7853\",\"#FA9D3A\",\"#FCC726\",\"#EFF821\"],\"total\":{\"__ndarray__\":\"AAAAAAAomkAAAAAAALB9QAAAAAAAgHpAAAAAAADAbkAAAAAAABCNQAAAAAAAEH1AAAAAAADAckAAAAAAANiAQAAAAAAAQJNAAAAAAADgcUA=\",\"dtype\":\"float64\",\"shape\":[10]},\"woman\":{\"__ndarray__\":\"AAAAAAAAAAAAAAAAAIBCQAAAAAAAAENAAAAAAAAAAAAAAAAAAAAxQAAAAAAAADVAAAAAAAAAIkAAAAAAAABEQAAAAAAAAD5AAAAAAAAAAAA=\",\"dtype\":\"float64\",\"shape\":[10]}},\"selected\":{\"id\":\"3186\",\"type\":\"Selection\"},\"selection_policy\":{\"id\":\"3185\",\"type\":\"UnionRenderers\"}},\"id\":\"1290\",\"type\":\"ColumnDataSource\"},{\"attributes\":{},\"id\":\"3182\",\"type\":\"Selection\"},{\"attributes\":{},\"id\":\"3183\",\"type\":\"UnionRenderers\"},{\"attributes\":{},\"id\":\"3184\",\"type\":\"Selection\"},{\"attributes\":{},\"id\":\"3185\",\"type\":\"UnionRenderers\"},{\"attributes\":{\"callback\":null,\"data\":{\"Sport\":[\"Athletics\",\"Cycling\",\"Fencing\",\"Football\",\"Gymnastics\",\"Rowing\",\"Sailing\",\"Shooting\",\"Swimming\",\"Wrestling\"],\"population\":[30,18,32,8,35,25,19,33,36,8],\"sport_color\":[\"#0C0786\",\"#45039E\",\"#7200A8\",\"#9B179E\",\"#BC3685\",\"#D7566C\",\"#EC7853\",\"#FA9D3A\",\"#FCC726\",\"#EFF821\"],\"total\":{\"__ndarray__\":\"AAAAAAAcoEAAAAAAADCAQAAAAAAAoH9AAAAAAADgcEAAAAAAAASTQAAAAAAAgINAAAAAAABwd0AAAAAAAAiBQAAAAAAAOJlAAAAAAACQfEA=\",\"dtype\":\"float64\",\"shape\":[10]},\"woman\":{\"__ndarray__\":\"AAAAAAAAPkAAAAAAAAAmQAAAAAAAAEFAAAAAAAAAAAAAAAAAAABEQAAAAAAAADRAAAAAAAAAKEAAAAAAAIBBQAAAAAAAAEVAAAAAAAAAAAA=\",\"dtype\":\"float64\",\"shape\":[10]}},\"selected\":{\"id\":\"3188\",\"type\":\"Selection\"},\"selection_policy\":{\"id\":\"3187\",\"type\":\"UnionRenderers\"}},\"id\":\"1291\",\"type\":\"ColumnDataSource\"},{\"attributes\":{},\"id\":\"3186\",\"type\":\"Selection\"},{\"attributes\":{},\"id\":\"3187\",\"type\":\"UnionRenderers\"},{\"attributes\":{},\"id\":\"3162\",\"type\":\"Selection\"},{\"attributes\":{},\"id\":\"3188\",\"type\":\"Selection\"},{\"attributes\":{},\"id\":\"3189\",\"type\":\"UnionRenderers\"},{\"attributes\":{},\"id\":\"3190\",\"type\":\"Selection\"},{\"attributes\":{\"callback\":null,\"data\":{\"Sport\":[\"Athletics\",\"Cycling\",\"Fencing\",\"Football\",\"Gymnastics\",\"Rowing\",\"Sailing\",\"Shooting\",\"Swimming\",\"Wrestling\"],\"population\":[34,8,8,8,20,8,13,8,15,8],\"sport_color\":[\"#0C0786\",\"#45039E\",\"#7200A8\",\"#9B179E\",\"#BC3685\",\"#D7566C\",\"#EC7853\",\"#FA9D3A\",\"#FCC726\",\"#EFF821\"],\"total\":{\"__ndarray__\":\"AAAAAAAAj0AAAAAAAGBsQAAAAAAA4HpAAAAAAABga0AAAAAAAMCEQAAAAAAA4G5AAAAAAAAAYEAAAAAAAAAAAAAAAAAAYHFAAAAAAAAgZUA=\",\"dtype\":\"float64\",\"shape\":[10]},\"woman\":{\"__ndarray__\":\"AAAAAAAAQ0AAAAAAAAAAAAAAAAAAAPA/AAAAAAAAAAAAAAAAAAAqQAAAAAAAAAAAAAAAAAAAGEAAAAAAAAAAAAAAAAAAACBAAAAAAAAAAAA=\",\"dtype\":\"float64\",\"shape\":[10]}},\"selected\":{\"id\":\"3162\",\"type\":\"Selection\"},\"selection_policy\":{\"id\":\"3161\",\"type\":\"UnionRenderers\"}},\"id\":\"1278\",\"type\":\"ColumnDataSource\"},{\"attributes\":{},\"id\":\"3191\",\"type\":\"UnionRenderers\"},{\"attributes\":{},\"id\":\"3192\",\"type\":\"Selection\"},{\"attributes\":{},\"id\":\"3193\",\"type\":\"UnionRenderers\"},{\"attributes\":{},\"id\":\"3194\",\"type\":\"Selection\"},{\"attributes\":{},\"id\":\"3195\",\"type\":\"UnionRenderers\"},{\"attributes\":{},\"id\":\"3196\",\"type\":\"Selection\"},{\"attributes\":{},\"id\":\"3197\",\"type\":\"UnionRenderers\"},{\"attributes\":{},\"id\":\"3198\",\"type\":\"Selection\"},{\"attributes\":{},\"id\":\"3199\",\"type\":\"UnionRenderers\"},{\"attributes\":{},\"id\":\"3200\",\"type\":\"Selection\"},{\"attributes\":{},\"id\":\"3201\",\"type\":\"UnionRenderers\"},{\"attributes\":{\"callback\":null,\"data\":{\"Sport\":[\"Athletics\",\"Cycling\",\"Fencing\",\"Football\",\"Gymnastics\",\"Rowing\",\"Sailing\",\"Shooting\",\"Swimming\",\"Wrestling\"],\"population\":[33,21,27,8,36,31,24,31,35,8],\"sport_color\":[\"#0C0786\",\"#45039E\",\"#7200A8\",\"#9B179E\",\"#BC3685\",\"#D7566C\",\"#EC7853\",\"#FA9D3A\",\"#FCC726\",\"#EFF821\"],\"total\":{\"__ndarray__\":\"AAAAAAAMoEAAAAAAALCBQAAAAAAAoHxAAAAAAAAAcUAAAAAAAJyTQAAAAAAAqIRAAAAAAACQe0AAAAAAAKCBQAAAAAAAPJlAAAAAAAAwd0A=\",\"dtype\":\"float64\",\"shape\":[10]},\"woman\":{\"__ndarray__\":\"AAAAAAAAQkAAAAAAAAAuQAAAAAAAADdAAAAAAAAAAAAAAAAAAABFQAAAAAAAAD9AAAAAAAAAM0AAAAAAAAA/QAAAAAAAAERAAAAAAAAAAAA=\",\"dtype\":\"float64\",\"shape\":[10]}},\"selected\":{\"id\":\"3190\",\"type\":\"Selection\"},\"selection_policy\":{\"id\":\"3189\",\"type\":\"UnionRenderers\"}},\"id\":\"1292\",\"type\":\"ColumnDataSource\"},{\"attributes\":{},\"id\":\"3202\",\"type\":\"Selection\"},{\"attributes\":{\"callback\":null,\"data\":{\"Sport\":[\"Athletics\",\"Cycling\",\"Fencing\",\"Football\",\"Gymnastics\",\"Rowing\",\"Sailing\",\"Shooting\",\"Swimming\",\"Wrestling\"],\"population\":[8,8,8,8,8,8,8,8,8,8],\"sport_color\":[\"#0C0786\",\"#45039E\",\"#7200A8\",\"#9B179E\",\"#BC3685\",\"#D7566C\",\"#EC7853\",\"#FA9D3A\",\"#FCC726\",\"#EFF821\"],\"total\":{\"__ndarray__\":\"AAAAAABQiEAAAAAAANBwQAAAAAAAAG5AAAAAAAAAUkAAAAAAANB1QAAAAAAAwFVAAAAAAAAAUEAAAAAAAMB7QAAAAAAAwGJAAAAAAACgYEA=\",\"dtype\":\"float64\",\"shape\":[10]},\"woman\":{\"__ndarray__\":\"AAAAAAAAAAAAAAAAAAAAAAAAAAAAAAAAAAAAAAAAAAAAAAAAAAAAAAAAAAAAAAAAAAAAAAAA8D8AAAAAAAAAAAAAAAAAAAAAAAAAAAAAAAA=\",\"dtype\":\"float64\",\"shape\":[10]}},\"selected\":{\"id\":\"3154\",\"type\":\"Selection\"},\"selection_policy\":{\"id\":\"3153\",\"type\":\"UnionRenderers\"}},\"id\":\"1274\",\"type\":\"ColumnDataSource\"},{\"attributes\":{\"callback\":null,\"data\":{\"Sport\":[\"Athletics\",\"Cycling\",\"Fencing\",\"Football\",\"Gymnastics\",\"Rowing\",\"Sailing\",\"Shooting\",\"Swimming\",\"Wrestling\"],\"population\":[39,39,35,39,36,37,35,36,34,31],\"sport_color\":[\"#0C0786\",\"#45039E\",\"#7200A8\",\"#9B179E\",\"#BC3685\",\"#D7566C\",\"#EC7853\",\"#FA9D3A\",\"#FCC726\",\"#EFF821\"],\"total\":{\"__ndarray__\":\"AAAAAACYo0AAAAAAANiEQAAAAAAAoHVAAAAAAACQfUAAAAAAAOiKQAAAAAAAMIFAAAAAAADAd0AAAAAAAFiBQAAAAAAAgJhAAAAAAACgdUA=\",\"dtype\":\"float64\",\"shape\":[10]},\"woman\":{\"__ndarray__\":\"AAAAAAAASEAAAAAAAABIQAAAAAAAAERAAAAAAAAASUAAAAAAAABFQAAAAAAAAEZAAAAAAACAQ0AAAAAAAABFQAAAAAAAAENAAAAAAAAAQEA=\",\"dtype\":\"float64\",\"shape\":[10]}},\"selected\":{\"id\":\"3202\",\"type\":\"Selection\"},\"selection_policy\":{\"id\":\"3201\",\"type\":\"UnionRenderers\"}},\"id\":\"1298\",\"type\":\"ColumnDataSource\"},{\"attributes\":{\"callback\":null,\"data\":{\"Sport\":[\"Athletics\",\"Cycling\",\"Fencing\",\"Football\",\"Gymnastics\",\"Rowing\",\"Sailing\",\"Shooting\",\"Swimming\",\"Wrestling\"],\"population\":[36,34,27,32,36,34,29,36,31,8],\"sport_color\":[\"#0C0786\",\"#45039E\",\"#7200A8\",\"#9B179E\",\"#BC3685\",\"#D7566C\",\"#EC7853\",\"#FA9D3A\",\"#FCC726\",\"#EFF821\"],\"total\":{\"__ndarray__\":\"AAAAAABIo0AAAAAAAGiDQAAAAAAA0HVAAAAAAABweEAAAAAAAOCRQAAAAAAAiIFAAAAAAAAgeUAAAAAAALiCQAAAAAAANJtAAAAAAACgc0A=\",\"dtype\":\"float64\",\"shape\":[10]},\"woman\":{\"__ndarray__\":\"AAAAAACARUAAAAAAAIBCQAAAAAAAADdAAAAAAAAAQUAAAAAAAIBFQAAAAAAAAENAAAAAAAAAO0AAAAAAAIBEQAAAAAAAAD9AAAAAAAAAAAA=\",\"dtype\":\"float64\",\"shape\":[10]}},\"selected\":{\"id\":\"3194\",\"type\":\"Selection\"},\"selection_policy\":{\"id\":\"3193\",\"type\":\"UnionRenderers\"}},\"id\":\"1294\",\"type\":\"ColumnDataSource\"},{\"attributes\":{\"callback\":null,\"data\":{\"Sport\":[\"Athletics\",\"Cycling\",\"Fencing\",\"Football\",\"Gymnastics\",\"Rowing\",\"Sailing\",\"Shooting\",\"Swimming\",\"Wrestling\"],\"population\":[37,8,37,8,8,8,8,30,24,8],\"sport_color\":[\"#0C0786\",\"#45039E\",\"#7200A8\",\"#9B179E\",\"#BC3685\",\"#D7566C\",\"#EC7853\",\"#FA9D3A\",\"#FCC726\",\"#EFF821\"],\"total\":{\"__ndarray__\":\"AAAAAABYmkAAAAAAAHCAQAAAAAAAMH9AAAAAAADQcEAAAAAAAMCYQAAAAAAAoHtAAAAAAAAwdEAAAAAAAIB9QAAAAAAAvJNAAAAAAACQeUA=\",\"dtype\":\"float64\",\"shape\":[10]},\"woman\":{\"__ndarray__\":\"AAAAAACARkAAAAAAAAAAAAAAAAAAAEZAAAAAAAAAAAAAAAAAAAAAAAAAAAAAAAAAAAAAAAAAAAAAAAAAAAA+QAAAAAAAADNAAAAAAAAAAAA=\",\"dtype\":\"float64\",\"shape\":[10]}},\"selected\":{\"id\":\"3180\",\"type\":\"Selection\"},\"selection_policy\":{\"id\":\"3179\",\"type\":\"UnionRenderers\"}},\"id\":\"1287\",\"type\":\"ColumnDataSource\"},{\"attributes\":{\"callback\":null,\"data\":{\"Sport\":[\"Athletics\",\"Cycling\",\"Fencing\",\"Football\",\"Gymnastics\",\"Rowing\",\"Sailing\",\"Shooting\",\"Swimming\",\"Wrestling\"],\"population\":[34,8,8,8,14,8,20,8,13,8],\"sport_color\":[\"#0C0786\",\"#45039E\",\"#7200A8\",\"#9B179E\",\"#BC3685\",\"#D7566C\",\"#EC7853\",\"#FA9D3A\",\"#FCC726\",\"#EFF821\"],\"total\":{\"__ndarray__\":\"AAAAAAB4j0AAAAAAANByQAAAAAAAYIFAAAAAAAAgaUAAAAAAAJiNQAAAAAAAwHVAAAAAAACAZUAAAAAAAEBkQAAAAAAAwHZAAAAAAABAakA=\",\"dtype\":\"float64\",\"shape\":[10]},\"woman\":{\"__ndarray__\":\"AAAAAACAQkAAAAAAAAAAAAAAAAAAAPA/AAAAAAAAAAAAAAAAAAAcQAAAAAAAAAAAAAAAAAAAKkAAAAAAAAAAAAAAAAAAABhAAAAAAAAAAAA=\",\"dtype\":\"float64\",\"shape\":[10]}},\"selected\":{\"id\":\"3166\",\"type\":\"Selection\"},\"selection_policy\":{\"id\":\"3165\",\"type\":\"UnionRenderers\"}},\"id\":\"1280\",\"type\":\"ColumnDataSource\"},{\"attributes\":{\"callback\":null,\"data\":{\"Sport\":[\"Athletics\",\"Cycling\",\"Fencing\",\"Football\",\"Gymnastics\",\"Rowing\",\"Sailing\",\"Shooting\",\"Swimming\",\"Wrestling\"],\"population\":[8,8,8,8,8,8,8,8,26,8],\"sport_color\":[\"#0C0786\",\"#45039E\",\"#7200A8\",\"#9B179E\",\"#BC3685\",\"#D7566C\",\"#EC7853\",\"#FA9D3A\",\"#FCC726\",\"#EFF821\"],\"total\":{\"__ndarray__\":\"AAAAAACIikAAAAAAAIBqQAAAAAAA4HVAAAAAAADAZ0AAAAAAAHBwQAAAAAAAAGJAAAAAAABAWUAAAAAAADCKQAAAAAAAIGpAAAAAAAAgZEA=\",\"dtype\":\"float64\",\"shape\":[10]},\"woman\":{\"__ndarray__\":\"AAAAAAAAAAAAAAAAAAAAAAAAAAAAAAAAAAAAAAAAAAAAAAAAAAAAAAAAAAAAAAAAAAAAAAAAAAAAAAAAAAAAAAAAAAAAADZAAAAAAAAAAAA=\",\"dtype\":\"float64\",\"shape\":[10]}},\"selected\":{\"id\":\"3158\",\"type\":\"Selection\"},\"selection_policy\":{\"id\":\"3157\",\"type\":\"UnionRenderers\"}},\"id\":\"1276\",\"type\":\"ColumnDataSource\"},{\"attributes\":{},\"id\":\"3179\",\"type\":\"UnionRenderers\"},{\"attributes\":{\"callback\":null,\"data\":{\"Sport\":[\"Athletics\",\"Cycling\",\"Fencing\",\"Football\",\"Gymnastics\",\"Rowing\",\"Sailing\",\"Shooting\",\"Swimming\",\"Wrestling\"],\"population\":[34,8,26,8,14,8,8,8,34,8],\"sport_color\":[\"#0C0786\",\"#45039E\",\"#7200A8\",\"#9B179E\",\"#BC3685\",\"#D7566C\",\"#EC7853\",\"#FA9D3A\",\"#FCC726\",\"#EFF821\"],\"total\":{\"__ndarray__\":\"AAAAAAAAlUAAAAAAAFB4QAAAAAAA0H9AAAAAAABgckAAAAAAAK6iQAAAAAAAYHlAAAAAAABgbEAAAAAAABByQAAAAAAAMH5AAAAAAABgcEA=\",\"dtype\":\"float64\",\"shape\":[10]},\"woman\":{\"__ndarray__\":\"AAAAAAAAQ0AAAAAAAAAAAAAAAAAAADZAAAAAAAAAAAAAAAAAAAAcQAAAAAAAAAAAAAAAAAAA8D8AAAAAAAAAAAAAAAAAgEJAAAAAAAAAAAA=\",\"dtype\":\"float64\",\"shape\":[10]}},\"selected\":{\"id\":\"3170\",\"type\":\"Selection\"},\"selection_policy\":{\"id\":\"3169\",\"type\":\"UnionRenderers\"}},\"id\":\"1282\",\"type\":\"ColumnDataSource\"},{\"attributes\":{\"callback\":null,\"data\":{\"Sport\":[\"Athletics\",\"Cycling\",\"Fencing\",\"Football\",\"Gymnastics\",\"Rowing\",\"Sailing\",\"Shooting\",\"Swimming\",\"Wrestling\"],\"population\":[24,38,34,32,33,36,39,29,38,36],\"sport_color\":[\"#0C0786\",\"#45039E\",\"#7200A8\",\"#9B179E\",\"#BC3685\",\"#D7566C\",\"#EC7853\",\"#FA9D3A\",\"#FCC726\",\"#EFF821\"],\"total\":{\"__ndarray__\":\"AAAAAACIoUAAAAAAAGCEQAAAAAAAwHRAAAAAAABQfUAAAAAAACCPQAAAAAAAmIFAAAAAAAAAeUAAAAAAAAiCQAAAAAAAVJtAAAAAAABwdUA=\",\"dtype\":\"float64\",\"shape\":[10]},\"woman\":{\"__ndarray__\":\"AAAAAAAAM0AAAAAAAIBHQAAAAAAAgEJAAAAAAAAAQUAAAAAAAIBBQAAAAAAAgERAAAAAAACASEAAAAAAAAA8QAAAAAAAgEdAAAAAAACARUA=\",\"dtype\":\"float64\",\"shape\":[10]}},\"selected\":{\"id\":\"3198\",\"type\":\"Selection\"},\"selection_policy\":{\"id\":\"3197\",\"type\":\"UnionRenderers\"}},\"id\":\"1296\",\"type\":\"ColumnDataSource\"},{\"attributes\":{\"callback\":null,\"data\":{\"Sport\":[\"Athletics\",\"Cycling\",\"Fencing\",\"Football\",\"Gymnastics\",\"Rowing\",\"Sailing\",\"Shooting\",\"Swimming\",\"Wrestling\"],\"population\":[25,39,30,32,29,31,35,34,36,8],\"sport_color\":[\"#0C0786\",\"#45039E\",\"#7200A8\",\"#9B179E\",\"#BC3685\",\"#D7566C\",\"#EC7853\",\"#FA9D3A\",\"#FCC726\",\"#EFF821\"],\"total\":{\"__ndarray__\":\"AAAAAACkokAAAAAAAECCQAAAAAAAQHhAAAAAAABAeEAAAAAAANSVQAAAAAAAaINAAAAAAACgfEAAAAAAACCDQAAAAAAAjJlAAAAAAAAQeUA=\",\"dtype\":\"float64\",\"shape\":[10]},\"woman\":{\"__ndarray__\":\"AAAAAAAANUAAAAAAAABIQAAAAAAAAD5AAAAAAAAAQUAAAAAAAAA7QAAAAAAAAD9AAAAAAACAQ0AAAAAAAIBCQAAAAAAAgERAAAAAAAAAAAA=\",\"dtype\":\"float64\",\"shape\":[10]}},\"selected\":{\"id\":\"3192\",\"type\":\"Selection\"},\"selection_policy\":{\"id\":\"3191\",\"type\":\"UnionRenderers\"}},\"id\":\"1293\",\"type\":\"ColumnDataSource\"},{\"attributes\":{\"callback\":null,\"data\":{\"Sport\":[\"Athletics\",\"Cycling\",\"Fencing\",\"Football\",\"Gymnastics\",\"Rowing\",\"Sailing\",\"Shooting\",\"Swimming\",\"Wrestling\"],\"population\":[8,8,8,8,8,8,8,8,25,8],\"sport_color\":[\"#0C0786\",\"#45039E\",\"#7200A8\",\"#9B179E\",\"#BC3685\",\"#D7566C\",\"#EC7853\",\"#FA9D3A\",\"#FCC726\",\"#EFF821\"],\"total\":{\"__ndarray__\":\"AAAAAAAQjkAAAAAAAEBuQAAAAAAAsHdAAAAAAABgZEAAAAAAAGBzQAAAAAAAoGhAAAAAAABAW0AAAAAAANCIQAAAAAAAIGlAAAAAAABAZUA=\",\"dtype\":\"float64\",\"shape\":[10]},\"woman\":{\"__ndarray__\":\"AAAAAAAAAAAAAAAAAAAAAAAAAAAAAAAAAAAAAAAAAAAAAAAAAAAAAAAAAAAAAAAAAAAAAAAAAAAAAAAAAAAAAAAAAAAAADVAAAAAAAAAAAA=\",\"dtype\":\"float64\",\"shape\":[10]}},\"selected\":{\"id\":\"3156\",\"type\":\"Selection\"},\"selection_policy\":{\"id\":\"3155\",\"type\":\"UnionRenderers\"}},\"id\":\"1275\",\"type\":\"ColumnDataSource\"},{\"attributes\":{\"callback\":null,\"data\":{\"Sport\":[\"Athletics\",\"Cycling\",\"Fencing\",\"Football\",\"Gymnastics\",\"Rowing\",\"Sailing\",\"Shooting\",\"Swimming\",\"Wrestling\"],\"population\":[34,39,35,26,33,39,36,34,39,37],\"sport_color\":[\"#0C0786\",\"#45039E\",\"#7200A8\",\"#9B179E\",\"#BC3685\",\"#D7566C\",\"#EC7853\",\"#FA9D3A\",\"#FCC726\",\"#EFF821\"],\"total\":{\"__ndarray__\":\"AAAAAADMoUAAAAAAAKiDQAAAAAAAkHVAAAAAAAAwfUAAAAAAAICKQAAAAAAAMIFAAAAAAACwd0AAAAAAAICBQAAAAAAACJhAAAAAAAAwdUA=\",\"dtype\":\"float64\",\"shape\":[10]},\"woman\":{\"__ndarray__\":\"AAAAAACAQkAAAAAAAABJQAAAAAAAAERAAAAAAAAANkAAAAAAAIBBQAAAAAAAAElAAAAAAAAARUAAAAAAAABDQAAAAAAAAEhAAAAAAACARkA=\",\"dtype\":\"float64\",\"shape\":[10]}},\"selected\":{\"id\":\"3200\",\"type\":\"Selection\"},\"selection_policy\":{\"id\":\"3199\",\"type\":\"UnionRenderers\"}},\"id\":\"1297\",\"type\":\"ColumnDataSource\"},{\"attributes\":{\"callback\":null,\"data\":{\"Sport\":[\"Athletics\",\"Cycling\",\"Fencing\",\"Football\",\"Gymnastics\",\"Rowing\",\"Sailing\",\"Shooting\",\"Swimming\",\"Wrestling\"],\"population\":[32,21,37,33,32,38,35,33,29,37],\"sport_color\":[\"#0C0786\",\"#45039E\",\"#7200A8\",\"#9B179E\",\"#BC3685\",\"#D7566C\",\"#EC7853\",\"#FA9D3A\",\"#FCC726\",\"#EFF821\"],\"total\":{\"__ndarray__\":\"AAAAAAD+oEAAAAAAAHiDQAAAAAAAMHRAAAAAAACQekAAAAAAAPyRQAAAAAAAeIFAAAAAAAAQeUAAAAAAAHCBQAAAAAAASJlAAAAAAABgdUA=\",\"dtype\":\"float64\",\"shape\":[10]},\"woman\":{\"__ndarray__\":\"AAAAAAAAQUAAAAAAAAAsQAAAAAAAgEZAAAAAAACAQUAAAAAAAABBQAAAAAAAAEdAAAAAAACAQ0AAAAAAAABCQAAAAAAAADxAAAAAAAAARkA=\",\"dtype\":\"float64\",\"shape\":[10]}},\"selected\":{\"id\":\"3196\",\"type\":\"Selection\"},\"selection_policy\":{\"id\":\"3195\",\"type\":\"UnionRenderers\"}},\"id\":\"1295\",\"type\":\"ColumnDataSource\"},{\"attributes\":{\"callback\":null,\"data\":{\"Sport\":[\"Athletics\",\"Cycling\",\"Fencing\",\"Football\",\"Gymnastics\",\"Rowing\",\"Sailing\",\"Shooting\",\"Swimming\",\"Wrestling\"],\"population\":[26,8,14,8,15,8,8,8,33,8],\"sport_color\":[\"#0C0786\",\"#45039E\",\"#7200A8\",\"#9B179E\",\"#BC3685\",\"#D7566C\",\"#EC7853\",\"#FA9D3A\",\"#FCC726\",\"#EFF821\"],\"total\":{\"__ndarray__\":\"AAAAAABskEAAAAAAAAB0QAAAAAAAwH9AAAAAAABAa0AAAAAAAJCQQAAAAAAA4HNAAAAAAABAZ0AAAAAAAABrQAAAAAAA4HhAAAAAAACgbEA=\",\"dtype\":\"float64\",\"shape\":[10]},\"woman\":{\"__ndarray__\":\"AAAAAAAANkAAAAAAAAAAAAAAAAAAABxAAAAAAAAAAAAAAAAAAAAgQAAAAAAAAAAAAAAAAAAAAAAAAAAAAAAAAAAAAAAAAEJAAAAAAAAAAAA=\",\"dtype\":\"float64\",\"shape\":[10]}},\"selected\":{\"id\":\"3168\",\"type\":\"Selection\"},\"selection_policy\":{\"id\":\"3167\",\"type\":\"UnionRenderers\"}},\"id\":\"1281\",\"type\":\"ColumnDataSource\"},{\"attributes\":{\"callback\":null,\"data\":{\"Sport\":[\"Athletics\",\"Cycling\",\"Fencing\",\"Football\",\"Gymnastics\",\"Rowing\",\"Sailing\",\"Shooting\",\"Swimming\",\"Wrestling\"],\"population\":[21,8,15,8,8,8,8,8,35,8],\"sport_color\":[\"#0C0786\",\"#45039E\",\"#7200A8\",\"#9B179E\",\"#BC3685\",\"#D7566C\",\"#EC7853\",\"#FA9D3A\",\"#FCC726\",\"#EFF821\"],\"total\":{\"__ndarray__\":\"AAAAAABQgEAAAAAAAEBbQAAAAAAAAGhAAAAAAAAAAAAAAAAAAGBiQAAAAAAAwGRAAAAAAACATEAAAAAAAABGQAAAAAAAYGhAAAAAAACAVkA=\",\"dtype\":\"float64\",\"shape\":[10]},\"woman\":{\"__ndarray__\":\"AAAAAAAALkAAAAAAAAAAAAAAAAAAACBAAAAAAAAAAAAAAAAAAAAAAAAAAAAAAAAAAAAAAAAAAAAAAAAAAAAAAAAAAAAAgENAAAAAAAAAAAA=\",\"dtype\":\"float64\",\"shape\":[10]}},\"selected\":{\"id\":\"3164\",\"type\":\"Selection\"},\"selection_policy\":{\"id\":\"3163\",\"type\":\"UnionRenderers\"}},\"id\":\"1279\",\"type\":\"ColumnDataSource\"}],\"root_ids\":[\"3080\"]},\"title\":\"Bokeh Application\",\"version\":\"1.0.4\"}};\n",
       "  var render_items = [{\"docid\":\"1cf7692a-67b1-41d5-99da-e42b9a0952b3\",\"roots\":{\"3080\":\"321b940e-0a83-4168-8f75-8db9121a9a5e\"}}];\n",
       "  root.Bokeh.embed.embed_items_notebook(docs_json, render_items);\n",
       "\n",
       "  }\n",
       "  if (root.Bokeh !== undefined) {\n",
       "    embed_document(root);\n",
       "  } else {\n",
       "    var attempts = 0;\n",
       "    var timer = setInterval(function(root) {\n",
       "      if (root.Bokeh !== undefined) {\n",
       "        embed_document(root);\n",
       "        clearInterval(timer);\n",
       "      }\n",
       "      attempts++;\n",
       "      if (attempts > 100) {\n",
       "        console.log(\"Bokeh: ERROR: Unable to run BokehJS code because BokehJS library is missing\");\n",
       "        clearInterval(timer);\n",
       "      }\n",
       "    }, 10, root)\n",
       "  }\n",
       "})(window);"
      ],
      "application/vnd.bokehjs_exec.v0+json": ""
     },
     "metadata": {
      "application/vnd.bokehjs_exec.v0+json": {
       "id": "3080"
      }
     },
     "output_type": "display_data"
    }
   ],
   "source": [
    "show(widgetbox(slider))"
   ]
  },
  {
   "cell_type": "code",
   "execution_count": 30,
   "metadata": {},
   "outputs": [
    {
     "data": {
      "text/html": [
       "\n",
       "\n",
       "\n",
       "\n",
       "\n",
       "\n",
       "  <div class=\"bk-root\" id=\"7e0714f1-eb74-4d15-a5fb-773f7c807cb4\" data-root-id=\"3478\"></div>\n"
      ]
     },
     "metadata": {},
     "output_type": "display_data"
    },
    {
     "data": {
      "application/javascript": [
       "(function(root) {\n",
       "  function embed_document(root) {\n",
       "    \n",
       "  var docs_json = {\"f984fa02-9760-4e54-835e-795b6186d8bc\":{\"roots\":{\"references\":[{\"attributes\":{\"children\":[{\"id\":\"3475\",\"type\":\"Row\"},{\"id\":\"3477\",\"type\":\"Row\"}],\"sizing_mode\":\"scale_width\"},\"id\":\"3478\",\"type\":\"Column\"},{\"attributes\":{},\"id\":\"1915\",\"type\":\"Selection\"},{\"attributes\":{},\"id\":\"2553\",\"type\":\"Selection\"},{\"attributes\":{},\"id\":\"3173\",\"type\":\"UnionRenderers\"},{\"attributes\":{\"data_source\":{\"id\":\"1917\",\"type\":\"ColumnDataSource\"},\"glyph\":{\"id\":\"1916\",\"type\":\"Text\"},\"hover_glyph\":null,\"muted_glyph\":null,\"view\":{\"id\":\"1919\",\"type\":\"CDSView\"}},\"id\":\"1918\",\"type\":\"GlyphRenderer\"},{\"attributes\":{},\"id\":\"1743\",\"type\":\"Selection\"},{\"attributes\":{},\"id\":\"3157\",\"type\":\"UnionRenderers\"},{\"attributes\":{},\"id\":\"3160\",\"type\":\"Selection\"},{\"attributes\":{},\"id\":\"3167\",\"type\":\"UnionRenderers\"},{\"attributes\":{\"callback\":null,\"data\":{},\"selected\":{\"id\":\"2623\",\"type\":\"Selection\"},\"selection_policy\":{\"id\":\"2622\",\"type\":\"UnionRenderers\"}},\"id\":\"2555\",\"type\":\"ColumnDataSource\"},{\"attributes\":{\"callback\":null,\"data\":{},\"selected\":{\"id\":\"1783\",\"type\":\"Selection\"},\"selection_policy\":{\"id\":\"1782\",\"type\":\"UnionRenderers\"}},\"id\":\"1745\",\"type\":\"ColumnDataSource\"},{\"attributes\":{\"data_source\":{\"id\":\"2555\",\"type\":\"ColumnDataSource\"},\"glyph\":{\"id\":\"2554\",\"type\":\"Circle\"},\"hover_glyph\":null,\"muted_glyph\":null,\"view\":{\"id\":\"2557\",\"type\":\"CDSView\"}},\"id\":\"2556\",\"type\":\"GlyphRenderer\"},{\"attributes\":{\"data_source\":{\"id\":\"1745\",\"type\":\"ColumnDataSource\"},\"glyph\":{\"id\":\"1744\",\"type\":\"Text\"},\"hover_glyph\":null,\"muted_glyph\":null,\"view\":{\"id\":\"1747\",\"type\":\"CDSView\"}},\"id\":\"1746\",\"type\":\"GlyphRenderer\"},{\"attributes\":{\"callback\":null,\"data\":{},\"selected\":{\"id\":\"1743\",\"type\":\"Selection\"},\"selection_policy\":{\"id\":\"1742\",\"type\":\"UnionRenderers\"}},\"id\":\"1707\",\"type\":\"ColumnDataSource\"},{\"attributes\":{},\"id\":\"3158\",\"type\":\"Selection\"},{\"attributes\":{\"source\":{\"id\":\"2555\",\"type\":\"ColumnDataSource\"}},\"id\":\"2557\",\"type\":\"CDSView\"},{\"attributes\":{},\"id\":\"1704\",\"type\":\"UnionRenderers\"},{\"attributes\":{\"callback\":null,\"data\":{\"Sport\":[\"Athletics\",\"Cycling\",\"Fencing\",\"Football\",\"Gymnastics\",\"Rowing\",\"Sailing\",\"Shooting\",\"Swimming\",\"Wrestling\"],\"population\":[8,8,30,8,27,36,31,8,36,8],\"sport_color\":[\"#0C0786\",\"#45039E\",\"#7200A8\",\"#9B179E\",\"#BC3685\",\"#D7566C\",\"#EC7853\",\"#FA9D3A\",\"#FCC726\",\"#EFF821\"],\"total\":{\"__ndarray__\":\"AAAAAADQk0AAAAAAADBzQAAAAAAAEHRAAAAAAAAAcEAAAAAAABCLQAAAAAAAgH5AAAAAAACAY0AAAAAAALBwQAAAAAAAyIdAAAAAAADgcEA=\",\"dtype\":\"float64\",\"shape\":[10]},\"woman\":{\"__ndarray__\":\"AAAAAAAAAEAAAAAAAAAAAAAAAAAAAD1AAAAAAAAAAAAAAAAAAAA4QAAAAAAAgERAAAAAAAAAQEAAAAAAAAAAAAAAAAAAAEVAAAAAAAAAAAA=\",\"dtype\":\"float64\",\"shape\":[10]}},\"selected\":{\"id\":\"3184\",\"type\":\"Selection\"},\"selection_policy\":{\"id\":\"3183\",\"type\":\"UnionRenderers\"}},\"id\":\"1289\",\"type\":\"ColumnDataSource\"},{\"attributes\":{\"source\":{\"id\":\"1707\",\"type\":\"ColumnDataSource\"}},\"id\":\"1709\",\"type\":\"CDSView\"},{\"attributes\":{\"source\":{\"id\":\"1745\",\"type\":\"ColumnDataSource\"}},\"id\":\"1747\",\"type\":\"CDSView\"},{\"attributes\":{},\"id\":\"3161\",\"type\":\"UnionRenderers\"},{\"attributes\":{},\"id\":\"3177\",\"type\":\"UnionRenderers\"},{\"attributes\":{\"fill_alpha\":{\"value\":0.8},\"fill_color\":{\"value\":\"#EFF821\"},\"line_color\":{\"value\":null},\"size\":{\"units\":\"screen\",\"value\":10},\"x\":{\"value\":84},\"y\":{\"value\":1630}},\"id\":\"2696\",\"type\":\"Circle\"},{\"attributes\":{\"source\":{\"id\":\"1917\",\"type\":\"ColumnDataSource\"}},\"id\":\"1919\",\"type\":\"CDSView\"},{\"attributes\":{},\"id\":\"1825\",\"type\":\"Selection\"},{\"attributes\":{},\"id\":\"2622\",\"type\":\"UnionRenderers\"},{\"attributes\":{},\"id\":\"3168\",\"type\":\"Selection\"},{\"attributes\":{},\"id\":\"1782\",\"type\":\"UnionRenderers\"},{\"attributes\":{\"fill_alpha\":{\"value\":0.8},\"fill_color\":{\"field\":\"sport_color\"},\"line_alpha\":{\"value\":0.5},\"line_color\":{\"value\":\"#7c7e71\"},\"line_width\":{\"value\":0.5},\"size\":{\"field\":\"population\",\"units\":\"screen\"},\"x\":{\"field\":\"woman\"},\"y\":{\"field\":\"total\"}},\"id\":\"1469\",\"type\":\"Circle\"},{\"attributes\":{},\"id\":\"2623\",\"type\":\"Selection\"},{\"attributes\":{\"text\":{\"field\":\"year\"},\"text_color\":{\"value\":\"#EEEEEE\"},\"text_font_size\":{\"value\":\"170pt\"},\"x\":{\"value\":0},\"y\":{\"value\":500}},\"id\":\"1382\",\"type\":\"Text\"},{\"attributes\":{\"text\":{\"value\":\"Football\"},\"text_color\":{\"value\":\"#666666\"},\"text_font_size\":{\"value\":\"10pt\"},\"x\":{\"value\":85},\"y\":{\"value\":2200}},\"id\":\"1916\",\"type\":\"Text\"},{\"attributes\":{},\"id\":\"1783\",\"type\":\"Selection\"},{\"attributes\":{\"callback\":null,\"data\":{\"year\":[\"1900\"]},\"selected\":{\"id\":\"1412\",\"type\":\"Selection\"},\"selection_policy\":{\"id\":\"1411\",\"type\":\"UnionRenderers\"}},\"id\":\"1381\",\"type\":\"ColumnDataSource\"},{\"attributes\":{\"callback\":null,\"data\":{},\"selected\":{\"id\":\"2695\",\"type\":\"Selection\"},\"selection_policy\":{\"id\":\"2694\",\"type\":\"UnionRenderers\"}},\"id\":\"2625\",\"type\":\"ColumnDataSource\"},{\"attributes\":{\"callback\":null,\"data\":{},\"selected\":{\"id\":\"1825\",\"type\":\"Selection\"},\"selection_policy\":{\"id\":\"1824\",\"type\":\"UnionRenderers\"}},\"id\":\"1785\",\"type\":\"ColumnDataSource\"},{\"attributes\":{\"data_source\":{\"id\":\"2625\",\"type\":\"ColumnDataSource\"},\"glyph\":{\"id\":\"2624\",\"type\":\"Text\"},\"hover_glyph\":null,\"muted_glyph\":null,\"view\":{\"id\":\"2627\",\"type\":\"CDSView\"}},\"id\":\"2626\",\"type\":\"GlyphRenderer\"},{\"attributes\":{\"data_source\":{\"id\":\"1381\",\"type\":\"ColumnDataSource\"},\"glyph\":{\"id\":\"1382\",\"type\":\"Text\"},\"hover_glyph\":null,\"muted_glyph\":null,\"view\":{\"id\":\"1384\",\"type\":\"CDSView\"}},\"id\":\"1383\",\"type\":\"GlyphRenderer\"},{\"attributes\":{\"data_source\":{\"id\":\"1785\",\"type\":\"ColumnDataSource\"},\"glyph\":{\"id\":\"1784\",\"type\":\"Circle\"},\"hover_glyph\":null,\"muted_glyph\":null,\"view\":{\"id\":\"1787\",\"type\":\"CDSView\"}},\"id\":\"1786\",\"type\":\"GlyphRenderer\"},{\"attributes\":{\"fill_alpha\":{\"value\":0.8},\"fill_color\":{\"value\":\"#0C0786\"},\"line_color\":{\"value\":null},\"size\":{\"units\":\"screen\",\"value\":10},\"x\":{\"value\":84},\"y\":{\"value\":2530}},\"id\":\"1706\",\"type\":\"Circle\"},{\"attributes\":{\"source\":{\"id\":\"1381\",\"type\":\"ColumnDataSource\"}},\"id\":\"1384\",\"type\":\"CDSView\"},{\"attributes\":{\"callback\":null,\"data\":{},\"selected\":{\"id\":\"1963\",\"type\":\"Selection\"},\"selection_policy\":{\"id\":\"1962\",\"type\":\"UnionRenderers\"}},\"id\":\"1917\",\"type\":\"ColumnDataSource\"},{\"attributes\":{\"source\":{\"id\":\"2625\",\"type\":\"ColumnDataSource\"}},\"id\":\"2627\",\"type\":\"CDSView\"},{\"attributes\":{\"data_source\":{\"id\":\"1671\",\"type\":\"ColumnDataSource\"},\"glyph\":{\"id\":\"1670\",\"type\":\"Text\"},\"hover_glyph\":null,\"muted_glyph\":null,\"view\":{\"id\":\"1673\",\"type\":\"CDSView\"}},\"id\":\"1672\",\"type\":\"GlyphRenderer\"},{\"attributes\":{\"text\":{\"value\":\"Gymnastics\"},\"text_color\":{\"value\":\"#666666\"},\"text_font_size\":{\"value\":\"10pt\"},\"x\":{\"value\":85},\"y\":{\"value\":2100}},\"id\":\"2014\",\"type\":\"Text\"},{\"attributes\":{\"plot\":null,\"text\":\"% Women Participation Compared to Total Participation For the Top 10 Summer Olympic Sports\"},\"id\":\"1304\",\"type\":\"Title\"},{\"attributes\":{\"source\":{\"id\":\"1871\",\"type\":\"ColumnDataSource\"}},\"id\":\"1873\",\"type\":\"CDSView\"},{\"attributes\":{},\"id\":\"1962\",\"type\":\"UnionRenderers\"},{\"attributes\":{},\"id\":\"2694\",\"type\":\"UnionRenderers\"},{\"attributes\":{},\"id\":\"3166\",\"type\":\"Selection\"},{\"attributes\":{},\"id\":\"1963\",\"type\":\"Selection\"},{\"attributes\":{},\"id\":\"2695\",\"type\":\"Selection\"},{\"attributes\":{},\"id\":\"1412\",\"type\":\"Selection\"},{\"attributes\":{},\"id\":\"1501\",\"type\":\"Selection\"},{\"attributes\":{\"callback\":null,\"data\":{},\"selected\":{\"id\":\"2013\",\"type\":\"Selection\"},\"selection_policy\":{\"id\":\"2012\",\"type\":\"UnionRenderers\"}},\"id\":\"1965\",\"type\":\"ColumnDataSource\"},{\"attributes\":{\"callback\":null,\"data\":{},\"selected\":{\"id\":\"2769\",\"type\":\"Selection\"},\"selection_policy\":{\"id\":\"2768\",\"type\":\"UnionRenderers\"}},\"id\":\"2697\",\"type\":\"ColumnDataSource\"},{\"attributes\":{},\"id\":\"3164\",\"type\":\"Selection\"},{\"attributes\":{\"callback\":null,\"end\":100.1,\"start\":-0.1},\"id\":\"1299\",\"type\":\"Range1d\"},{\"attributes\":{\"callback\":{\"id\":\"3078\",\"type\":\"CustomJS\"},\"end\":2016,\"sizing_mode\":\"scale_width\",\"start\":1900,\"title\":\"Year\",\"value\":1},\"id\":\"3079\",\"type\":\"Slider\"},{\"attributes\":{\"callback\":null,\"data\":{\"Sport\":[\"Athletics\",\"Cycling\",\"Fencing\",\"Football\",\"Gymnastics\",\"Rowing\",\"Sailing\",\"Shooting\",\"Swimming\",\"Wrestling\"],\"population\":[31,8,26,8,36,33,8,8,38,8],\"sport_color\":[\"#0C0786\",\"#45039E\",\"#7200A8\",\"#9B179E\",\"#BC3685\",\"#D7566C\",\"#EC7853\",\"#FA9D3A\",\"#FCC726\",\"#EFF821\"],\"total\":{\"__ndarray__\":\"AAAAAABElEAAAAAAAIB4QAAAAAAAUH5AAAAAAABAaUAAAAAAANCSQAAAAAAAsIJAAAAAAAAQcEAAAAAAABB3QAAAAAAA0JBAAAAAAADQdUA=\",\"dtype\":\"float64\",\"shape\":[10]},\"woman\":{\"__ndarray__\":\"AAAAAAAAQEAAAAAAAAAAAAAAAAAAADZAAAAAAAAAAAAAAAAAAIBEQAAAAAAAgEFAAAAAAAAAAAAAAAAAAAAAQAAAAAAAAEdAAAAAAAAAAAA=\",\"dtype\":\"float64\",\"shape\":[10]}},\"selected\":{\"id\":\"3182\",\"type\":\"Selection\"},\"selection_policy\":{\"id\":\"3181\",\"type\":\"UnionRenderers\"}},\"id\":\"1288\",\"type\":\"ColumnDataSource\"},{\"attributes\":{\"data_source\":{\"id\":\"1965\",\"type\":\"ColumnDataSource\"},\"glyph\":{\"id\":\"1964\",\"type\":\"Circle\"},\"hover_glyph\":null,\"muted_glyph\":null,\"view\":{\"id\":\"1967\",\"type\":\"CDSView\"}},\"id\":\"1966\",\"type\":\"GlyphRenderer\"},{\"attributes\":{\"data_source\":{\"id\":\"2697\",\"type\":\"ColumnDataSource\"},\"glyph\":{\"id\":\"2696\",\"type\":\"Circle\"},\"hover_glyph\":null,\"muted_glyph\":null,\"view\":{\"id\":\"2699\",\"type\":\"CDSView\"}},\"id\":\"2698\",\"type\":\"GlyphRenderer\"},{\"attributes\":{\"callback\":null,\"end\":2633.4,\"start\":44},\"id\":\"1300\",\"type\":\"Range1d\"},{\"attributes\":{\"source\":{\"id\":\"1671\",\"type\":\"ColumnDataSource\"}},\"id\":\"1673\",\"type\":\"CDSView\"},{\"attributes\":{\"text\":{\"value\":\"Fencing\"},\"text_color\":{\"value\":\"#666666\"},\"text_font_size\":{\"value\":\"10pt\"},\"x\":{\"value\":85},\"y\":{\"value\":2300}},\"id\":\"1826\",\"type\":\"Text\"},{\"attributes\":{},\"id\":\"1500\",\"type\":\"UnionRenderers\"},{\"attributes\":{\"callback\":null,\"data\":{\"Sport\":[\"Athletics\",\"Cycling\",\"Fencing\",\"Football\",\"Gymnastics\",\"Rowing\",\"Sailing\",\"Shooting\",\"Swimming\",\"Wrestling\"],\"population\":[25,8,15,8,38,8,8,8,36,8],\"sport_color\":[\"#0C0786\",\"#45039E\",\"#7200A8\",\"#9B179E\",\"#BC3685\",\"#D7566C\",\"#EC7853\",\"#FA9D3A\",\"#FCC726\",\"#EFF821\"],\"total\":{\"__ndarray__\":\"AAAAAACoj0AAAAAAAEByQAAAAAAAYHFAAAAAAADgYUAAAAAAAIiMQAAAAAAAIHBAAAAAAABAY0AAAAAAAGBrQAAAAAAAQHZAAAAAAABgaEA=\",\"dtype\":\"float64\",\"shape\":[10]},\"woman\":{\"__ndarray__\":\"AAAAAAAANUAAAAAAAAAAAAAAAAAAACBAAAAAAAAAAAAAAAAAAIBHQAAAAAAAAAAAAAAAAAAAAAAAAAAAAAAAAAAAAAAAgEVAAAAAAAAAAAA=\",\"dtype\":\"float64\",\"shape\":[10]}},\"selected\":{\"id\":\"3172\",\"type\":\"Selection\"},\"selection_policy\":{\"id\":\"3171\",\"type\":\"UnionRenderers\"}},\"id\":\"1283\",\"type\":\"ColumnDataSource\"},{\"attributes\":{\"source\":{\"id\":\"1965\",\"type\":\"ColumnDataSource\"}},\"id\":\"1967\",\"type\":\"CDSView\"},{\"attributes\":{\"source\":{\"id\":\"2697\",\"type\":\"ColumnDataSource\"}},\"id\":\"2699\",\"type\":\"CDSView\"},{\"attributes\":{\"text\":{\"value\":\"Cycling\"},\"text_color\":{\"value\":\"#666666\"},\"text_font_size\":{\"value\":\"10pt\"},\"x\":{\"value\":85},\"y\":{\"value\":2400}},\"id\":\"1744\",\"type\":\"Text\"},{\"attributes\":{\"fill_alpha\":{\"value\":0.8},\"fill_color\":{\"value\":\"#45039E\"},\"line_color\":{\"value\":null},\"size\":{\"units\":\"screen\",\"value\":10},\"x\":{\"value\":84},\"y\":{\"value\":2430}},\"id\":\"1784\",\"type\":\"Circle\"},{\"attributes\":{},\"id\":\"3176\",\"type\":\"Selection\"},{\"attributes\":{\"fill_alpha\":{\"value\":0.8},\"fill_color\":{\"value\":\"#BC3685\"},\"line_color\":{\"value\":null},\"size\":{\"units\":\"screen\",\"value\":10},\"x\":{\"value\":84},\"y\":{\"value\":2130}},\"id\":\"2066\",\"type\":\"Circle\"},{\"attributes\":{},\"id\":\"2012\",\"type\":\"UnionRenderers\"},{\"attributes\":{},\"id\":\"2768\",\"type\":\"UnionRenderers\"},{\"attributes\":{\"args\":{\"_1900\":{\"id\":\"1273\",\"type\":\"ColumnDataSource\"},\"_1908\":{\"id\":\"1274\",\"type\":\"ColumnDataSource\"},\"_1912\":{\"id\":\"1275\",\"type\":\"ColumnDataSource\"},\"_1920\":{\"id\":\"1276\",\"type\":\"ColumnDataSource\"},\"_1924\":{\"id\":\"1277\",\"type\":\"ColumnDataSource\"},\"_1928\":{\"id\":\"1278\",\"type\":\"ColumnDataSource\"},\"_1932\":{\"id\":\"1279\",\"type\":\"ColumnDataSource\"},\"_1936\":{\"id\":\"1280\",\"type\":\"ColumnDataSource\"},\"_1948\":{\"id\":\"1281\",\"type\":\"ColumnDataSource\"},\"_1952\":{\"id\":\"1282\",\"type\":\"ColumnDataSource\"},\"_1956\":{\"id\":\"1283\",\"type\":\"ColumnDataSource\"},\"_1960\":{\"id\":\"1284\",\"type\":\"ColumnDataSource\"},\"_1964\":{\"id\":\"1285\",\"type\":\"ColumnDataSource\"},\"_1968\":{\"id\":\"1286\",\"type\":\"ColumnDataSource\"},\"_1972\":{\"id\":\"1287\",\"type\":\"ColumnDataSource\"},\"_1976\":{\"id\":\"1288\",\"type\":\"ColumnDataSource\"},\"_1980\":{\"id\":\"1289\",\"type\":\"ColumnDataSource\"},\"_1984\":{\"id\":\"1290\",\"type\":\"ColumnDataSource\"},\"_1988\":{\"id\":\"1291\",\"type\":\"ColumnDataSource\"},\"_1992\":{\"id\":\"1292\",\"type\":\"ColumnDataSource\"},\"_1996\":{\"id\":\"1293\",\"type\":\"ColumnDataSource\"},\"_2000\":{\"id\":\"1294\",\"type\":\"ColumnDataSource\"},\"_2004\":{\"id\":\"1295\",\"type\":\"ColumnDataSource\"},\"_2008\":{\"id\":\"1296\",\"type\":\"ColumnDataSource\"},\"_2012\":{\"id\":\"1297\",\"type\":\"ColumnDataSource\"},\"_2016\":{\"id\":\"1298\",\"type\":\"ColumnDataSource\"},\"renderer_source\":{\"id\":\"1273\",\"type\":\"ColumnDataSource\"},\"slider\":{\"id\":\"3079\",\"type\":\"Slider\"},\"text_source\":{\"id\":\"1381\",\"type\":\"ColumnDataSource\"}},\"code\":\"\\n    var year = slider.value,\\n        sources = {1900: _1900, 1908: _1908, 1912: _1912, 1920: _1920, 1924: _1924, 1928: _1928, 1932: _1932, 1936: _1936, 1948: _1948, 1952: _1952, 1956: _1956, 1960: _1960, 1964: _1964, 1968: _1968, 1972: _1972, 1976: _1976, 1980: _1980, 1984: _1984, 1988: _1988, 1992: _1992, 1996: _1996, 2000: _2000, 2004: _2004, 2008: _2008, 2012: _2012, 2016: _2016},\\n        new_source_data = sources[year].data;\\n    renderer_source.data = new_source_data;\\n    text_source.data = {'year': [String(year)]};\\n\"},\"id\":\"3078\",\"type\":\"CustomJS\"},{\"attributes\":{},\"id\":\"2013\",\"type\":\"Selection\"},{\"attributes\":{},\"id\":\"2769\",\"type\":\"Selection\"},{\"attributes\":{},\"id\":\"3170\",\"type\":\"Selection\"},{\"attributes\":{},\"id\":\"1411\",\"type\":\"UnionRenderers\"},{\"attributes\":{\"callback\":null,\"data\":{},\"selected\":{\"id\":\"1705\",\"type\":\"Selection\"},\"selection_policy\":{\"id\":\"1704\",\"type\":\"UnionRenderers\"}},\"id\":\"1671\",\"type\":\"ColumnDataSource\"},{\"attributes\":{\"callback\":null,\"data\":{},\"selected\":{\"id\":\"2065\",\"type\":\"Selection\"},\"selection_policy\":{\"id\":\"2064\",\"type\":\"UnionRenderers\"}},\"id\":\"2015\",\"type\":\"ColumnDataSource\"},{\"attributes\":{},\"id\":\"2552\",\"type\":\"UnionRenderers\"},{\"attributes\":{\"data_source\":{\"id\":\"2015\",\"type\":\"ColumnDataSource\"},\"glyph\":{\"id\":\"2014\",\"type\":\"Text\"},\"hover_glyph\":null,\"muted_glyph\":null,\"view\":{\"id\":\"2017\",\"type\":\"CDSView\"}},\"id\":\"2016\",\"type\":\"GlyphRenderer\"},{\"attributes\":{\"text\":{\"value\":\"Athletics\"},\"text_color\":{\"value\":\"#666666\"},\"text_font_size\":{\"value\":\"10pt\"},\"x\":{\"value\":85},\"y\":{\"value\":2500}},\"id\":\"1670\",\"type\":\"Text\"},{\"attributes\":{\"callback\":null,\"data\":{\"Sport\":[\"Athletics\",\"Cycling\",\"Fencing\",\"Football\",\"Gymnastics\",\"Rowing\",\"Sailing\",\"Shooting\",\"Swimming\",\"Wrestling\"],\"population\":[8,8,8,8,8,8,8,8,8,8],\"sport_color\":[\"#0C0786\",\"#45039E\",\"#7200A8\",\"#9B179E\",\"#BC3685\",\"#D7566C\",\"#EC7853\",\"#FA9D3A\",\"#FCC726\",\"#EFF821\"],\"total\":{\"__ndarray__\":\"AAAAAABAbUAAAAAAAABXQAAAAAAA0HNAAAAAAACAQUAAAAAAAOBgQAAAAAAAoGBAAAAAAACAcUAAAAAAAKBrQAAAAAAAYGBAAAAAAAAAAAA=\",\"dtype\":\"float64\",\"shape\":[10]},\"woman\":{\"__ndarray__\":\"AAAAAAAAAAAAAAAAAAAAAAAAAAAAAAAAAAAAAAAAAAAAAAAAAAAAAAAAAAAAAAAAAAAAAAAA8D8AAAAAAAAAAAAAAAAAAAAAAAAAAAAAAAA=\",\"dtype\":\"float64\",\"shape\":[10]}},\"selected\":{\"id\":\"1501\",\"type\":\"Selection\"},\"selection_policy\":{\"id\":\"1500\",\"type\":\"UnionRenderers\"}},\"id\":\"1273\",\"type\":\"ColumnDataSource\"},{\"attributes\":{\"source\":{\"id\":\"2015\",\"type\":\"ColumnDataSource\"}},\"id\":\"2017\",\"type\":\"CDSView\"},{\"attributes\":{},\"id\":\"3165\",\"type\":\"UnionRenderers\"},{\"attributes\":{\"interval\":10},\"id\":\"1305\",\"type\":\"SingleIntervalTicker\"},{\"attributes\":{\"text\":{\"value\":\"Rowing\"},\"text_color\":{\"value\":\"#666666\"},\"text_font_size\":{\"value\":\"10pt\"},\"x\":{\"value\":85},\"y\":{\"value\":2000}},\"id\":\"2120\",\"type\":\"Text\"},{\"attributes\":{\"callback\":null,\"data\":{\"Sport\":[\"Athletics\",\"Cycling\",\"Fencing\",\"Football\",\"Gymnastics\",\"Rowing\",\"Sailing\",\"Shooting\",\"Swimming\",\"Wrestling\"],\"population\":[35,8,8,8,23,8,25,8,36,8],\"sport_color\":[\"#0C0786\",\"#45039E\",\"#7200A8\",\"#9B179E\",\"#BC3685\",\"#D7566C\",\"#EC7853\",\"#FA9D3A\",\"#FCC726\",\"#EFF821\"],\"total\":{\"__ndarray__\":\"AAAAAACAlEAAAAAAAHB6QAAAAAAAyIJAAAAAAABgbUAAAAAAAEibQAAAAAAA8HpAAAAAAAAgckAAAAAAAFB4QAAAAAAAsINAAAAAAAAQdUA=\",\"dtype\":\"float64\",\"shape\":[10]},\"woman\":{\"__ndarray__\":\"AAAAAACAQ0AAAAAAAAAAAAAAAAAAAAAAAAAAAAAAAAAAAAAAAAAyQAAAAAAAAAAAAAAAAAAANEAAAAAAAAAAAAAAAAAAgERAAAAAAAAAAAA=\",\"dtype\":\"float64\",\"shape\":[10]}},\"selected\":{\"id\":\"3174\",\"type\":\"Selection\"},\"selection_policy\":{\"id\":\"3173\",\"type\":\"UnionRenderers\"}},\"id\":\"1284\",\"type\":\"ColumnDataSource\"},{\"attributes\":{\"interval\":100},\"id\":\"1308\",\"type\":\"SingleIntervalTicker\"},{\"attributes\":{},\"id\":\"2064\",\"type\":\"UnionRenderers\"},{\"attributes\":{\"axis_label\":\"Woman Participation (Percentage)\",\"axis_label_text_font_size\":{\"value\":\"10pt\"},\"axis_line_cap\":\"round\",\"axis_line_color\":{\"value\":\"#AAAAAA\"},\"formatter\":{\"id\":\"1335\",\"type\":\"BasicTickFormatter\"},\"major_label_orientation\":0.7853981633974483,\"major_label_text_color\":{\"value\":\"#666666\"},\"major_label_text_font_size\":{\"value\":\"10pt\"},\"major_tick_in\":null,\"major_tick_line_cap\":\"round\",\"major_tick_line_color\":{\"value\":\"#AAAAAA\"},\"minor_tick_in\":null,\"minor_tick_out\":null,\"plot\":{\"id\":\"1301\",\"type\":\"Plot\"},\"ticker\":{\"id\":\"1305\",\"type\":\"SingleIntervalTicker\"}},\"id\":\"1306\",\"type\":\"LinearAxis\"},{\"attributes\":{},\"id\":\"2065\",\"type\":\"Selection\"},{\"attributes\":{\"axis_label\":\"Total Paricipation\",\"axis_label_text_font_size\":{\"value\":\"10pt\"},\"axis_line_cap\":\"round\",\"axis_line_color\":{\"value\":\"#AAAAAA\"},\"formatter\":{\"id\":\"1336\",\"type\":\"BasicTickFormatter\"},\"major_label_text_color\":{\"value\":\"#666666\"},\"major_label_text_font_size\":{\"value\":\"10pt\"},\"major_tick_in\":null,\"major_tick_line_cap\":\"round\",\"major_tick_line_color\":{\"value\":\"#AAAAAA\"},\"minor_tick_in\":null,\"minor_tick_out\":null,\"plot\":{\"id\":\"1301\",\"type\":\"Plot\"},\"ticker\":{\"id\":\"1308\",\"type\":\"SingleIntervalTicker\"}},\"id\":\"1309\",\"type\":\"LinearAxis\"},{\"attributes\":{\"callback\":null,\"renderers\":[{\"id\":\"1470\",\"type\":\"GlyphRenderer\"}],\"tooltips\":[[\"Sport\",\"@Sport\"],[\"% Women Athletes\",\"@woman\"],[\"Number of Total Athletes\",\"@total\"]]},\"id\":\"1570\",\"type\":\"HoverTool\"},{\"attributes\":{\"data_source\":{\"id\":\"1273\",\"type\":\"ColumnDataSource\"},\"glyph\":{\"id\":\"1469\",\"type\":\"Circle\"},\"hover_glyph\":null,\"muted_glyph\":null,\"view\":{\"id\":\"1471\",\"type\":\"CDSView\"}},\"id\":\"1470\",\"type\":\"GlyphRenderer\"},{\"attributes\":{\"callback\":null,\"data\":{},\"selected\":{\"id\":\"2119\",\"type\":\"Selection\"},\"selection_policy\":{\"id\":\"2118\",\"type\":\"UnionRenderers\"}},\"id\":\"2067\",\"type\":\"ColumnDataSource\"},{\"attributes\":{\"callback\":null,\"data\":{\"Sport\":[\"Athletics\",\"Cycling\",\"Fencing\",\"Football\",\"Gymnastics\",\"Rowing\",\"Sailing\",\"Shooting\",\"Swimming\",\"Wrestling\"],\"population\":[28,8,23,8,35,8,8,8,36,8],\"sport_color\":[\"#0C0786\",\"#45039E\",\"#7200A8\",\"#9B179E\",\"#BC3685\",\"#D7566C\",\"#EC7853\",\"#FA9D3A\",\"#FCC726\",\"#EFF821\"],\"total\":{\"__ndarray__\":\"AAAAAAAElUAAAAAAADB+QAAAAAAAoH5AAAAAAAAQcUAAAAAAAGCXQAAAAAAAYHZAAAAAAACAb0AAAAAAAKB5QAAAAAAAPJNAAAAAAADQdEA=\",\"dtype\":\"float64\",\"shape\":[10]},\"woman\":{\"__ndarray__\":\"AAAAAAAAOkAAAAAAAAAAAAAAAAAAADFAAAAAAAAAAAAAAAAAAIBDQAAAAAAAAAAAAAAAAAAAAAAAAAAAAAAAAAAAAAAAgEVAAAAAAAAAAAA=\",\"dtype\":\"float64\",\"shape\":[10]}},\"selected\":{\"id\":\"3178\",\"type\":\"Selection\"},\"selection_policy\":{\"id\":\"3177\",\"type\":\"UnionRenderers\"}},\"id\":\"1286\",\"type\":\"ColumnDataSource\"},{\"attributes\":{},\"id\":\"3156\",\"type\":\"Selection\"},{\"attributes\":{},\"id\":\"1332\",\"type\":\"LinearScale\"},{\"attributes\":{\"data_source\":{\"id\":\"2067\",\"type\":\"ColumnDataSource\"},\"glyph\":{\"id\":\"2066\",\"type\":\"Circle\"},\"hover_glyph\":null,\"muted_glyph\":null,\"view\":{\"id\":\"2069\",\"type\":\"CDSView\"}},\"id\":\"2068\",\"type\":\"GlyphRenderer\"},{\"attributes\":{},\"id\":\"3174\",\"type\":\"Selection\"},{\"attributes\":{\"source\":{\"id\":\"2067\",\"type\":\"ColumnDataSource\"}},\"id\":\"2069\",\"type\":\"CDSView\"},{\"attributes\":{\"active_drag\":\"auto\",\"active_inspect\":\"auto\",\"active_multi\":null,\"active_scroll\":\"auto\",\"active_tap\":\"auto\",\"tools\":[{\"id\":\"1570\",\"type\":\"HoverTool\"}]},\"id\":\"1333\",\"type\":\"Toolbar\"},{\"attributes\":{\"source\":{\"id\":\"1785\",\"type\":\"ColumnDataSource\"}},\"id\":\"1787\",\"type\":\"CDSView\"},{\"attributes\":{},\"id\":\"1334\",\"type\":\"LinearScale\"},{\"attributes\":{\"fill_alpha\":{\"value\":0.8},\"fill_color\":{\"value\":\"#D7566C\"},\"line_color\":{\"value\":null},\"size\":{\"units\":\"screen\",\"value\":10},\"x\":{\"value\":84},\"y\":{\"value\":2030}},\"id\":\"2176\",\"type\":\"Circle\"},{\"attributes\":{},\"id\":\"2118\",\"type\":\"UnionRenderers\"},{\"attributes\":{},\"id\":\"1335\",\"type\":\"BasicTickFormatter\"},{\"attributes\":{},\"id\":\"2119\",\"type\":\"Selection\"},{\"attributes\":{\"callback\":null,\"data\":{\"Sport\":[\"Athletics\",\"Cycling\",\"Fencing\",\"Football\",\"Gymnastics\",\"Rowing\",\"Sailing\",\"Shooting\",\"Swimming\",\"Wrestling\"],\"population\":[8,8,12,8,8,8,8,8,31,8],\"sport_color\":[\"#0C0786\",\"#45039E\",\"#7200A8\",\"#9B179E\",\"#BC3685\",\"#D7566C\",\"#EC7853\",\"#FA9D3A\",\"#FCC726\",\"#EFF821\"],\"total\":{\"__ndarray__\":\"AAAAAABYj0AAAAAAACBvQAAAAAAAgHpAAAAAAABwcUAAAAAAAPCDQAAAAAAAgGhAAAAAAABAUUAAAAAAAMB/QAAAAAAAcHBAAAAAAACAbkA=\",\"dtype\":\"float64\",\"shape\":[10]},\"woman\":{\"__ndarray__\":\"AAAAAAAAAAAAAAAAAAAAAAAAAAAAABRAAAAAAAAAAAAAAAAAAAAAAAAAAAAAAAAAAAAAAAAA8D8AAAAAAAAAAAAAAAAAAD9AAAAAAAAAAAA=\",\"dtype\":\"float64\",\"shape\":[10]}},\"selected\":{\"id\":\"3160\",\"type\":\"Selection\"},\"selection_policy\":{\"id\":\"3159\",\"type\":\"UnionRenderers\"}},\"id\":\"1277\",\"type\":\"ColumnDataSource\"},{\"attributes\":{},\"id\":\"1336\",\"type\":\"BasicTickFormatter\"},{\"attributes\":{\"callback\":null,\"data\":{\"Sport\":[\"Athletics\",\"Cycling\",\"Fencing\",\"Football\",\"Gymnastics\",\"Rowing\",\"Sailing\",\"Shooting\",\"Swimming\",\"Wrestling\"],\"population\":[28,8,23,8,31,8,8,8,34,8],\"sport_color\":[\"#0C0786\",\"#45039E\",\"#7200A8\",\"#9B179E\",\"#BC3685\",\"#D7566C\",\"#EC7853\",\"#FA9D3A\",\"#FCC726\",\"#EFF821\"],\"total\":{\"__ndarray__\":\"AAAAAADclEAAAAAAADB8QAAAAAAAEH5AAAAAAADAakAAAAAAADCXQAAAAAAAoHdAAAAAAAAgbEAAAAAAAIBzQAAAAAAAAIdAAAAAAADgckA=\",\"dtype\":\"float64\",\"shape\":[10]},\"woman\":{\"__ndarray__\":\"AAAAAAAAOUAAAAAAAAAAAAAAAAAAADFAAAAAAAAAAAAAAAAAAAA/QAAAAAAAAAAAAAAAAAAAAAAAAAAAAAAAAAAAAAAAgEJAAAAAAAAAAAA=\",\"dtype\":\"float64\",\"shape\":[10]}},\"selected\":{\"id\":\"3176\",\"type\":\"Selection\"},\"selection_policy\":{\"id\":\"3175\",\"type\":\"UnionRenderers\"}},\"id\":\"1285\",\"type\":\"ColumnDataSource\"},{\"attributes\":{\"below\":[{\"id\":\"1306\",\"type\":\"LinearAxis\"}],\"left\":[{\"id\":\"1309\",\"type\":\"LinearAxis\"}],\"min_border\":40,\"outline_line_color\":{\"value\":null},\"plot_height\":550,\"plot_width\":700,\"renderers\":[{\"id\":\"1306\",\"type\":\"LinearAxis\"},{\"id\":\"1309\",\"type\":\"LinearAxis\"},{\"id\":\"1383\",\"type\":\"GlyphRenderer\"},{\"id\":\"1470\",\"type\":\"GlyphRenderer\"},{\"id\":\"1672\",\"type\":\"GlyphRenderer\"},{\"id\":\"1708\",\"type\":\"GlyphRenderer\"},{\"id\":\"1746\",\"type\":\"GlyphRenderer\"},{\"id\":\"1786\",\"type\":\"GlyphRenderer\"},{\"id\":\"1828\",\"type\":\"GlyphRenderer\"},{\"id\":\"1872\",\"type\":\"GlyphRenderer\"},{\"id\":\"1918\",\"type\":\"GlyphRenderer\"},{\"id\":\"1966\",\"type\":\"GlyphRenderer\"},{\"id\":\"2016\",\"type\":\"GlyphRenderer\"},{\"id\":\"2068\",\"type\":\"GlyphRenderer\"},{\"id\":\"2122\",\"type\":\"GlyphRenderer\"},{\"id\":\"2178\",\"type\":\"GlyphRenderer\"},{\"id\":\"2236\",\"type\":\"GlyphRenderer\"},{\"id\":\"2296\",\"type\":\"GlyphRenderer\"},{\"id\":\"2358\",\"type\":\"GlyphRenderer\"},{\"id\":\"2422\",\"type\":\"GlyphRenderer\"},{\"id\":\"2488\",\"type\":\"GlyphRenderer\"},{\"id\":\"2556\",\"type\":\"GlyphRenderer\"},{\"id\":\"2626\",\"type\":\"GlyphRenderer\"},{\"id\":\"2698\",\"type\":\"GlyphRenderer\"}],\"sizing_mode\":\"scale_width\",\"title\":{\"id\":\"1304\",\"type\":\"Title\"},\"toolbar\":{\"id\":\"1333\",\"type\":\"Toolbar\"},\"toolbar_location\":null,\"x_range\":{\"id\":\"1299\",\"type\":\"Range1d\"},\"x_scale\":{\"id\":\"1334\",\"type\":\"LinearScale\"},\"y_range\":{\"id\":\"1300\",\"type\":\"Range1d\"},\"y_scale\":{\"id\":\"1332\",\"type\":\"LinearScale\"}},\"id\":\"1301\",\"type\":\"Plot\"},{\"attributes\":{},\"id\":\"3159\",\"type\":\"UnionRenderers\"},{\"attributes\":{\"callback\":null,\"data\":{},\"selected\":{\"id\":\"2175\",\"type\":\"Selection\"},\"selection_policy\":{\"id\":\"2174\",\"type\":\"UnionRenderers\"}},\"id\":\"2121\",\"type\":\"ColumnDataSource\"},{\"attributes\":{},\"id\":\"1742\",\"type\":\"UnionRenderers\"},{\"attributes\":{},\"id\":\"3175\",\"type\":\"UnionRenderers\"},{\"attributes\":{},\"id\":\"3154\",\"type\":\"Selection\"},{\"attributes\":{},\"id\":\"3172\",\"type\":\"Selection\"},{\"attributes\":{\"data_source\":{\"id\":\"1707\",\"type\":\"ColumnDataSource\"},\"glyph\":{\"id\":\"1706\",\"type\":\"Circle\"},\"hover_glyph\":null,\"muted_glyph\":null,\"view\":{\"id\":\"1709\",\"type\":\"CDSView\"}},\"id\":\"1708\",\"type\":\"GlyphRenderer\"},{\"attributes\":{\"data_source\":{\"id\":\"2121\",\"type\":\"ColumnDataSource\"},\"glyph\":{\"id\":\"2120\",\"type\":\"Text\"},\"hover_glyph\":null,\"muted_glyph\":null,\"view\":{\"id\":\"2123\",\"type\":\"CDSView\"}},\"id\":\"2122\",\"type\":\"GlyphRenderer\"},{\"attributes\":{\"fill_alpha\":{\"value\":0.8},\"fill_color\":{\"value\":\"#9B179E\"},\"line_color\":{\"value\":null},\"size\":{\"units\":\"screen\",\"value\":10},\"x\":{\"value\":84},\"y\":{\"value\":2230}},\"id\":\"1964\",\"type\":\"Circle\"},{\"attributes\":{},\"id\":\"1705\",\"type\":\"Selection\"},{\"attributes\":{},\"id\":\"3163\",\"type\":\"UnionRenderers\"},{\"attributes\":{\"source\":{\"id\":\"2121\",\"type\":\"ColumnDataSource\"}},\"id\":\"2123\",\"type\":\"CDSView\"},{\"attributes\":{},\"id\":\"1914\",\"type\":\"UnionRenderers\"},{\"attributes\":{},\"id\":\"3153\",\"type\":\"UnionRenderers\"},{\"attributes\":{},\"id\":\"3169\",\"type\":\"UnionRenderers\"},{\"attributes\":{},\"id\":\"3178\",\"type\":\"Selection\"},{\"attributes\":{\"source\":{\"id\":\"1273\",\"type\":\"ColumnDataSource\"}},\"id\":\"1471\",\"type\":\"CDSView\"},{\"attributes\":{\"text\":{\"value\":\"Sailing\"},\"text_color\":{\"value\":\"#666666\"},\"text_font_size\":{\"value\":\"10pt\"},\"x\":{\"value\":85},\"y\":{\"value\":1900}},\"id\":\"2234\",\"type\":\"Text\"},{\"attributes\":{},\"id\":\"2174\",\"type\":\"UnionRenderers\"},{\"attributes\":{},\"id\":\"3155\",\"type\":\"UnionRenderers\"},{\"attributes\":{},\"id\":\"3171\",\"type\":\"UnionRenderers\"},{\"attributes\":{},\"id\":\"2175\",\"type\":\"Selection\"},{\"attributes\":{},\"id\":\"3180\",\"type\":\"Selection\"},{\"attributes\":{\"callback\":null,\"data\":{},\"selected\":{\"id\":\"2233\",\"type\":\"Selection\"},\"selection_policy\":{\"id\":\"2232\",\"type\":\"UnionRenderers\"}},\"id\":\"2177\",\"type\":\"ColumnDataSource\"},{\"attributes\":{},\"id\":\"3181\",\"type\":\"UnionRenderers\"},{\"attributes\":{\"data_source\":{\"id\":\"2177\",\"type\":\"ColumnDataSource\"},\"glyph\":{\"id\":\"2176\",\"type\":\"Circle\"},\"hover_glyph\":null,\"muted_glyph\":null,\"view\":{\"id\":\"2179\",\"type\":\"CDSView\"}},\"id\":\"2178\",\"type\":\"GlyphRenderer\"},{\"attributes\":{\"callback\":null,\"data\":{\"Sport\":[\"Athletics\",\"Cycling\",\"Fencing\",\"Football\",\"Gymnastics\",\"Rowing\",\"Sailing\",\"Shooting\",\"Swimming\",\"Wrestling\"],\"population\":[8,34,34,8,23,25,16,35,30,8],\"sport_color\":[\"#0C0786\",\"#45039E\",\"#7200A8\",\"#9B179E\",\"#BC3685\",\"#D7566C\",\"#EC7853\",\"#FA9D3A\",\"#FCC726\",\"#EFF821\"],\"total\":{\"__ndarray__\":\"AAAAAAAomkAAAAAAALB9QAAAAAAAgHpAAAAAAADAbkAAAAAAABCNQAAAAAAAEH1AAAAAAADAckAAAAAAANiAQAAAAAAAQJNAAAAAAADgcUA=\",\"dtype\":\"float64\",\"shape\":[10]},\"woman\":{\"__ndarray__\":\"AAAAAAAAAAAAAAAAAIBCQAAAAAAAAENAAAAAAAAAAAAAAAAAAAAxQAAAAAAAADVAAAAAAAAAIkAAAAAAAABEQAAAAAAAAD5AAAAAAAAAAAA=\",\"dtype\":\"float64\",\"shape\":[10]}},\"selected\":{\"id\":\"3186\",\"type\":\"Selection\"},\"selection_policy\":{\"id\":\"3185\",\"type\":\"UnionRenderers\"}},\"id\":\"1290\",\"type\":\"ColumnDataSource\"},{\"attributes\":{},\"id\":\"3182\",\"type\":\"Selection\"},{\"attributes\":{\"data_source\":{\"id\":\"1871\",\"type\":\"ColumnDataSource\"},\"glyph\":{\"id\":\"1870\",\"type\":\"Circle\"},\"hover_glyph\":null,\"muted_glyph\":null,\"view\":{\"id\":\"1873\",\"type\":\"CDSView\"}},\"id\":\"1872\",\"type\":\"GlyphRenderer\"},{\"attributes\":{\"source\":{\"id\":\"2177\",\"type\":\"ColumnDataSource\"}},\"id\":\"2179\",\"type\":\"CDSView\"},{\"attributes\":{},\"id\":\"3183\",\"type\":\"UnionRenderers\"},{\"attributes\":{\"fill_alpha\":{\"value\":0.8},\"fill_color\":{\"value\":\"#EC7853\"},\"line_color\":{\"value\":null},\"size\":{\"units\":\"screen\",\"value\":10},\"x\":{\"value\":84},\"y\":{\"value\":1930}},\"id\":\"2294\",\"type\":\"Circle\"},{\"attributes\":{},\"id\":\"3184\",\"type\":\"Selection\"},{\"attributes\":{},\"id\":\"2232\",\"type\":\"UnionRenderers\"},{\"attributes\":{},\"id\":\"3185\",\"type\":\"UnionRenderers\"},{\"attributes\":{},\"id\":\"2233\",\"type\":\"Selection\"},{\"attributes\":{\"callback\":null,\"data\":{\"Sport\":[\"Athletics\",\"Cycling\",\"Fencing\",\"Football\",\"Gymnastics\",\"Rowing\",\"Sailing\",\"Shooting\",\"Swimming\",\"Wrestling\"],\"population\":[30,18,32,8,35,25,19,33,36,8],\"sport_color\":[\"#0C0786\",\"#45039E\",\"#7200A8\",\"#9B179E\",\"#BC3685\",\"#D7566C\",\"#EC7853\",\"#FA9D3A\",\"#FCC726\",\"#EFF821\"],\"total\":{\"__ndarray__\":\"AAAAAAAcoEAAAAAAADCAQAAAAAAAoH9AAAAAAADgcEAAAAAAAASTQAAAAAAAgINAAAAAAABwd0AAAAAAAAiBQAAAAAAAOJlAAAAAAACQfEA=\",\"dtype\":\"float64\",\"shape\":[10]},\"woman\":{\"__ndarray__\":\"AAAAAAAAPkAAAAAAAAAmQAAAAAAAAEFAAAAAAAAAAAAAAAAAAABEQAAAAAAAADRAAAAAAAAAKEAAAAAAAIBBQAAAAAAAAEVAAAAAAAAAAAA=\",\"dtype\":\"float64\",\"shape\":[10]}},\"selected\":{\"id\":\"3188\",\"type\":\"Selection\"},\"selection_policy\":{\"id\":\"3187\",\"type\":\"UnionRenderers\"}},\"id\":\"1291\",\"type\":\"ColumnDataSource\"},{\"attributes\":{},\"id\":\"3186\",\"type\":\"Selection\"},{\"attributes\":{\"callback\":null,\"data\":{},\"selected\":{\"id\":\"2293\",\"type\":\"Selection\"},\"selection_policy\":{\"id\":\"2292\",\"type\":\"UnionRenderers\"}},\"id\":\"2235\",\"type\":\"ColumnDataSource\"},{\"attributes\":{},\"id\":\"3187\",\"type\":\"UnionRenderers\"},{\"attributes\":{\"data_source\":{\"id\":\"2235\",\"type\":\"ColumnDataSource\"},\"glyph\":{\"id\":\"2234\",\"type\":\"Text\"},\"hover_glyph\":null,\"muted_glyph\":null,\"view\":{\"id\":\"2237\",\"type\":\"CDSView\"}},\"id\":\"2236\",\"type\":\"GlyphRenderer\"},{\"attributes\":{},\"id\":\"3162\",\"type\":\"Selection\"},{\"attributes\":{},\"id\":\"3188\",\"type\":\"Selection\"},{\"attributes\":{\"source\":{\"id\":\"2235\",\"type\":\"ColumnDataSource\"}},\"id\":\"2237\",\"type\":\"CDSView\"},{\"attributes\":{},\"id\":\"3189\",\"type\":\"UnionRenderers\"},{\"attributes\":{\"text\":{\"value\":\"Shooting\"},\"text_color\":{\"value\":\"#666666\"},\"text_font_size\":{\"value\":\"10pt\"},\"x\":{\"value\":85},\"y\":{\"value\":1800}},\"id\":\"2356\",\"type\":\"Text\"},{\"attributes\":{},\"id\":\"3190\",\"type\":\"Selection\"},{\"attributes\":{},\"id\":\"2292\",\"type\":\"UnionRenderers\"},{\"attributes\":{\"callback\":null,\"data\":{\"Sport\":[\"Athletics\",\"Cycling\",\"Fencing\",\"Football\",\"Gymnastics\",\"Rowing\",\"Sailing\",\"Shooting\",\"Swimming\",\"Wrestling\"],\"population\":[34,8,8,8,20,8,13,8,15,8],\"sport_color\":[\"#0C0786\",\"#45039E\",\"#7200A8\",\"#9B179E\",\"#BC3685\",\"#D7566C\",\"#EC7853\",\"#FA9D3A\",\"#FCC726\",\"#EFF821\"],\"total\":{\"__ndarray__\":\"AAAAAAAAj0AAAAAAAGBsQAAAAAAA4HpAAAAAAABga0AAAAAAAMCEQAAAAAAA4G5AAAAAAAAAYEAAAAAAAAAAAAAAAAAAYHFAAAAAAAAgZUA=\",\"dtype\":\"float64\",\"shape\":[10]},\"woman\":{\"__ndarray__\":\"AAAAAAAAQ0AAAAAAAAAAAAAAAAAAAPA/AAAAAAAAAAAAAAAAAAAqQAAAAAAAAAAAAAAAAAAAGEAAAAAAAAAAAAAAAAAAACBAAAAAAAAAAAA=\",\"dtype\":\"float64\",\"shape\":[10]}},\"selected\":{\"id\":\"3162\",\"type\":\"Selection\"},\"selection_policy\":{\"id\":\"3161\",\"type\":\"UnionRenderers\"}},\"id\":\"1278\",\"type\":\"ColumnDataSource\"},{\"attributes\":{\"fill_alpha\":{\"value\":0.8},\"fill_color\":{\"value\":\"#7200A8\"},\"line_color\":{\"value\":null},\"size\":{\"units\":\"screen\",\"value\":10},\"x\":{\"value\":84},\"y\":{\"value\":2330}},\"id\":\"1870\",\"type\":\"Circle\"},{\"attributes\":{},\"id\":\"3191\",\"type\":\"UnionRenderers\"},{\"attributes\":{},\"id\":\"2293\",\"type\":\"Selection\"},{\"attributes\":{},\"id\":\"1824\",\"type\":\"UnionRenderers\"},{\"attributes\":{},\"id\":\"3192\",\"type\":\"Selection\"},{\"attributes\":{\"callback\":null,\"data\":{},\"selected\":{\"id\":\"2355\",\"type\":\"Selection\"},\"selection_policy\":{\"id\":\"2354\",\"type\":\"UnionRenderers\"}},\"id\":\"2295\",\"type\":\"ColumnDataSource\"},{\"attributes\":{},\"id\":\"3193\",\"type\":\"UnionRenderers\"},{\"attributes\":{\"data_source\":{\"id\":\"2295\",\"type\":\"ColumnDataSource\"},\"glyph\":{\"id\":\"2294\",\"type\":\"Circle\"},\"hover_glyph\":null,\"muted_glyph\":null,\"view\":{\"id\":\"2297\",\"type\":\"CDSView\"}},\"id\":\"2296\",\"type\":\"GlyphRenderer\"},{\"attributes\":{},\"id\":\"3194\",\"type\":\"Selection\"},{\"attributes\":{\"source\":{\"id\":\"2295\",\"type\":\"ColumnDataSource\"}},\"id\":\"2297\",\"type\":\"CDSView\"},{\"attributes\":{},\"id\":\"3195\",\"type\":\"UnionRenderers\"},{\"attributes\":{\"fill_alpha\":{\"value\":0.8},\"fill_color\":{\"value\":\"#FA9D3A\"},\"line_color\":{\"value\":null},\"size\":{\"units\":\"screen\",\"value\":10},\"x\":{\"value\":84},\"y\":{\"value\":1830}},\"id\":\"2420\",\"type\":\"Circle\"},{\"attributes\":{},\"id\":\"3196\",\"type\":\"Selection\"},{\"attributes\":{},\"id\":\"1869\",\"type\":\"Selection\"},{\"attributes\":{},\"id\":\"2354\",\"type\":\"UnionRenderers\"},{\"attributes\":{},\"id\":\"3197\",\"type\":\"UnionRenderers\"},{\"attributes\":{},\"id\":\"2355\",\"type\":\"Selection\"},{\"attributes\":{},\"id\":\"3198\",\"type\":\"Selection\"},{\"attributes\":{\"callback\":null,\"data\":{},\"selected\":{\"id\":\"2419\",\"type\":\"Selection\"},\"selection_policy\":{\"id\":\"2418\",\"type\":\"UnionRenderers\"}},\"id\":\"2357\",\"type\":\"ColumnDataSource\"},{\"attributes\":{},\"id\":\"3199\",\"type\":\"UnionRenderers\"},{\"attributes\":{\"data_source\":{\"id\":\"2357\",\"type\":\"ColumnDataSource\"},\"glyph\":{\"id\":\"2356\",\"type\":\"Text\"},\"hover_glyph\":null,\"muted_glyph\":null,\"view\":{\"id\":\"2359\",\"type\":\"CDSView\"}},\"id\":\"2358\",\"type\":\"GlyphRenderer\"},{\"attributes\":{},\"id\":\"3200\",\"type\":\"Selection\"},{\"attributes\":{\"callback\":null,\"data\":{},\"selected\":{\"id\":\"1915\",\"type\":\"Selection\"},\"selection_policy\":{\"id\":\"1914\",\"type\":\"UnionRenderers\"}},\"id\":\"1871\",\"type\":\"ColumnDataSource\"},{\"attributes\":{\"source\":{\"id\":\"2357\",\"type\":\"ColumnDataSource\"}},\"id\":\"2359\",\"type\":\"CDSView\"},{\"attributes\":{},\"id\":\"3201\",\"type\":\"UnionRenderers\"},{\"attributes\":{\"text\":{\"value\":\"Swimming\"},\"text_color\":{\"value\":\"#666666\"},\"text_font_size\":{\"value\":\"10pt\"},\"x\":{\"value\":85},\"y\":{\"value\":1700}},\"id\":\"2486\",\"type\":\"Text\"},{\"attributes\":{\"callback\":null,\"data\":{\"Sport\":[\"Athletics\",\"Cycling\",\"Fencing\",\"Football\",\"Gymnastics\",\"Rowing\",\"Sailing\",\"Shooting\",\"Swimming\",\"Wrestling\"],\"population\":[33,21,27,8,36,31,24,31,35,8],\"sport_color\":[\"#0C0786\",\"#45039E\",\"#7200A8\",\"#9B179E\",\"#BC3685\",\"#D7566C\",\"#EC7853\",\"#FA9D3A\",\"#FCC726\",\"#EFF821\"],\"total\":{\"__ndarray__\":\"AAAAAAAMoEAAAAAAALCBQAAAAAAAoHxAAAAAAAAAcUAAAAAAAJyTQAAAAAAAqIRAAAAAAACQe0AAAAAAAKCBQAAAAAAAPJlAAAAAAAAwd0A=\",\"dtype\":\"float64\",\"shape\":[10]},\"woman\":{\"__ndarray__\":\"AAAAAAAAQkAAAAAAAAAuQAAAAAAAADdAAAAAAAAAAAAAAAAAAABFQAAAAAAAAD9AAAAAAAAAM0AAAAAAAAA/QAAAAAAAAERAAAAAAAAAAAA=\",\"dtype\":\"float64\",\"shape\":[10]}},\"selected\":{\"id\":\"3190\",\"type\":\"Selection\"},\"selection_policy\":{\"id\":\"3189\",\"type\":\"UnionRenderers\"}},\"id\":\"1292\",\"type\":\"ColumnDataSource\"},{\"attributes\":{},\"id\":\"3202\",\"type\":\"Selection\"},{\"attributes\":{},\"id\":\"2418\",\"type\":\"UnionRenderers\"},{\"attributes\":{\"children\":[{\"id\":\"3079\",\"type\":\"Slider\"}],\"sizing_mode\":\"scale_width\"},\"id\":\"3476\",\"type\":\"WidgetBox\"},{\"attributes\":{},\"id\":\"2419\",\"type\":\"Selection\"},{\"attributes\":{\"callback\":null,\"data\":{\"Sport\":[\"Athletics\",\"Cycling\",\"Fencing\",\"Football\",\"Gymnastics\",\"Rowing\",\"Sailing\",\"Shooting\",\"Swimming\",\"Wrestling\"],\"population\":[8,8,8,8,8,8,8,8,8,8],\"sport_color\":[\"#0C0786\",\"#45039E\",\"#7200A8\",\"#9B179E\",\"#BC3685\",\"#D7566C\",\"#EC7853\",\"#FA9D3A\",\"#FCC726\",\"#EFF821\"],\"total\":{\"__ndarray__\":\"AAAAAABQiEAAAAAAANBwQAAAAAAAAG5AAAAAAAAAUkAAAAAAANB1QAAAAAAAwFVAAAAAAAAAUEAAAAAAAMB7QAAAAAAAwGJAAAAAAACgYEA=\",\"dtype\":\"float64\",\"shape\":[10]},\"woman\":{\"__ndarray__\":\"AAAAAAAAAAAAAAAAAAAAAAAAAAAAAAAAAAAAAAAAAAAAAAAAAAAAAAAAAAAAAAAAAAAAAAAA8D8AAAAAAAAAAAAAAAAAAAAAAAAAAAAAAAA=\",\"dtype\":\"float64\",\"shape\":[10]}},\"selected\":{\"id\":\"3154\",\"type\":\"Selection\"},\"selection_policy\":{\"id\":\"3153\",\"type\":\"UnionRenderers\"}},\"id\":\"1274\",\"type\":\"ColumnDataSource\"},{\"attributes\":{\"callback\":null,\"data\":{},\"selected\":{\"id\":\"1869\",\"type\":\"Selection\"},\"selection_policy\":{\"id\":\"1868\",\"type\":\"UnionRenderers\"}},\"id\":\"1827\",\"type\":\"ColumnDataSource\"},{\"attributes\":{\"callback\":null,\"data\":{\"Sport\":[\"Athletics\",\"Cycling\",\"Fencing\",\"Football\",\"Gymnastics\",\"Rowing\",\"Sailing\",\"Shooting\",\"Swimming\",\"Wrestling\"],\"population\":[39,39,35,39,36,37,35,36,34,31],\"sport_color\":[\"#0C0786\",\"#45039E\",\"#7200A8\",\"#9B179E\",\"#BC3685\",\"#D7566C\",\"#EC7853\",\"#FA9D3A\",\"#FCC726\",\"#EFF821\"],\"total\":{\"__ndarray__\":\"AAAAAACYo0AAAAAAANiEQAAAAAAAoHVAAAAAAACQfUAAAAAAAOiKQAAAAAAAMIFAAAAAAADAd0AAAAAAAFiBQAAAAAAAgJhAAAAAAACgdUA=\",\"dtype\":\"float64\",\"shape\":[10]},\"woman\":{\"__ndarray__\":\"AAAAAAAASEAAAAAAAABIQAAAAAAAAERAAAAAAAAASUAAAAAAAABFQAAAAAAAAEZAAAAAAACAQ0AAAAAAAABFQAAAAAAAAENAAAAAAAAAQEA=\",\"dtype\":\"float64\",\"shape\":[10]}},\"selected\":{\"id\":\"3202\",\"type\":\"Selection\"},\"selection_policy\":{\"id\":\"3201\",\"type\":\"UnionRenderers\"}},\"id\":\"1298\",\"type\":\"ColumnDataSource\"},{\"attributes\":{\"callback\":null,\"data\":{},\"selected\":{\"id\":\"2485\",\"type\":\"Selection\"},\"selection_policy\":{\"id\":\"2484\",\"type\":\"UnionRenderers\"}},\"id\":\"2421\",\"type\":\"ColumnDataSource\"},{\"attributes\":{\"callback\":null,\"data\":{\"Sport\":[\"Athletics\",\"Cycling\",\"Fencing\",\"Football\",\"Gymnastics\",\"Rowing\",\"Sailing\",\"Shooting\",\"Swimming\",\"Wrestling\"],\"population\":[36,34,27,32,36,34,29,36,31,8],\"sport_color\":[\"#0C0786\",\"#45039E\",\"#7200A8\",\"#9B179E\",\"#BC3685\",\"#D7566C\",\"#EC7853\",\"#FA9D3A\",\"#FCC726\",\"#EFF821\"],\"total\":{\"__ndarray__\":\"AAAAAABIo0AAAAAAAGiDQAAAAAAA0HVAAAAAAABweEAAAAAAAOCRQAAAAAAAiIFAAAAAAAAgeUAAAAAAALiCQAAAAAAANJtAAAAAAACgc0A=\",\"dtype\":\"float64\",\"shape\":[10]},\"woman\":{\"__ndarray__\":\"AAAAAACARUAAAAAAAIBCQAAAAAAAADdAAAAAAAAAQUAAAAAAAIBFQAAAAAAAAENAAAAAAAAAO0AAAAAAAIBEQAAAAAAAAD9AAAAAAAAAAAA=\",\"dtype\":\"float64\",\"shape\":[10]}},\"selected\":{\"id\":\"3194\",\"type\":\"Selection\"},\"selection_policy\":{\"id\":\"3193\",\"type\":\"UnionRenderers\"}},\"id\":\"1294\",\"type\":\"ColumnDataSource\"},{\"attributes\":{\"children\":[{\"id\":\"1301\",\"type\":\"Plot\"}],\"sizing_mode\":\"scale_width\"},\"id\":\"3475\",\"type\":\"Row\"},{\"attributes\":{\"data_source\":{\"id\":\"2421\",\"type\":\"ColumnDataSource\"},\"glyph\":{\"id\":\"2420\",\"type\":\"Circle\"},\"hover_glyph\":null,\"muted_glyph\":null,\"view\":{\"id\":\"2423\",\"type\":\"CDSView\"}},\"id\":\"2422\",\"type\":\"GlyphRenderer\"},{\"attributes\":{\"callback\":null,\"data\":{\"Sport\":[\"Athletics\",\"Cycling\",\"Fencing\",\"Football\",\"Gymnastics\",\"Rowing\",\"Sailing\",\"Shooting\",\"Swimming\",\"Wrestling\"],\"population\":[34,8,8,8,14,8,20,8,13,8],\"sport_color\":[\"#0C0786\",\"#45039E\",\"#7200A8\",\"#9B179E\",\"#BC3685\",\"#D7566C\",\"#EC7853\",\"#FA9D3A\",\"#FCC726\",\"#EFF821\"],\"total\":{\"__ndarray__\":\"AAAAAAB4j0AAAAAAANByQAAAAAAAYIFAAAAAAAAgaUAAAAAAAJiNQAAAAAAAwHVAAAAAAACAZUAAAAAAAEBkQAAAAAAAwHZAAAAAAABAakA=\",\"dtype\":\"float64\",\"shape\":[10]},\"woman\":{\"__ndarray__\":\"AAAAAACAQkAAAAAAAAAAAAAAAAAAAPA/AAAAAAAAAAAAAAAAAAAcQAAAAAAAAAAAAAAAAAAAKkAAAAAAAAAAAAAAAAAAABhAAAAAAAAAAAA=\",\"dtype\":\"float64\",\"shape\":[10]}},\"selected\":{\"id\":\"3166\",\"type\":\"Selection\"},\"selection_policy\":{\"id\":\"3165\",\"type\":\"UnionRenderers\"}},\"id\":\"1280\",\"type\":\"ColumnDataSource\"},{\"attributes\":{\"callback\":null,\"data\":{\"Sport\":[\"Athletics\",\"Cycling\",\"Fencing\",\"Football\",\"Gymnastics\",\"Rowing\",\"Sailing\",\"Shooting\",\"Swimming\",\"Wrestling\"],\"population\":[37,8,37,8,8,8,8,30,24,8],\"sport_color\":[\"#0C0786\",\"#45039E\",\"#7200A8\",\"#9B179E\",\"#BC3685\",\"#D7566C\",\"#EC7853\",\"#FA9D3A\",\"#FCC726\",\"#EFF821\"],\"total\":{\"__ndarray__\":\"AAAAAABYmkAAAAAAAHCAQAAAAAAAMH9AAAAAAADQcEAAAAAAAMCYQAAAAAAAoHtAAAAAAAAwdEAAAAAAAIB9QAAAAAAAvJNAAAAAAACQeUA=\",\"dtype\":\"float64\",\"shape\":[10]},\"woman\":{\"__ndarray__\":\"AAAAAACARkAAAAAAAAAAAAAAAAAAAEZAAAAAAAAAAAAAAAAAAAAAAAAAAAAAAAAAAAAAAAAAAAAAAAAAAAA+QAAAAAAAADNAAAAAAAAAAAA=\",\"dtype\":\"float64\",\"shape\":[10]}},\"selected\":{\"id\":\"3180\",\"type\":\"Selection\"},\"selection_policy\":{\"id\":\"3179\",\"type\":\"UnionRenderers\"}},\"id\":\"1287\",\"type\":\"ColumnDataSource\"},{\"attributes\":{\"children\":[{\"id\":\"3476\",\"type\":\"WidgetBox\"}],\"sizing_mode\":\"scale_width\"},\"id\":\"3477\",\"type\":\"Row\"},{\"attributes\":{\"source\":{\"id\":\"2421\",\"type\":\"ColumnDataSource\"}},\"id\":\"2423\",\"type\":\"CDSView\"},{\"attributes\":{\"callback\":null,\"data\":{\"Sport\":[\"Athletics\",\"Cycling\",\"Fencing\",\"Football\",\"Gymnastics\",\"Rowing\",\"Sailing\",\"Shooting\",\"Swimming\",\"Wrestling\"],\"population\":[8,8,8,8,8,8,8,8,26,8],\"sport_color\":[\"#0C0786\",\"#45039E\",\"#7200A8\",\"#9B179E\",\"#BC3685\",\"#D7566C\",\"#EC7853\",\"#FA9D3A\",\"#FCC726\",\"#EFF821\"],\"total\":{\"__ndarray__\":\"AAAAAACIikAAAAAAAIBqQAAAAAAA4HVAAAAAAADAZ0AAAAAAAHBwQAAAAAAAAGJAAAAAAABAWUAAAAAAADCKQAAAAAAAIGpAAAAAAAAgZEA=\",\"dtype\":\"float64\",\"shape\":[10]},\"woman\":{\"__ndarray__\":\"AAAAAAAAAAAAAAAAAAAAAAAAAAAAAAAAAAAAAAAAAAAAAAAAAAAAAAAAAAAAAAAAAAAAAAAAAAAAAAAAAAAAAAAAAAAAADZAAAAAAAAAAAA=\",\"dtype\":\"float64\",\"shape\":[10]}},\"selected\":{\"id\":\"3158\",\"type\":\"Selection\"},\"selection_policy\":{\"id\":\"3157\",\"type\":\"UnionRenderers\"}},\"id\":\"1276\",\"type\":\"ColumnDataSource\"},{\"attributes\":{\"fill_alpha\":{\"value\":0.8},\"fill_color\":{\"value\":\"#FCC726\"},\"line_color\":{\"value\":null},\"size\":{\"units\":\"screen\",\"value\":10},\"x\":{\"value\":84},\"y\":{\"value\":1730}},\"id\":\"2554\",\"type\":\"Circle\"},{\"attributes\":{},\"id\":\"2484\",\"type\":\"UnionRenderers\"},{\"attributes\":{},\"id\":\"3179\",\"type\":\"UnionRenderers\"},{\"attributes\":{\"source\":{\"id\":\"1827\",\"type\":\"ColumnDataSource\"}},\"id\":\"1829\",\"type\":\"CDSView\"},{\"attributes\":{},\"id\":\"2485\",\"type\":\"Selection\"},{\"attributes\":{\"callback\":null,\"data\":{\"Sport\":[\"Athletics\",\"Cycling\",\"Fencing\",\"Football\",\"Gymnastics\",\"Rowing\",\"Sailing\",\"Shooting\",\"Swimming\",\"Wrestling\"],\"population\":[34,8,26,8,14,8,8,8,34,8],\"sport_color\":[\"#0C0786\",\"#45039E\",\"#7200A8\",\"#9B179E\",\"#BC3685\",\"#D7566C\",\"#EC7853\",\"#FA9D3A\",\"#FCC726\",\"#EFF821\"],\"total\":{\"__ndarray__\":\"AAAAAAAAlUAAAAAAAFB4QAAAAAAA0H9AAAAAAABgckAAAAAAAK6iQAAAAAAAYHlAAAAAAABgbEAAAAAAABByQAAAAAAAMH5AAAAAAABgcEA=\",\"dtype\":\"float64\",\"shape\":[10]},\"woman\":{\"__ndarray__\":\"AAAAAAAAQ0AAAAAAAAAAAAAAAAAAADZAAAAAAAAAAAAAAAAAAAAcQAAAAAAAAAAAAAAAAAAA8D8AAAAAAAAAAAAAAAAAgEJAAAAAAAAAAAA=\",\"dtype\":\"float64\",\"shape\":[10]}},\"selected\":{\"id\":\"3170\",\"type\":\"Selection\"},\"selection_policy\":{\"id\":\"3169\",\"type\":\"UnionRenderers\"}},\"id\":\"1282\",\"type\":\"ColumnDataSource\"},{\"attributes\":{\"callback\":null,\"data\":{\"Sport\":[\"Athletics\",\"Cycling\",\"Fencing\",\"Football\",\"Gymnastics\",\"Rowing\",\"Sailing\",\"Shooting\",\"Swimming\",\"Wrestling\"],\"population\":[24,38,34,32,33,36,39,29,38,36],\"sport_color\":[\"#0C0786\",\"#45039E\",\"#7200A8\",\"#9B179E\",\"#BC3685\",\"#D7566C\",\"#EC7853\",\"#FA9D3A\",\"#FCC726\",\"#EFF821\"],\"total\":{\"__ndarray__\":\"AAAAAACIoUAAAAAAAGCEQAAAAAAAwHRAAAAAAABQfUAAAAAAACCPQAAAAAAAmIFAAAAAAAAAeUAAAAAAAAiCQAAAAAAAVJtAAAAAAABwdUA=\",\"dtype\":\"float64\",\"shape\":[10]},\"woman\":{\"__ndarray__\":\"AAAAAAAAM0AAAAAAAIBHQAAAAAAAgEJAAAAAAAAAQUAAAAAAAIBBQAAAAAAAgERAAAAAAACASEAAAAAAAAA8QAAAAAAAgEdAAAAAAACARUA=\",\"dtype\":\"float64\",\"shape\":[10]}},\"selected\":{\"id\":\"3198\",\"type\":\"Selection\"},\"selection_policy\":{\"id\":\"3197\",\"type\":\"UnionRenderers\"}},\"id\":\"1296\",\"type\":\"ColumnDataSource\"},{\"attributes\":{\"callback\":null,\"data\":{\"Sport\":[\"Athletics\",\"Cycling\",\"Fencing\",\"Football\",\"Gymnastics\",\"Rowing\",\"Sailing\",\"Shooting\",\"Swimming\",\"Wrestling\"],\"population\":[25,39,30,32,29,31,35,34,36,8],\"sport_color\":[\"#0C0786\",\"#45039E\",\"#7200A8\",\"#9B179E\",\"#BC3685\",\"#D7566C\",\"#EC7853\",\"#FA9D3A\",\"#FCC726\",\"#EFF821\"],\"total\":{\"__ndarray__\":\"AAAAAACkokAAAAAAAECCQAAAAAAAQHhAAAAAAABAeEAAAAAAANSVQAAAAAAAaINAAAAAAACgfEAAAAAAACCDQAAAAAAAjJlAAAAAAAAQeUA=\",\"dtype\":\"float64\",\"shape\":[10]},\"woman\":{\"__ndarray__\":\"AAAAAAAANUAAAAAAAABIQAAAAAAAAD5AAAAAAAAAQUAAAAAAAAA7QAAAAAAAAD9AAAAAAACAQ0AAAAAAAIBCQAAAAAAAgERAAAAAAAAAAAA=\",\"dtype\":\"float64\",\"shape\":[10]}},\"selected\":{\"id\":\"3192\",\"type\":\"Selection\"},\"selection_policy\":{\"id\":\"3191\",\"type\":\"UnionRenderers\"}},\"id\":\"1293\",\"type\":\"ColumnDataSource\"},{\"attributes\":{\"callback\":null,\"data\":{},\"selected\":{\"id\":\"2553\",\"type\":\"Selection\"},\"selection_policy\":{\"id\":\"2552\",\"type\":\"UnionRenderers\"}},\"id\":\"2487\",\"type\":\"ColumnDataSource\"},{\"attributes\":{\"callback\":null,\"data\":{\"Sport\":[\"Athletics\",\"Cycling\",\"Fencing\",\"Football\",\"Gymnastics\",\"Rowing\",\"Sailing\",\"Shooting\",\"Swimming\",\"Wrestling\"],\"population\":[8,8,8,8,8,8,8,8,25,8],\"sport_color\":[\"#0C0786\",\"#45039E\",\"#7200A8\",\"#9B179E\",\"#BC3685\",\"#D7566C\",\"#EC7853\",\"#FA9D3A\",\"#FCC726\",\"#EFF821\"],\"total\":{\"__ndarray__\":\"AAAAAAAQjkAAAAAAAEBuQAAAAAAAsHdAAAAAAABgZEAAAAAAAGBzQAAAAAAAoGhAAAAAAABAW0AAAAAAANCIQAAAAAAAIGlAAAAAAABAZUA=\",\"dtype\":\"float64\",\"shape\":[10]},\"woman\":{\"__ndarray__\":\"AAAAAAAAAAAAAAAAAAAAAAAAAAAAAAAAAAAAAAAAAAAAAAAAAAAAAAAAAAAAAAAAAAAAAAAAAAAAAAAAAAAAAAAAAAAAADVAAAAAAAAAAAA=\",\"dtype\":\"float64\",\"shape\":[10]}},\"selected\":{\"id\":\"3156\",\"type\":\"Selection\"},\"selection_policy\":{\"id\":\"3155\",\"type\":\"UnionRenderers\"}},\"id\":\"1275\",\"type\":\"ColumnDataSource\"},{\"attributes\":{\"data_source\":{\"id\":\"2487\",\"type\":\"ColumnDataSource\"},\"glyph\":{\"id\":\"2486\",\"type\":\"Text\"},\"hover_glyph\":null,\"muted_glyph\":null,\"view\":{\"id\":\"2489\",\"type\":\"CDSView\"}},\"id\":\"2488\",\"type\":\"GlyphRenderer\"},{\"attributes\":{\"callback\":null,\"data\":{\"Sport\":[\"Athletics\",\"Cycling\",\"Fencing\",\"Football\",\"Gymnastics\",\"Rowing\",\"Sailing\",\"Shooting\",\"Swimming\",\"Wrestling\"],\"population\":[34,39,35,26,33,39,36,34,39,37],\"sport_color\":[\"#0C0786\",\"#45039E\",\"#7200A8\",\"#9B179E\",\"#BC3685\",\"#D7566C\",\"#EC7853\",\"#FA9D3A\",\"#FCC726\",\"#EFF821\"],\"total\":{\"__ndarray__\":\"AAAAAADMoUAAAAAAAKiDQAAAAAAAkHVAAAAAAAAwfUAAAAAAAICKQAAAAAAAMIFAAAAAAACwd0AAAAAAAICBQAAAAAAACJhAAAAAAAAwdUA=\",\"dtype\":\"float64\",\"shape\":[10]},\"woman\":{\"__ndarray__\":\"AAAAAACAQkAAAAAAAABJQAAAAAAAAERAAAAAAAAANkAAAAAAAIBBQAAAAAAAAElAAAAAAAAARUAAAAAAAABDQAAAAAAAAEhAAAAAAACARkA=\",\"dtype\":\"float64\",\"shape\":[10]}},\"selected\":{\"id\":\"3200\",\"type\":\"Selection\"},\"selection_policy\":{\"id\":\"3199\",\"type\":\"UnionRenderers\"}},\"id\":\"1297\",\"type\":\"ColumnDataSource\"},{\"attributes\":{\"data_source\":{\"id\":\"1827\",\"type\":\"ColumnDataSource\"},\"glyph\":{\"id\":\"1826\",\"type\":\"Text\"},\"hover_glyph\":null,\"muted_glyph\":null,\"view\":{\"id\":\"1829\",\"type\":\"CDSView\"}},\"id\":\"1828\",\"type\":\"GlyphRenderer\"},{\"attributes\":{\"source\":{\"id\":\"2487\",\"type\":\"ColumnDataSource\"}},\"id\":\"2489\",\"type\":\"CDSView\"},{\"attributes\":{\"callback\":null,\"data\":{\"Sport\":[\"Athletics\",\"Cycling\",\"Fencing\",\"Football\",\"Gymnastics\",\"Rowing\",\"Sailing\",\"Shooting\",\"Swimming\",\"Wrestling\"],\"population\":[32,21,37,33,32,38,35,33,29,37],\"sport_color\":[\"#0C0786\",\"#45039E\",\"#7200A8\",\"#9B179E\",\"#BC3685\",\"#D7566C\",\"#EC7853\",\"#FA9D3A\",\"#FCC726\",\"#EFF821\"],\"total\":{\"__ndarray__\":\"AAAAAAD+oEAAAAAAAHiDQAAAAAAAMHRAAAAAAACQekAAAAAAAPyRQAAAAAAAeIFAAAAAAAAQeUAAAAAAAHCBQAAAAAAASJlAAAAAAABgdUA=\",\"dtype\":\"float64\",\"shape\":[10]},\"woman\":{\"__ndarray__\":\"AAAAAAAAQUAAAAAAAAAsQAAAAAAAgEZAAAAAAACAQUAAAAAAAABBQAAAAAAAAEdAAAAAAACAQ0AAAAAAAABCQAAAAAAAADxAAAAAAAAARkA=\",\"dtype\":\"float64\",\"shape\":[10]}},\"selected\":{\"id\":\"3196\",\"type\":\"Selection\"},\"selection_policy\":{\"id\":\"3195\",\"type\":\"UnionRenderers\"}},\"id\":\"1295\",\"type\":\"ColumnDataSource\"},{\"attributes\":{\"text\":{\"value\":\"Wrestling\"},\"text_color\":{\"value\":\"#666666\"},\"text_font_size\":{\"value\":\"10pt\"},\"x\":{\"value\":85},\"y\":{\"value\":1600}},\"id\":\"2624\",\"type\":\"Text\"},{\"attributes\":{\"callback\":null,\"data\":{\"Sport\":[\"Athletics\",\"Cycling\",\"Fencing\",\"Football\",\"Gymnastics\",\"Rowing\",\"Sailing\",\"Shooting\",\"Swimming\",\"Wrestling\"],\"population\":[26,8,14,8,15,8,8,8,33,8],\"sport_color\":[\"#0C0786\",\"#45039E\",\"#7200A8\",\"#9B179E\",\"#BC3685\",\"#D7566C\",\"#EC7853\",\"#FA9D3A\",\"#FCC726\",\"#EFF821\"],\"total\":{\"__ndarray__\":\"AAAAAABskEAAAAAAAAB0QAAAAAAAwH9AAAAAAABAa0AAAAAAAJCQQAAAAAAA4HNAAAAAAABAZ0AAAAAAAABrQAAAAAAA4HhAAAAAAACgbEA=\",\"dtype\":\"float64\",\"shape\":[10]},\"woman\":{\"__ndarray__\":\"AAAAAAAANkAAAAAAAAAAAAAAAAAAABxAAAAAAAAAAAAAAAAAAAAgQAAAAAAAAAAAAAAAAAAAAAAAAAAAAAAAAAAAAAAAAEJAAAAAAAAAAAA=\",\"dtype\":\"float64\",\"shape\":[10]}},\"selected\":{\"id\":\"3168\",\"type\":\"Selection\"},\"selection_policy\":{\"id\":\"3167\",\"type\":\"UnionRenderers\"}},\"id\":\"1281\",\"type\":\"ColumnDataSource\"},{\"attributes\":{},\"id\":\"1868\",\"type\":\"UnionRenderers\"},{\"attributes\":{\"callback\":null,\"data\":{\"Sport\":[\"Athletics\",\"Cycling\",\"Fencing\",\"Football\",\"Gymnastics\",\"Rowing\",\"Sailing\",\"Shooting\",\"Swimming\",\"Wrestling\"],\"population\":[21,8,15,8,8,8,8,8,35,8],\"sport_color\":[\"#0C0786\",\"#45039E\",\"#7200A8\",\"#9B179E\",\"#BC3685\",\"#D7566C\",\"#EC7853\",\"#FA9D3A\",\"#FCC726\",\"#EFF821\"],\"total\":{\"__ndarray__\":\"AAAAAABQgEAAAAAAAEBbQAAAAAAAAGhAAAAAAAAAAAAAAAAAAGBiQAAAAAAAwGRAAAAAAACATEAAAAAAAABGQAAAAAAAYGhAAAAAAACAVkA=\",\"dtype\":\"float64\",\"shape\":[10]},\"woman\":{\"__ndarray__\":\"AAAAAAAALkAAAAAAAAAAAAAAAAAAACBAAAAAAAAAAAAAAAAAAAAAAAAAAAAAAAAAAAAAAAAAAAAAAAAAAAAAAAAAAAAAgENAAAAAAAAAAAA=\",\"dtype\":\"float64\",\"shape\":[10]}},\"selected\":{\"id\":\"3164\",\"type\":\"Selection\"},\"selection_policy\":{\"id\":\"3163\",\"type\":\"UnionRenderers\"}},\"id\":\"1279\",\"type\":\"ColumnDataSource\"}],\"root_ids\":[\"3478\"]},\"title\":\"Bokeh Application\",\"version\":\"1.0.4\"}};\n",
       "  var render_items = [{\"docid\":\"f984fa02-9760-4e54-835e-795b6186d8bc\",\"roots\":{\"3478\":\"7e0714f1-eb74-4d15-a5fb-773f7c807cb4\"}}];\n",
       "  root.Bokeh.embed.embed_items_notebook(docs_json, render_items);\n",
       "\n",
       "  }\n",
       "  if (root.Bokeh !== undefined) {\n",
       "    embed_document(root);\n",
       "  } else {\n",
       "    var attempts = 0;\n",
       "    var timer = setInterval(function(root) {\n",
       "      if (root.Bokeh !== undefined) {\n",
       "        embed_document(root);\n",
       "        clearInterval(timer);\n",
       "      }\n",
       "      attempts++;\n",
       "      if (attempts > 100) {\n",
       "        console.log(\"Bokeh: ERROR: Unable to run BokehJS code because BokehJS library is missing\");\n",
       "        clearInterval(timer);\n",
       "      }\n",
       "    }, 10, root)\n",
       "  }\n",
       "})(window);"
      ],
      "application/vnd.bokehjs_exec.v0+json": ""
     },
     "metadata": {
      "application/vnd.bokehjs_exec.v0+json": {
       "id": "3478"
      }
     },
     "output_type": "display_data"
    }
   ],
   "source": [
    "show(layout([[plot], [slider]], sizing_mode='scale_width'))"
   ]
  },
  {
   "cell_type": "markdown",
   "metadata": {},
   "source": [
    "#### Explanation: \n",
    "In this visualization I am exmaining how female participation compares to total participation overtime for the top 10 Sports in the Summer Olympics with the most athlete participation. The visualization shows the percentage of woman athletes on the x-axis, and on the y-axis the total number of athlete participation. I chose to do analysis on this question because I thought it would be interesting to see how women participation in the most \"popular\" Summer Olympic sports has changed overtime. \n",
    "\n",
    "What I mean by top 10 summer olympic sports is the sports with the most athlete participation. The top 10 Summer Olympic sports include Athletics, Cycling, Fencing, Football, Gymnastics, Rowing, Sailing, Shooting, Swimming, and Wrestling. This plot shows how women participation in the top 10 Summer Olympic sports compare to the total participation for each sport. \n",
    "\n",
    "The colors of the bubbles represent that top 10 most popular sport, and the size of the bubbles coorespond to the percentage of women athletes who participated. Therefore, as the size of the bubbles increase so will the percentage of women athletes participating in a given sport (bubbles will move further along the x-axis). \n",
    "\n",
    "\n",
    "*Findings*: \n",
    "\n",
    "Overall, there has been an increase in women athlete participation in the top 10 most popular Summer Olympics sports overtime. Women participation in the top 10 most popular sports began in 1900. In 1900, women were only represented in Sailing. Women represented 1 percent of the 64 total number of athletes participating in the Sport. In 1912 women were not represented in any sport but Swimming. Out of the total participation, women represented 21 percent of athletes participating. \n",
    "\n",
    "In 1928, among the top 10 sports, women were represented in 5 of the 10 most popular sports: Fencing, Swimming, Sailing, Gymnastics, and Athletics. This year represents the most widespread representation of women across sport categories seen so far. As well, the percentage of woman athletes competing in Athletics was at 38 percent. This is the highest percentage of women athlete participation seen so far in the dataset. Comparatively,  in 2016, the most recent year in the dataset, women make up 48 percent of the athletes that participate in the Athletic sport category. \n",
    "\n",
    "In 1932, in the 5 sports mentioned above, Fencing, Swimming, Sailing, Gymnastics, and Athletics, there was a drop in women participation in 3 of these 5 sports. Swimming and Fencing had an increase in women participation. In the Swimming category, women made up 39 percent of the athletes competing in 1932. Im1928 women made up 8 percent of the athletes participating in Swimming. As well, women participation in Fencing went from 1 percent, in 1928, to 8 percent participation in 1932. Athletic category droped from 38 percent women representation in 1928 to 15 percent women representation in 1932. Sailing and Gymnastics went down to 0 percent women participation. \n",
    "\n",
    "It was not until 2004, when women began participating in all 10 sports. This is very surpising that it took 104 years for women to be represented in all 10 of the most popular sports. The sport category that took the longest for women to infilitrate was Wresting. In 2004 women began participating in Wresting. This is 104 years since 1900 when women began participating in the olympics! The second sport that took the longest for women to participate in was Football. In 1996 women athletes began participating in Football. The most recent data in this dataset shows that in 2016, for the Football category, 50 percent of athletes were women, and 32 percent of participation for the Wrestling are women athletes. \n",
    "\n",
    "It is interesting to note that there are no sport categories where women athlete participation increased continually, or stayed relatively constant, year after year. There are fluctuations in percent women representation across sports categories. Overall, the sports categories gained popularily globally, in terms of more athletes participating, overtime and woman began participating more in these sports. "
   ]
  }
 ],
 "metadata": {
  "kernelspec": {
   "display_name": "Python 3",
   "language": "python",
   "name": "python3"
  },
  "language_info": {
   "codemirror_mode": {
    "name": "ipython",
    "version": 3
   },
   "file_extension": ".py",
   "mimetype": "text/x-python",
   "name": "python",
   "nbconvert_exporter": "python",
   "pygments_lexer": "ipython3",
   "version": "3.6.8"
  }
 },
 "nbformat": 4,
 "nbformat_minor": 4
}
